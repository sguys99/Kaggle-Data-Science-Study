{
 "cells": [
  {
   "cell_type": "markdown",
   "metadata": {},
   "source": [
    "# Titanic: Machine Learning from Disaster\n",
    "<h3> Predict survival on the Titanic </h3>\n",
    "<h4> KwangMyung Yu, Senior Researcher, Korea Electric Power Corporation</h4>"
   ]
  },
  {
   "cell_type": "markdown",
   "metadata": {},
   "source": [
    "<h3>Problem analysis</h3>\n",
    "\n",
    "<p> In this challenge, we ask you to complete the analysis of what sorts of people were likely to survive. In particular, we ask you to apply the tools of machine learning to predict which passengers survived the tragedy.</p><br />\n",
    "<p> RMS 타이타닉 침몰 사고 시 구명정이 탑승 승객보다 적었기 때문에 일부 사람들만 생존할 수 있었다.<br />\n",
    "승객 중 어떤 그룹의 사람들은 다른 그룹들보다 생존할 확률이 높았다. ex)여성, 아이들, 상류층<br />\n",
    "타이타닉호 탑승 승객 데이터를 학습하여 탑승자 정보가 들어왔을 때 생존 혹은 사망할 확률을 예측한다.</p>"
   ]
  },
  {
   "cell_type": "markdown",
   "metadata": {},
   "source": [
    "문제 해결을 위해 다음의 단계를 거치게 된다."
   ]
  },
  {
   "cell_type": "markdown",
   "metadata": {},
   "source": [
    "1. 데이터 셋 확인  \n",
    " - 데이터에 Null 값, 이상치 등이 포함되어 있는지 확인한다.  \n",
    "2. 탐색적 데이터 분석(Expolatory data analysis)  \n",
    " - 피쳐(feature) 값의 특성을 분석하고, 서로 간의 상관관계를 확인한다.  \n",
    "3. 특성공학(Feature engineering)  \n",
    " - 머신러닝 모델의 성능을 향상 시키기 위해 데이터를 전처리한다.  \n",
    "4. 모델 생성, 학습, 튜닝, 그리고 평가\n",
    " - 머신러닝 모델을 생성하여 전처리된 train 데이터로 학습시킨다.  \n",
    " - 학습된 모델에 test 데이터를 입력하여 생존자를 예측한다.  \n",
    " - 모델의 하이퍼 파라미터를 조정하여 어느정도 성능이 향상되었는지 평가한다"
   ]
  },
  {
   "cell_type": "code",
   "execution_count": null,
   "metadata": {},
   "outputs": [],
   "source": []
  },
  {
   "cell_type": "markdown",
   "metadata": {},
   "source": [
    "## 1. 데이터 셋 확인"
   ]
  },
  {
   "cell_type": "markdown",
   "metadata": {},
   "source": [
    "- 주피터 노트북이 동작하고 있는 경로에 'data'라는 폴더를 생성하고, 분석에 사용되는 train.csv, test.csv 파일을 저장한다.\n",
    "- 그리고 분석에 사용되는 라이브러리들을 import 한다"
   ]
  },
  {
   "cell_type": "code",
   "execution_count": 1,
   "metadata": {},
   "outputs": [],
   "source": [
    "import numpy as np\n",
    "import pandas as pd\n",
    "import matplotlib.pyplot as plt\n",
    "import seaborn as sns\n",
    "%matplotlib inline\n",
    "sns.set() # seaborn...\n",
    "import sklearn"
   ]
  },
  {
   "cell_type": "code",
   "execution_count": 2,
   "metadata": {},
   "outputs": [],
   "source": [
    "train = pd.read_csv('data/train.csv')\n",
    "test = pd.read_csv('data/test.csv') #분석용 데이터를 읽어온다."
   ]
  },
  {
   "cell_type": "markdown",
   "metadata": {},
   "source": [
    "- train.csv : 학습에 사용되는 파일\n",
    "- test.csv : 학습한 모델로 생존자를 예측하기 위해 사용되는 파일"
   ]
  },
  {
   "cell_type": "markdown",
   "metadata": {},
   "source": [
    "각 데이터 셋의 크기를 확인한다."
   ]
  },
  {
   "cell_type": "code",
   "execution_count": 3,
   "metadata": {},
   "outputs": [
    {
     "data": {
      "text/plain": [
       "(891, 12)"
      ]
     },
     "execution_count": 3,
     "metadata": {},
     "output_type": "execute_result"
    }
   ],
   "source": [
    "train.shape #11개의 피쳐, 1개의 타겟, 891개의 샘플"
   ]
  },
  {
   "cell_type": "code",
   "execution_count": 4,
   "metadata": {},
   "outputs": [
    {
     "data": {
      "text/plain": [
       "(418, 11)"
      ]
     },
     "execution_count": 4,
     "metadata": {},
     "output_type": "execute_result"
    }
   ],
   "source": [
    "test.shape #11개의 피쳐, 타겟 없음, 418개의 샘플"
   ]
  },
  {
   "cell_type": "markdown",
   "metadata": {},
   "source": [
    "head() 메서드로 어떤 피쳐 값이 있는지 확인한다."
   ]
  },
  {
   "cell_type": "code",
   "execution_count": 5,
   "metadata": {},
   "outputs": [
    {
     "data": {
      "text/html": [
       "<div>\n",
       "<style scoped>\n",
       "    .dataframe tbody tr th:only-of-type {\n",
       "        vertical-align: middle;\n",
       "    }\n",
       "\n",
       "    .dataframe tbody tr th {\n",
       "        vertical-align: top;\n",
       "    }\n",
       "\n",
       "    .dataframe thead th {\n",
       "        text-align: right;\n",
       "    }\n",
       "</style>\n",
       "<table border=\"1\" class=\"dataframe\">\n",
       "  <thead>\n",
       "    <tr style=\"text-align: right;\">\n",
       "      <th></th>\n",
       "      <th>PassengerId</th>\n",
       "      <th>Survived</th>\n",
       "      <th>Pclass</th>\n",
       "      <th>Name</th>\n",
       "      <th>Sex</th>\n",
       "      <th>Age</th>\n",
       "      <th>SibSp</th>\n",
       "      <th>Parch</th>\n",
       "      <th>Ticket</th>\n",
       "      <th>Fare</th>\n",
       "      <th>Cabin</th>\n",
       "      <th>Embarked</th>\n",
       "    </tr>\n",
       "  </thead>\n",
       "  <tbody>\n",
       "    <tr>\n",
       "      <th>0</th>\n",
       "      <td>1</td>\n",
       "      <td>0</td>\n",
       "      <td>3</td>\n",
       "      <td>Braund, Mr. Owen Harris</td>\n",
       "      <td>male</td>\n",
       "      <td>22.0</td>\n",
       "      <td>1</td>\n",
       "      <td>0</td>\n",
       "      <td>A/5 21171</td>\n",
       "      <td>7.2500</td>\n",
       "      <td>NaN</td>\n",
       "      <td>S</td>\n",
       "    </tr>\n",
       "    <tr>\n",
       "      <th>1</th>\n",
       "      <td>2</td>\n",
       "      <td>1</td>\n",
       "      <td>1</td>\n",
       "      <td>Cumings, Mrs. John Bradley (Florence Briggs Th...</td>\n",
       "      <td>female</td>\n",
       "      <td>38.0</td>\n",
       "      <td>1</td>\n",
       "      <td>0</td>\n",
       "      <td>PC 17599</td>\n",
       "      <td>71.2833</td>\n",
       "      <td>C85</td>\n",
       "      <td>C</td>\n",
       "    </tr>\n",
       "    <tr>\n",
       "      <th>2</th>\n",
       "      <td>3</td>\n",
       "      <td>1</td>\n",
       "      <td>3</td>\n",
       "      <td>Heikkinen, Miss. Laina</td>\n",
       "      <td>female</td>\n",
       "      <td>26.0</td>\n",
       "      <td>0</td>\n",
       "      <td>0</td>\n",
       "      <td>STON/O2. 3101282</td>\n",
       "      <td>7.9250</td>\n",
       "      <td>NaN</td>\n",
       "      <td>S</td>\n",
       "    </tr>\n",
       "  </tbody>\n",
       "</table>\n",
       "</div>"
      ],
      "text/plain": [
       "   PassengerId  Survived  Pclass  \\\n",
       "0            1         0       3   \n",
       "1            2         1       1   \n",
       "2            3         1       3   \n",
       "\n",
       "                                                Name     Sex   Age  SibSp  \\\n",
       "0                            Braund, Mr. Owen Harris    male  22.0      1   \n",
       "1  Cumings, Mrs. John Bradley (Florence Briggs Th...  female  38.0      1   \n",
       "2                             Heikkinen, Miss. Laina  female  26.0      0   \n",
       "\n",
       "   Parch            Ticket     Fare Cabin Embarked  \n",
       "0      0         A/5 21171   7.2500   NaN        S  \n",
       "1      0          PC 17599  71.2833   C85        C  \n",
       "2      0  STON/O2. 3101282   7.9250   NaN        S  "
      ]
     },
     "execution_count": 5,
     "metadata": {},
     "output_type": "execute_result"
    }
   ],
   "source": [
    "train.head(3)"
   ]
  },
  {
   "cell_type": "markdown",
   "metadata": {},
   "source": [
    "info() 메서드를 사용하여 각 컬럼 값의 정보를 살펴본다."
   ]
  },
  {
   "cell_type": "code",
   "execution_count": 6,
   "metadata": {},
   "outputs": [
    {
     "name": "stdout",
     "output_type": "stream",
     "text": [
      "<class 'pandas.core.frame.DataFrame'>\n",
      "RangeIndex: 891 entries, 0 to 890\n",
      "Data columns (total 12 columns):\n",
      "PassengerId    891 non-null int64\n",
      "Survived       891 non-null int64\n",
      "Pclass         891 non-null int64\n",
      "Name           891 non-null object\n",
      "Sex            891 non-null object\n",
      "Age            714 non-null float64\n",
      "SibSp          891 non-null int64\n",
      "Parch          891 non-null int64\n",
      "Ticket         891 non-null object\n",
      "Fare           891 non-null float64\n",
      "Cabin          204 non-null object\n",
      "Embarked       889 non-null object\n",
      "dtypes: float64(2), int64(5), object(5)\n",
      "memory usage: 83.6+ KB\n"
     ]
    }
   ],
   "source": [
    "train.info()"
   ]
  },
  {
   "cell_type": "markdown",
   "metadata": {},
   "source": [
    "각 피쳐의 자료형과 개수 등을 확인할 수 있다.  \n",
    "일부 컬럼에는 데이터가 누락된 것도 확인된다.(Age, Cabin, Embarked)"
   ]
  },
  {
   "cell_type": "markdown",
   "metadata": {},
   "source": [
    "예측해야할 타겟 컬럼은 'Survived'이고, 나머지 컬럼은 피쳐 값이다."
   ]
  },
  {
   "cell_type": "markdown",
   "metadata": {},
   "source": [
    "각 피쳐 값에 대한 설명은 다음과 같다.  \n",
    "- PassengerId(승객번호) : 각 승객을 순번대로 번호를 지정, 정수형  \n",
    "- Survived(생존여부) : 타겟 라벨, 0 = 사망, 1 = 생존, 정수형  \n",
    "- Pclass(티켓등급) : 1 = 1등급, 2 = 2등급, 3 = 3등급, 정수형  \n",
    "- Name(이름) : Object\n",
    "- Sex(성별) : male = 남성, female = 여성, Object  \n",
    "- Age(나이) : 실수형\n",
    "- SibSp(동승한 형제/배우자 수) : 정수형\n",
    "- Parch(동승한 부모/자녀 수) : 정수형\n",
    "- Ticket(티켓번호) : Object(알파벳+정수)  \n",
    "- Fare(티켓요금) : 실수형  \n",
    "- Cabin(객실번호) : Object(알파벳+정수) \n",
    "- Embarked(탑승한 항구) : C = Cherbourg, Q = Queenstown, S = Southampton, Object(문자열)"
   ]
  },
  {
   "cell_type": "markdown",
   "metadata": {},
   "source": [
    "describe() 메서드를 사용하여 각 컬럼의 통계 정보를 확인한다.  \n",
    "통계치를 계산하므로 정수형, 실수형 값으로 정의된 컬럼의 정보만 리턴한다."
   ]
  },
  {
   "cell_type": "code",
   "execution_count": 7,
   "metadata": {},
   "outputs": [
    {
     "data": {
      "text/html": [
       "<div>\n",
       "<style scoped>\n",
       "    .dataframe tbody tr th:only-of-type {\n",
       "        vertical-align: middle;\n",
       "    }\n",
       "\n",
       "    .dataframe tbody tr th {\n",
       "        vertical-align: top;\n",
       "    }\n",
       "\n",
       "    .dataframe thead th {\n",
       "        text-align: right;\n",
       "    }\n",
       "</style>\n",
       "<table border=\"1\" class=\"dataframe\">\n",
       "  <thead>\n",
       "    <tr style=\"text-align: right;\">\n",
       "      <th></th>\n",
       "      <th>PassengerId</th>\n",
       "      <th>Survived</th>\n",
       "      <th>Pclass</th>\n",
       "      <th>Age</th>\n",
       "      <th>SibSp</th>\n",
       "      <th>Parch</th>\n",
       "      <th>Fare</th>\n",
       "    </tr>\n",
       "  </thead>\n",
       "  <tbody>\n",
       "    <tr>\n",
       "      <th>count</th>\n",
       "      <td>891.000000</td>\n",
       "      <td>891.000000</td>\n",
       "      <td>891.000000</td>\n",
       "      <td>714.000000</td>\n",
       "      <td>891.000000</td>\n",
       "      <td>891.000000</td>\n",
       "      <td>891.000000</td>\n",
       "    </tr>\n",
       "    <tr>\n",
       "      <th>mean</th>\n",
       "      <td>446.000000</td>\n",
       "      <td>0.383838</td>\n",
       "      <td>2.308642</td>\n",
       "      <td>29.699118</td>\n",
       "      <td>0.523008</td>\n",
       "      <td>0.381594</td>\n",
       "      <td>32.204208</td>\n",
       "    </tr>\n",
       "    <tr>\n",
       "      <th>std</th>\n",
       "      <td>257.353842</td>\n",
       "      <td>0.486592</td>\n",
       "      <td>0.836071</td>\n",
       "      <td>14.526497</td>\n",
       "      <td>1.102743</td>\n",
       "      <td>0.806057</td>\n",
       "      <td>49.693429</td>\n",
       "    </tr>\n",
       "    <tr>\n",
       "      <th>min</th>\n",
       "      <td>1.000000</td>\n",
       "      <td>0.000000</td>\n",
       "      <td>1.000000</td>\n",
       "      <td>0.420000</td>\n",
       "      <td>0.000000</td>\n",
       "      <td>0.000000</td>\n",
       "      <td>0.000000</td>\n",
       "    </tr>\n",
       "    <tr>\n",
       "      <th>25%</th>\n",
       "      <td>223.500000</td>\n",
       "      <td>0.000000</td>\n",
       "      <td>2.000000</td>\n",
       "      <td>20.125000</td>\n",
       "      <td>0.000000</td>\n",
       "      <td>0.000000</td>\n",
       "      <td>7.910400</td>\n",
       "    </tr>\n",
       "    <tr>\n",
       "      <th>50%</th>\n",
       "      <td>446.000000</td>\n",
       "      <td>0.000000</td>\n",
       "      <td>3.000000</td>\n",
       "      <td>28.000000</td>\n",
       "      <td>0.000000</td>\n",
       "      <td>0.000000</td>\n",
       "      <td>14.454200</td>\n",
       "    </tr>\n",
       "    <tr>\n",
       "      <th>75%</th>\n",
       "      <td>668.500000</td>\n",
       "      <td>1.000000</td>\n",
       "      <td>3.000000</td>\n",
       "      <td>38.000000</td>\n",
       "      <td>1.000000</td>\n",
       "      <td>0.000000</td>\n",
       "      <td>31.000000</td>\n",
       "    </tr>\n",
       "    <tr>\n",
       "      <th>max</th>\n",
       "      <td>891.000000</td>\n",
       "      <td>1.000000</td>\n",
       "      <td>3.000000</td>\n",
       "      <td>80.000000</td>\n",
       "      <td>8.000000</td>\n",
       "      <td>6.000000</td>\n",
       "      <td>512.329200</td>\n",
       "    </tr>\n",
       "  </tbody>\n",
       "</table>\n",
       "</div>"
      ],
      "text/plain": [
       "       PassengerId    Survived      Pclass         Age       SibSp  \\\n",
       "count   891.000000  891.000000  891.000000  714.000000  891.000000   \n",
       "mean    446.000000    0.383838    2.308642   29.699118    0.523008   \n",
       "std     257.353842    0.486592    0.836071   14.526497    1.102743   \n",
       "min       1.000000    0.000000    1.000000    0.420000    0.000000   \n",
       "25%     223.500000    0.000000    2.000000   20.125000    0.000000   \n",
       "50%     446.000000    0.000000    3.000000   28.000000    0.000000   \n",
       "75%     668.500000    1.000000    3.000000   38.000000    1.000000   \n",
       "max     891.000000    1.000000    3.000000   80.000000    8.000000   \n",
       "\n",
       "            Parch        Fare  \n",
       "count  891.000000  891.000000  \n",
       "mean     0.381594   32.204208  \n",
       "std      0.806057   49.693429  \n",
       "min      0.000000    0.000000  \n",
       "25%      0.000000    7.910400  \n",
       "50%      0.000000   14.454200  \n",
       "75%      0.000000   31.000000  \n",
       "max      6.000000  512.329200  "
      ]
     },
     "execution_count": 7,
     "metadata": {},
     "output_type": "execute_result"
    }
   ],
   "source": [
    "train.describe()"
   ]
  },
  {
   "cell_type": "code",
   "execution_count": 8,
   "metadata": {},
   "outputs": [
    {
     "data": {
      "text/html": [
       "<div>\n",
       "<style scoped>\n",
       "    .dataframe tbody tr th:only-of-type {\n",
       "        vertical-align: middle;\n",
       "    }\n",
       "\n",
       "    .dataframe tbody tr th {\n",
       "        vertical-align: top;\n",
       "    }\n",
       "\n",
       "    .dataframe thead th {\n",
       "        text-align: right;\n",
       "    }\n",
       "</style>\n",
       "<table border=\"1\" class=\"dataframe\">\n",
       "  <thead>\n",
       "    <tr style=\"text-align: right;\">\n",
       "      <th></th>\n",
       "      <th>PassengerId</th>\n",
       "      <th>Pclass</th>\n",
       "      <th>Age</th>\n",
       "      <th>SibSp</th>\n",
       "      <th>Parch</th>\n",
       "      <th>Fare</th>\n",
       "    </tr>\n",
       "  </thead>\n",
       "  <tbody>\n",
       "    <tr>\n",
       "      <th>count</th>\n",
       "      <td>418.000000</td>\n",
       "      <td>418.000000</td>\n",
       "      <td>332.000000</td>\n",
       "      <td>418.000000</td>\n",
       "      <td>418.000000</td>\n",
       "      <td>417.000000</td>\n",
       "    </tr>\n",
       "    <tr>\n",
       "      <th>mean</th>\n",
       "      <td>1100.500000</td>\n",
       "      <td>2.265550</td>\n",
       "      <td>30.272590</td>\n",
       "      <td>0.447368</td>\n",
       "      <td>0.392344</td>\n",
       "      <td>35.627188</td>\n",
       "    </tr>\n",
       "    <tr>\n",
       "      <th>std</th>\n",
       "      <td>120.810458</td>\n",
       "      <td>0.841838</td>\n",
       "      <td>14.181209</td>\n",
       "      <td>0.896760</td>\n",
       "      <td>0.981429</td>\n",
       "      <td>55.907576</td>\n",
       "    </tr>\n",
       "    <tr>\n",
       "      <th>min</th>\n",
       "      <td>892.000000</td>\n",
       "      <td>1.000000</td>\n",
       "      <td>0.170000</td>\n",
       "      <td>0.000000</td>\n",
       "      <td>0.000000</td>\n",
       "      <td>0.000000</td>\n",
       "    </tr>\n",
       "    <tr>\n",
       "      <th>25%</th>\n",
       "      <td>996.250000</td>\n",
       "      <td>1.000000</td>\n",
       "      <td>21.000000</td>\n",
       "      <td>0.000000</td>\n",
       "      <td>0.000000</td>\n",
       "      <td>7.895800</td>\n",
       "    </tr>\n",
       "    <tr>\n",
       "      <th>50%</th>\n",
       "      <td>1100.500000</td>\n",
       "      <td>3.000000</td>\n",
       "      <td>27.000000</td>\n",
       "      <td>0.000000</td>\n",
       "      <td>0.000000</td>\n",
       "      <td>14.454200</td>\n",
       "    </tr>\n",
       "    <tr>\n",
       "      <th>75%</th>\n",
       "      <td>1204.750000</td>\n",
       "      <td>3.000000</td>\n",
       "      <td>39.000000</td>\n",
       "      <td>1.000000</td>\n",
       "      <td>0.000000</td>\n",
       "      <td>31.500000</td>\n",
       "    </tr>\n",
       "    <tr>\n",
       "      <th>max</th>\n",
       "      <td>1309.000000</td>\n",
       "      <td>3.000000</td>\n",
       "      <td>76.000000</td>\n",
       "      <td>8.000000</td>\n",
       "      <td>9.000000</td>\n",
       "      <td>512.329200</td>\n",
       "    </tr>\n",
       "  </tbody>\n",
       "</table>\n",
       "</div>"
      ],
      "text/plain": [
       "       PassengerId      Pclass         Age       SibSp       Parch        Fare\n",
       "count   418.000000  418.000000  332.000000  418.000000  418.000000  417.000000\n",
       "mean   1100.500000    2.265550   30.272590    0.447368    0.392344   35.627188\n",
       "std     120.810458    0.841838   14.181209    0.896760    0.981429   55.907576\n",
       "min     892.000000    1.000000    0.170000    0.000000    0.000000    0.000000\n",
       "25%     996.250000    1.000000   21.000000    0.000000    0.000000    7.895800\n",
       "50%    1100.500000    3.000000   27.000000    0.000000    0.000000   14.454200\n",
       "75%    1204.750000    3.000000   39.000000    1.000000    0.000000   31.500000\n",
       "max    1309.000000    3.000000   76.000000    8.000000    9.000000  512.329200"
      ]
     },
     "execution_count": 8,
     "metadata": {},
     "output_type": "execute_result"
    }
   ],
   "source": [
    "test.describe()"
   ]
  },
  {
   "cell_type": "markdown",
   "metadata": {},
   "source": [
    "일부 컬럼에서 결측치(Null Data)가 확인된다."
   ]
  },
  {
   "cell_type": "code",
   "execution_count": null,
   "metadata": {},
   "outputs": [],
   "source": []
  },
  {
   "cell_type": "markdown",
   "metadata": {},
   "source": [
    "### 1.1 결측 값(Null Data) 확인"
   ]
  },
  {
   "cell_type": "markdown",
   "metadata": {},
   "source": [
    "train, test 데이터의 컬럼에서 결측값이 차지하는 비중을 확인한다.  \n",
    "결측값의 비중이 크면 컬럼 전체를 제거한다.\n",
    "결측값의 비중이 적으면 적절한 값을 삽입한다."
   ]
  },
  {
   "cell_type": "code",
   "execution_count": 9,
   "metadata": {},
   "outputs": [
    {
     "data": {
      "text/plain": [
       "PassengerId    0.000000\n",
       "Survived       0.000000\n",
       "Pclass         0.000000\n",
       "Name           0.000000\n",
       "Sex            0.000000\n",
       "Age            0.198653\n",
       "SibSp          0.000000\n",
       "Parch          0.000000\n",
       "Ticket         0.000000\n",
       "Fare           0.000000\n",
       "Cabin          0.771044\n",
       "Embarked       0.002245\n",
       "dtype: float64"
      ]
     },
     "execution_count": 9,
     "metadata": {},
     "output_type": "execute_result"
    }
   ],
   "source": [
    "train.isnull().sum() / train.shape[0]"
   ]
  },
  {
   "cell_type": "code",
   "execution_count": 10,
   "metadata": {},
   "outputs": [
    {
     "data": {
      "text/plain": [
       "PassengerId    0.000000\n",
       "Pclass         0.000000\n",
       "Name           0.000000\n",
       "Sex            0.000000\n",
       "Age            0.205742\n",
       "SibSp          0.000000\n",
       "Parch          0.000000\n",
       "Ticket         0.000000\n",
       "Fare           0.002392\n",
       "Cabin          0.782297\n",
       "Embarked       0.000000\n",
       "dtype: float64"
      ]
     },
     "execution_count": 10,
     "metadata": {},
     "output_type": "execute_result"
    }
   ],
   "source": [
    "test.isnull().sum() / test.shape[0]"
   ]
  },
  {
   "cell_type": "markdown",
   "metadata": {},
   "source": [
    "Age 컬럼에 약 20%, Cabin 컬럼에 약 75% 이상의 결측 값이 있다."
   ]
  },
  {
   "cell_type": "code",
   "execution_count": null,
   "metadata": {},
   "outputs": [],
   "source": []
  },
  {
   "cell_type": "markdown",
   "metadata": {},
   "source": [
    "### 1.2 타겟 값(Target) 확인"
   ]
  },
  {
   "cell_type": "markdown",
   "metadata": {},
   "source": [
    "본 데이터에서 타겟 값은 'Survived' 컬럼에 포함되어 있으며, 0(사망) 또는 1(생존) 중에 한가지 값을 가진다.  \n",
    "따라서 본 문제는 이진분류(Binary Classification) 문제이다.\n",
    "  \n",
    "우선 train 데이터에서 타겟 값의 분포가 어떻게 되는지 확인해본다."
   ]
  },
  {
   "cell_type": "code",
   "execution_count": 11,
   "metadata": {},
   "outputs": [
    {
     "data": {
      "text/plain": [
       "0    0.616162\n",
       "1    0.383838\n",
       "Name: Survived, dtype: float64"
      ]
     },
     "execution_count": 11,
     "metadata": {},
     "output_type": "execute_result"
    }
   ],
   "source": [
    "train['Survived'].value_counts()/train.shape[0]"
   ]
  },
  {
   "cell_type": "markdown",
   "metadata": {},
   "source": [
    "사망자와 생존자의 비가 6:4 정도이다.  \n",
    "타겟 값이 과도하게 편중된 것은 아니므로 모델 학습에 문제가 없다."
   ]
  },
  {
   "cell_type": "code",
   "execution_count": 12,
   "metadata": {},
   "outputs": [
    {
     "data": {
      "text/plain": [
       "(array([0, 1]), <a list of 2 Text xticklabel objects>)"
      ]
     },
     "execution_count": 12,
     "metadata": {},
     "output_type": "execute_result"
    },
    {
     "data": {
      "image/png": "[encoded data removed]",
      "text/plain": [
       "<Figure size 432x288 with 1 Axes>"
      ]
     },
     "metadata": {
      "needs_background": "light"
     },
     "output_type": "display_data"
    }
   ],
   "source": [
    "train['Survived'].value_counts().plot(kind = 'bar')\n",
    "plt.xticks(rotation = 0)"
   ]
  },
  {
   "cell_type": "markdown",
   "metadata": {},
   "source": [
    "바차트 생성을 통해서도 동일한 결과를 확인할 수있다."
   ]
  },
  {
   "cell_type": "code",
   "execution_count": null,
   "metadata": {},
   "outputs": [],
   "source": []
  },
  {
   "cell_type": "markdown",
   "metadata": {},
   "source": [
    "## 2. 탐색적 데이터 분석(Expolatory data analysis)"
   ]
  },
  {
   "cell_type": "markdown",
   "metadata": {},
   "source": [
    "- 피쳐(컬럼) 별 특성을 살펴본다.\n",
    "- 데이터 시각화 라이브러리를 사용한다."
   ]
  },
  {
   "cell_type": "markdown",
   "metadata": {},
   "source": [
    "### 2.1 Pclass(티켓등급)"
   ]
  },
  {
   "cell_type": "markdown",
   "metadata": {},
   "source": [
    "- Pclass는 1, 2, 3 중 한가지 값을 가지는 카테고리 데이터이다.\n",
    "- 그리고 서수형(순서가 있는) 데이터이다.\n",
    "- 우선 데이터셋에서 Pclass, Survived 컬럼만 인덱싱한다.\n",
    "- 그리고 Pclass, 즉 티켓등급을 기준으로 데이터를 그룹핑한다.  \n",
    "(이때, groupby 매서드를 사용한다.)"
   ]
  },
  {
   "cell_type": "code",
   "execution_count": 13,
   "metadata": {},
   "outputs": [],
   "source": [
    "byPclass = train[['Pclass', 'Survived']].groupby(['Pclass'], \n",
    "            as_index = True) #as_index는 디펄트 값임"
   ]
  },
  {
   "cell_type": "code",
   "execution_count": 14,
   "metadata": {},
   "outputs": [
    {
     "data": {
      "text/plain": [
       "pandas.core.groupby.generic.DataFrameGroupBy"
      ]
     },
     "execution_count": 14,
     "metadata": {},
     "output_type": "execute_result"
    }
   ],
   "source": [
    "type(byPclass)"
   ]
  },
  {
   "cell_type": "markdown",
   "metadata": {},
   "source": [
    "groupby 메서드를 사용한 결과는 DataFrame 형태가 아니다."
   ]
  },
  {
   "cell_type": "markdown",
   "metadata": {},
   "source": [
    "byPclass에 count() 메서드를 사용하여 티켓 등급별 승객수를 확인한다."
   ]
  },
  {
   "cell_type": "code",
   "execution_count": 15,
   "metadata": {},
   "outputs": [
    {
     "data": {
      "text/html": [
       "<div>\n",
       "<style scoped>\n",
       "    .dataframe tbody tr th:only-of-type {\n",
       "        vertical-align: middle;\n",
       "    }\n",
       "\n",
       "    .dataframe tbody tr th {\n",
       "        vertical-align: top;\n",
       "    }\n",
       "\n",
       "    .dataframe thead th {\n",
       "        text-align: right;\n",
       "    }\n",
       "</style>\n",
       "<table border=\"1\" class=\"dataframe\">\n",
       "  <thead>\n",
       "    <tr style=\"text-align: right;\">\n",
       "      <th></th>\n",
       "      <th>Survived</th>\n",
       "    </tr>\n",
       "    <tr>\n",
       "      <th>Pclass</th>\n",
       "      <th></th>\n",
       "    </tr>\n",
       "  </thead>\n",
       "  <tbody>\n",
       "    <tr>\n",
       "      <th>1</th>\n",
       "      <td>216</td>\n",
       "    </tr>\n",
       "    <tr>\n",
       "      <th>2</th>\n",
       "      <td>184</td>\n",
       "    </tr>\n",
       "    <tr>\n",
       "      <th>3</th>\n",
       "      <td>491</td>\n",
       "    </tr>\n",
       "  </tbody>\n",
       "</table>\n",
       "</div>"
      ],
      "text/plain": [
       "        Survived\n",
       "Pclass          \n",
       "1            216\n",
       "2            184\n",
       "3            491"
      ]
     },
     "execution_count": 15,
     "metadata": {},
     "output_type": "execute_result"
    }
   ],
   "source": [
    "byPclass.count()"
   ]
  },
  {
   "cell_type": "markdown",
   "metadata": {},
   "source": [
    "1등급 탑승객 : 216명, 2등급 탑승객 : 184명, 3등급 탑승객 : 491명"
   ]
  },
  {
   "cell_type": "code",
   "execution_count": 16,
   "metadata": {},
   "outputs": [],
   "source": [
    "#byPclass1 = train[train['Pclass']==1][['Pclass', 'Survived']]\n",
    "#byPclass2 = train[train['Pclass']==2][['Pclass', 'Survived']]\n",
    "#byPclass3 = train[train['Pclass']==3][['Pclass', 'Survived']]"
   ]
  },
  {
   "cell_type": "code",
   "execution_count": 17,
   "metadata": {},
   "outputs": [
    {
     "data": {
      "text/html": [
       "<div>\n",
       "<style scoped>\n",
       "    .dataframe tbody tr th:only-of-type {\n",
       "        vertical-align: middle;\n",
       "    }\n",
       "\n",
       "    .dataframe tbody tr th {\n",
       "        vertical-align: top;\n",
       "    }\n",
       "\n",
       "    .dataframe thead th {\n",
       "        text-align: right;\n",
       "    }\n",
       "</style>\n",
       "<table border=\"1\" class=\"dataframe\">\n",
       "  <thead>\n",
       "    <tr style=\"text-align: right;\">\n",
       "      <th></th>\n",
       "      <th>Pclass1</th>\n",
       "      <th>Pclass2</th>\n",
       "      <th>Pclass3</th>\n",
       "    </tr>\n",
       "  </thead>\n",
       "  <tbody>\n",
       "    <tr>\n",
       "      <th>Passengers</th>\n",
       "      <td>216</td>\n",
       "      <td>184</td>\n",
       "      <td>491</td>\n",
       "    </tr>\n",
       "  </tbody>\n",
       "</table>\n",
       "</div>"
      ],
      "text/plain": [
       "            Pclass1  Pclass2  Pclass3\n",
       "Passengers      216      184      491"
      ]
     },
     "execution_count": 17,
     "metadata": {},
     "output_type": "execute_result"
    }
   ],
   "source": [
    "Num_of_Pclass1 = train[train['Pclass']==1]['Pclass'].count()\n",
    "Num_of_Pclass2 = train[train['Pclass']==2]['Pclass'].count()\n",
    "Num_of_Pclass3 = train[train['Pclass']==3]['Pclass'].count()\n",
    "\n",
    "pd.DataFrame({'Pclass1' : [Num_of_Pclass1], \n",
    "              'Pclass2' : [Num_of_Pclass2],\n",
    "              'Pclass3': [Num_of_Pclass3]}, \n",
    "             index = ['Passengers'])"
   ]
  },
  {
   "cell_type": "markdown",
   "metadata": {},
   "source": [
    "Groupby 메서드를 사용하지 않고 처리할수도 있지만 코드가 길어진다."
   ]
  },
  {
   "cell_type": "code",
   "execution_count": null,
   "metadata": {},
   "outputs": [],
   "source": []
  },
  {
   "cell_type": "markdown",
   "metadata": {},
   "source": [
    "byPclass에 sum() 메서드를 사용하여 티켓 등급별 생존자 수를 확인한다.  \n",
    "('Survived' 컬럼에 사망 0, 생존 1로 기록) "
   ]
  },
  {
   "cell_type": "code",
   "execution_count": 18,
   "metadata": {},
   "outputs": [
    {
     "data": {
      "text/html": [
       "<div>\n",
       "<style scoped>\n",
       "    .dataframe tbody tr th:only-of-type {\n",
       "        vertical-align: middle;\n",
       "    }\n",
       "\n",
       "    .dataframe tbody tr th {\n",
       "        vertical-align: top;\n",
       "    }\n",
       "\n",
       "    .dataframe thead th {\n",
       "        text-align: right;\n",
       "    }\n",
       "</style>\n",
       "<table border=\"1\" class=\"dataframe\">\n",
       "  <thead>\n",
       "    <tr style=\"text-align: right;\">\n",
       "      <th></th>\n",
       "      <th>Survived</th>\n",
       "    </tr>\n",
       "    <tr>\n",
       "      <th>Pclass</th>\n",
       "      <th></th>\n",
       "    </tr>\n",
       "  </thead>\n",
       "  <tbody>\n",
       "    <tr>\n",
       "      <th>1</th>\n",
       "      <td>136</td>\n",
       "    </tr>\n",
       "    <tr>\n",
       "      <th>2</th>\n",
       "      <td>87</td>\n",
       "    </tr>\n",
       "    <tr>\n",
       "      <th>3</th>\n",
       "      <td>119</td>\n",
       "    </tr>\n",
       "  </tbody>\n",
       "</table>\n",
       "</div>"
      ],
      "text/plain": [
       "        Survived\n",
       "Pclass          \n",
       "1            136\n",
       "2             87\n",
       "3            119"
      ]
     },
     "execution_count": 18,
     "metadata": {},
     "output_type": "execute_result"
    }
   ],
   "source": [
    "byPclass.sum()"
   ]
  },
  {
   "cell_type": "markdown",
   "metadata": {},
   "source": [
    "1등급 생존자 : 136명, 2등급 생존자 : 87명, 3등급 생존자 : 119명"
   ]
  },
  {
   "cell_type": "code",
   "execution_count": null,
   "metadata": {},
   "outputs": [],
   "source": []
  },
  {
   "cell_type": "markdown",
   "metadata": {},
   "source": [
    "byPclass에 sum() 메서드를 사용하면 티켓 등급별 생존율을 확인할 수있다."
   ]
  },
  {
   "cell_type": "code",
   "execution_count": 19,
   "metadata": {},
   "outputs": [
    {
     "data": {
      "text/html": [
       "<div>\n",
       "<style scoped>\n",
       "    .dataframe tbody tr th:only-of-type {\n",
       "        vertical-align: middle;\n",
       "    }\n",
       "\n",
       "    .dataframe tbody tr th {\n",
       "        vertical-align: top;\n",
       "    }\n",
       "\n",
       "    .dataframe thead th {\n",
       "        text-align: right;\n",
       "    }\n",
       "</style>\n",
       "<table border=\"1\" class=\"dataframe\">\n",
       "  <thead>\n",
       "    <tr style=\"text-align: right;\">\n",
       "      <th></th>\n",
       "      <th>Survived</th>\n",
       "    </tr>\n",
       "    <tr>\n",
       "      <th>Pclass</th>\n",
       "      <th></th>\n",
       "    </tr>\n",
       "  </thead>\n",
       "  <tbody>\n",
       "    <tr>\n",
       "      <th>1</th>\n",
       "      <td>0.629630</td>\n",
       "    </tr>\n",
       "    <tr>\n",
       "      <th>2</th>\n",
       "      <td>0.472826</td>\n",
       "    </tr>\n",
       "    <tr>\n",
       "      <th>3</th>\n",
       "      <td>0.242363</td>\n",
       "    </tr>\n",
       "  </tbody>\n",
       "</table>\n",
       "</div>"
      ],
      "text/plain": [
       "        Survived\n",
       "Pclass          \n",
       "1       0.629630\n",
       "2       0.472826\n",
       "3       0.242363"
      ]
     },
     "execution_count": 19,
     "metadata": {},
     "output_type": "execute_result"
    }
   ],
   "source": [
    "# byPclass.sum()/byPclass.count()\n",
    "byPclass.mean()"
   ]
  },
  {
   "cell_type": "markdown",
   "metadata": {},
   "source": [
    "생존율을 bar chart로 확인한다"
   ]
  },
  {
   "cell_type": "code",
   "execution_count": 20,
   "metadata": {},
   "outputs": [
    {
     "data": {
      "text/plain": [
       "(array([0, 1, 2]), <a list of 3 Text xticklabel objects>)"
      ]
     },
     "execution_count": 20,
     "metadata": {},
     "output_type": "execute_result"
    },
    {
     "data": {
      "image/png": "[encoded data removed]",
      "text/plain": [
       "<Figure size 432x288 with 1 Axes>"
      ]
     },
     "metadata": {
      "needs_background": "light"
     },
     "output_type": "display_data"
    }
   ],
   "source": [
    "byPclass.mean().plot(kind = 'bar')\n",
    "plt.xticks(rotation = 0)"
   ]
  },
  {
   "cell_type": "markdown",
   "metadata": {},
   "source": [
    "정리\n",
    "- 등급 순서대로 생존율이 낮아지는 규칙성을 확인할 수있다.\n",
    "- Pclass가 생존에 영향을 미친다고 볼 수 있으므로 피쳐로 사용한다."
   ]
  },
  {
   "cell_type": "code",
   "execution_count": null,
   "metadata": {},
   "outputs": [],
   "source": []
  },
  {
   "cell_type": "markdown",
   "metadata": {},
   "source": [
    "### 2.2 Sex(성별)\n",
    "- Sex는 Female, male 중 한가지 값을 가지는 카테고리 데이터이다.\n",
    "- 우선 데이터셋에서 Sex, Survived 컬럼만 인덱싱한다.\n",
    "- 그리고 Sex, 즉 성별을 기준으로 데이터를 그룹핑한다.  \n",
    "(이때, groupby 매서드를 사용한다.)"
   ]
  },
  {
   "cell_type": "code",
   "execution_count": 21,
   "metadata": {},
   "outputs": [],
   "source": [
    "bySex = train[['Sex', 'Survived']].groupby(['Sex'], \n",
    "            as_index = True) #as_index는 디펄트 값임"
   ]
  },
  {
   "cell_type": "code",
   "execution_count": 22,
   "metadata": {},
   "outputs": [
    {
     "data": {
      "text/html": [
       "<div>\n",
       "<style scoped>\n",
       "    .dataframe tbody tr th:only-of-type {\n",
       "        vertical-align: middle;\n",
       "    }\n",
       "\n",
       "    .dataframe tbody tr th {\n",
       "        vertical-align: top;\n",
       "    }\n",
       "\n",
       "    .dataframe thead th {\n",
       "        text-align: right;\n",
       "    }\n",
       "</style>\n",
       "<table border=\"1\" class=\"dataframe\">\n",
       "  <thead>\n",
       "    <tr style=\"text-align: right;\">\n",
       "      <th></th>\n",
       "      <th>Survived</th>\n",
       "    </tr>\n",
       "    <tr>\n",
       "      <th>Sex</th>\n",
       "      <th></th>\n",
       "    </tr>\n",
       "  </thead>\n",
       "  <tbody>\n",
       "    <tr>\n",
       "      <th>female</th>\n",
       "      <td>0.742038</td>\n",
       "    </tr>\n",
       "    <tr>\n",
       "      <th>male</th>\n",
       "      <td>0.188908</td>\n",
       "    </tr>\n",
       "  </tbody>\n",
       "</table>\n",
       "</div>"
      ],
      "text/plain": [
       "        Survived\n",
       "Sex             \n",
       "female  0.742038\n",
       "male    0.188908"
      ]
     },
     "execution_count": 22,
     "metadata": {},
     "output_type": "execute_result"
    }
   ],
   "source": [
    "bySex.mean()"
   ]
  },
  {
   "cell_type": "code",
   "execution_count": 23,
   "metadata": {},
   "outputs": [
    {
     "data": {
      "text/plain": [
       "(array([0, 1]), <a list of 2 Text xticklabel objects>)"
      ]
     },
     "execution_count": 23,
     "metadata": {},
     "output_type": "execute_result"
    },
    {
     "data": {
      "image/png": "[encoded data removed]",
      "text/plain": [
       "<Figure size 432x288 with 1 Axes>"
      ]
     },
     "metadata": {
      "needs_background": "light"
     },
     "output_type": "display_data"
    }
   ],
   "source": [
    "bySex.mean().plot(kind = 'bar')\n",
    "plt.xticks(rotation = 0)"
   ]
  },
  {
   "cell_type": "markdown",
   "metadata": {},
   "source": [
    "정리\n",
    "\n",
    "- 남성보다 여성이 생존율이 높다.\n",
    "- 성별이 생존율에 영향을 미친다고 볼 수 있으므로 피쳐로 사용한다"
   ]
  },
  {
   "cell_type": "code",
   "execution_count": null,
   "metadata": {},
   "outputs": [],
   "source": []
  },
  {
   "cell_type": "markdown",
   "metadata": {},
   "source": [
    "### 2.3 Age(나이)\n",
    "- Age는 정수형 데이터이다.\n",
    "- 연령대별 생존, 사망 분포를 확인한다."
   ]
  },
  {
   "cell_type": "code",
   "execution_count": 24,
   "metadata": {},
   "outputs": [
    {
     "data": {
      "text/plain": [
       "80.0"
      ]
     },
     "execution_count": 24,
     "metadata": {},
     "output_type": "execute_result"
    }
   ],
   "source": [
    "train['Age'].max()"
   ]
  },
  {
   "cell_type": "code",
   "execution_count": 25,
   "metadata": {},
   "outputs": [
    {
     "data": {
      "text/plain": [
       "0.42"
      ]
     },
     "execution_count": 25,
     "metadata": {},
     "output_type": "execute_result"
    }
   ],
   "source": [
    "train['Age'].min()"
   ]
  },
  {
   "cell_type": "code",
   "execution_count": 26,
   "metadata": {},
   "outputs": [
    {
     "data": {
      "text/plain": [
       "29.69911764705882"
      ]
     },
     "execution_count": 26,
     "metadata": {},
     "output_type": "execute_result"
    }
   ],
   "source": [
    "train['Age'].mean()"
   ]
  },
  {
   "cell_type": "markdown",
   "metadata": {},
   "source": [
    "최고령 : 80세, 최연소 : 0.42세, 평균나이 : 29.7세"
   ]
  },
  {
   "cell_type": "code",
   "execution_count": 27,
   "metadata": {},
   "outputs": [
    {
     "data": {
      "text/plain": [
       "<matplotlib.legend.Legend at 0x2065bd80e48>"
      ]
     },
     "execution_count": 27,
     "metadata": {},
     "output_type": "execute_result"
    },
    {
     "data": {
      "image/png": "[encoded data removed]",
      "text/plain": [
       "<Figure size 432x288 with 1 Axes>"
      ]
     },
     "metadata": {
      "needs_background": "light"
     },
     "output_type": "display_data"
    }
   ],
   "source": [
    "train[train['Survived']==1]['Age'].plot(kind='kde')\n",
    "train[train['Survived']==0]['Age'].plot(kind='kde')\n",
    "plt.legend(['Survived', 'Not Survived'])"
   ]
  },
  {
   "cell_type": "markdown",
   "metadata": {},
   "source": [
    "나이가 어릴수록 생존확률이 높다."
   ]
  },
  {
   "cell_type": "code",
   "execution_count": null,
   "metadata": {},
   "outputs": [],
   "source": []
  },
  {
   "cell_type": "markdown",
   "metadata": {},
   "source": [
    "### 2.4 Embarked(탑승항구)\n",
    "- Embarked는 C, Q, S 중 한가지 값을 가지는 카테고리 데이터이다.\n",
    "- 우선 데이터셋에서 Embarked, Survived 컬럼만 인덱싱한다.\n",
    "- 그리고 Embarked, 즉 탑승항구를 기준으로 데이터를 그룹핑한다.  \n",
    "(이때, groupby 매서드를 사용한다.)"
   ]
  },
  {
   "cell_type": "code",
   "execution_count": 28,
   "metadata": {},
   "outputs": [],
   "source": [
    "byEmbarked = train[['Embarked', 'Survived']].groupby('Embarked')"
   ]
  },
  {
   "cell_type": "code",
   "execution_count": 29,
   "metadata": {},
   "outputs": [
    {
     "data": {
      "text/html": [
       "<div>\n",
       "<style scoped>\n",
       "    .dataframe tbody tr th:only-of-type {\n",
       "        vertical-align: middle;\n",
       "    }\n",
       "\n",
       "    .dataframe tbody tr th {\n",
       "        vertical-align: top;\n",
       "    }\n",
       "\n",
       "    .dataframe thead th {\n",
       "        text-align: right;\n",
       "    }\n",
       "</style>\n",
       "<table border=\"1\" class=\"dataframe\">\n",
       "  <thead>\n",
       "    <tr style=\"text-align: right;\">\n",
       "      <th></th>\n",
       "      <th>Survived</th>\n",
       "    </tr>\n",
       "    <tr>\n",
       "      <th>Embarked</th>\n",
       "      <th></th>\n",
       "    </tr>\n",
       "  </thead>\n",
       "  <tbody>\n",
       "    <tr>\n",
       "      <th>S</th>\n",
       "      <td>644</td>\n",
       "    </tr>\n",
       "    <tr>\n",
       "      <th>C</th>\n",
       "      <td>168</td>\n",
       "    </tr>\n",
       "    <tr>\n",
       "      <th>Q</th>\n",
       "      <td>77</td>\n",
       "    </tr>\n",
       "  </tbody>\n",
       "</table>\n",
       "</div>"
      ],
      "text/plain": [
       "          Survived\n",
       "Embarked          \n",
       "S              644\n",
       "C              168\n",
       "Q               77"
      ]
     },
     "execution_count": 29,
     "metadata": {},
     "output_type": "execute_result"
    }
   ],
   "source": [
    "byEmbarked.count().sort_values(by = 'Survived',ascending= False)"
   ]
  },
  {
   "cell_type": "code",
   "execution_count": 30,
   "metadata": {
    "scrolled": false
   },
   "outputs": [
    {
     "data": {
      "text/plain": [
       "(array([0, 1, 2]), <a list of 3 Text xticklabel objects>)"
      ]
     },
     "execution_count": 30,
     "metadata": {},
     "output_type": "execute_result"
    },
    {
     "data": {
      "image/png": "[encoded data removed]",
      "text/plain": [
       "<Figure size 432x288 with 1 Axes>"
      ]
     },
     "metadata": {
      "needs_background": "light"
     },
     "output_type": "display_data"
    }
   ],
   "source": [
    "byEmbarked.count().sort_values(by = 'Survived', ascending=False).plot(kind = 'bar')\n",
    "plt.xticks(rotation = 0)"
   ]
  },
  {
   "cell_type": "markdown",
   "metadata": {},
   "source": [
    "S(Southampton), C(Cherbourg), Q(Queenstown) 순으로 생존율 이 높다."
   ]
  },
  {
   "cell_type": "code",
   "execution_count": 31,
   "metadata": {},
   "outputs": [],
   "source": [
    "# 다른 피쳐와 상관도도 살펴볼것...일단 skip"
   ]
  },
  {
   "cell_type": "code",
   "execution_count": null,
   "metadata": {},
   "outputs": [],
   "source": []
  },
  {
   "cell_type": "markdown",
   "metadata": {},
   "source": [
    "### 2.5 SibSp(형제 자매)\n",
    "- 탑승자의 형제 자매 수 SibSp는 정수형 데이터이다.\n",
    "- 우선 데이터셋에서 SibSp, Survived 컬럼만 인덱싱한다.\n",
    "- 그리고 SibSp, 즉 형제 자매수를 기준으로 데이터를 그룹핑한다.  \n",
    "(이때, groupby 매서드를 사용한다.)"
   ]
  },
  {
   "cell_type": "code",
   "execution_count": 32,
   "metadata": {},
   "outputs": [],
   "source": [
    "bySibSp = train[['SibSp', 'Survived']].groupby('SibSp')"
   ]
  },
  {
   "cell_type": "code",
   "execution_count": 33,
   "metadata": {},
   "outputs": [
    {
     "data": {
      "text/html": [
       "<div>\n",
       "<style scoped>\n",
       "    .dataframe tbody tr th:only-of-type {\n",
       "        vertical-align: middle;\n",
       "    }\n",
       "\n",
       "    .dataframe tbody tr th {\n",
       "        vertical-align: top;\n",
       "    }\n",
       "\n",
       "    .dataframe thead th {\n",
       "        text-align: right;\n",
       "    }\n",
       "</style>\n",
       "<table border=\"1\" class=\"dataframe\">\n",
       "  <thead>\n",
       "    <tr style=\"text-align: right;\">\n",
       "      <th></th>\n",
       "      <th>Survived</th>\n",
       "    </tr>\n",
       "    <tr>\n",
       "      <th>SibSp</th>\n",
       "      <th></th>\n",
       "    </tr>\n",
       "  </thead>\n",
       "  <tbody>\n",
       "    <tr>\n",
       "      <th>0</th>\n",
       "      <td>608</td>\n",
       "    </tr>\n",
       "    <tr>\n",
       "      <th>1</th>\n",
       "      <td>209</td>\n",
       "    </tr>\n",
       "    <tr>\n",
       "      <th>2</th>\n",
       "      <td>28</td>\n",
       "    </tr>\n",
       "    <tr>\n",
       "      <th>3</th>\n",
       "      <td>16</td>\n",
       "    </tr>\n",
       "    <tr>\n",
       "      <th>4</th>\n",
       "      <td>18</td>\n",
       "    </tr>\n",
       "    <tr>\n",
       "      <th>5</th>\n",
       "      <td>5</td>\n",
       "    </tr>\n",
       "    <tr>\n",
       "      <th>8</th>\n",
       "      <td>7</td>\n",
       "    </tr>\n",
       "  </tbody>\n",
       "</table>\n",
       "</div>"
      ],
      "text/plain": [
       "       Survived\n",
       "SibSp          \n",
       "0           608\n",
       "1           209\n",
       "2            28\n",
       "3            16\n",
       "4            18\n",
       "5             5\n",
       "8             7"
      ]
     },
     "execution_count": 33,
     "metadata": {},
     "output_type": "execute_result"
    }
   ],
   "source": [
    "bySibSp.count()"
   ]
  },
  {
   "cell_type": "code",
   "execution_count": 34,
   "metadata": {},
   "outputs": [
    {
     "data": {
      "text/plain": [
       "(array([0, 1, 2, 3, 4, 5, 6]), <a list of 7 Text xticklabel objects>)"
      ]
     },
     "execution_count": 34,
     "metadata": {},
     "output_type": "execute_result"
    },
    {
     "data": {
      "image/png": "[encoded data removed]",
      "text/plain": [
       "<Figure size 432x288 with 1 Axes>"
      ]
     },
     "metadata": {
      "needs_background": "light"
     },
     "output_type": "display_data"
    }
   ],
   "source": [
    "bySibSp.count().plot(kind= 'bar')\n",
    "plt.xticks(rotation = 0)"
   ]
  },
  {
   "cell_type": "markdown",
   "metadata": {},
   "source": [
    "형제 자매 수가 많을수록 생존율이 낮다."
   ]
  },
  {
   "cell_type": "code",
   "execution_count": null,
   "metadata": {},
   "outputs": [],
   "source": []
  },
  {
   "cell_type": "markdown",
   "metadata": {},
   "source": [
    "### 2.6 Parch(부모 자녀)\n",
    "- 탑승자의 부모, 자녀 수 Parch는 정수형 데이터이다.\n",
    "- 우선 데이터셋에서 Parch, Survived 컬럼만 인덱싱한다.\n",
    "- 그리고 Parch, 즉 부모 자녀 수를 기준으로 데이터를 그룹핑한다.  \n",
    "(이때, groupby 매서드를 사용한다.)"
   ]
  },
  {
   "cell_type": "code",
   "execution_count": 35,
   "metadata": {},
   "outputs": [],
   "source": [
    "byParch = train[['Parch', 'Survived']].groupby('Parch')"
   ]
  },
  {
   "cell_type": "code",
   "execution_count": 36,
   "metadata": {},
   "outputs": [
    {
     "data": {
      "text/html": [
       "<div>\n",
       "<style scoped>\n",
       "    .dataframe tbody tr th:only-of-type {\n",
       "        vertical-align: middle;\n",
       "    }\n",
       "\n",
       "    .dataframe tbody tr th {\n",
       "        vertical-align: top;\n",
       "    }\n",
       "\n",
       "    .dataframe thead th {\n",
       "        text-align: right;\n",
       "    }\n",
       "</style>\n",
       "<table border=\"1\" class=\"dataframe\">\n",
       "  <thead>\n",
       "    <tr style=\"text-align: right;\">\n",
       "      <th></th>\n",
       "      <th>Survived</th>\n",
       "    </tr>\n",
       "    <tr>\n",
       "      <th>Parch</th>\n",
       "      <th></th>\n",
       "    </tr>\n",
       "  </thead>\n",
       "  <tbody>\n",
       "    <tr>\n",
       "      <th>0</th>\n",
       "      <td>678</td>\n",
       "    </tr>\n",
       "    <tr>\n",
       "      <th>1</th>\n",
       "      <td>118</td>\n",
       "    </tr>\n",
       "    <tr>\n",
       "      <th>2</th>\n",
       "      <td>80</td>\n",
       "    </tr>\n",
       "    <tr>\n",
       "      <th>3</th>\n",
       "      <td>5</td>\n",
       "    </tr>\n",
       "    <tr>\n",
       "      <th>4</th>\n",
       "      <td>4</td>\n",
       "    </tr>\n",
       "    <tr>\n",
       "      <th>5</th>\n",
       "      <td>5</td>\n",
       "    </tr>\n",
       "    <tr>\n",
       "      <th>6</th>\n",
       "      <td>1</td>\n",
       "    </tr>\n",
       "  </tbody>\n",
       "</table>\n",
       "</div>"
      ],
      "text/plain": [
       "       Survived\n",
       "Parch          \n",
       "0           678\n",
       "1           118\n",
       "2            80\n",
       "3             5\n",
       "4             4\n",
       "5             5\n",
       "6             1"
      ]
     },
     "execution_count": 36,
     "metadata": {},
     "output_type": "execute_result"
    }
   ],
   "source": [
    "byParch.count()"
   ]
  },
  {
   "cell_type": "code",
   "execution_count": 37,
   "metadata": {},
   "outputs": [
    {
     "data": {
      "text/plain": [
       "(array([0, 1, 2, 3, 4, 5, 6]), <a list of 7 Text xticklabel objects>)"
      ]
     },
     "execution_count": 37,
     "metadata": {},
     "output_type": "execute_result"
    },
    {
     "data": {
      "image/png": "[encoded data removed]",
      "text/plain": [
       "<Figure size 432x288 with 1 Axes>"
      ]
     },
     "metadata": {
      "needs_background": "light"
     },
     "output_type": "display_data"
    }
   ],
   "source": [
    "byParch.count().plot(kind = 'bar')\n",
    "plt.xticks(rotation = 0)"
   ]
  },
  {
   "cell_type": "markdown",
   "metadata": {},
   "source": [
    "부모, 자녀 수가 많을수록 생존율이 낮다."
   ]
  },
  {
   "cell_type": "code",
   "execution_count": null,
   "metadata": {},
   "outputs": [],
   "source": []
  },
  {
   "cell_type": "markdown",
   "metadata": {},
   "source": [
    "### 2.7 Fare(티켓요금)\n",
    "- 티켓요금 Fare는 실수형 데이터이다.\n",
    "- 히스토그램으로 분포를 확인한다."
   ]
  },
  {
   "cell_type": "code",
   "execution_count": 38,
   "metadata": {},
   "outputs": [
    {
     "data": {
      "text/plain": [
       "<matplotlib.axes._subplots.AxesSubplot at 0x2065bed62e8>"
      ]
     },
     "execution_count": 38,
     "metadata": {},
     "output_type": "execute_result"
    },
    {
     "data": {
      "image/png": "[encoded data removed]",
      "text/plain": [
       "<Figure size 432x288 with 1 Axes>"
      ]
     },
     "metadata": {
      "needs_background": "light"
     },
     "output_type": "display_data"
    }
   ],
   "source": [
    "train['Fare'].hist(bins = 50)"
   ]
  },
  {
   "cell_type": "code",
   "execution_count": 39,
   "metadata": {},
   "outputs": [
    {
     "data": {
      "image/png": "[encoded data removed]",
      "text/plain": [
       "<Figure size 432x288 with 1 Axes>"
      ]
     },
     "metadata": {
      "needs_background": "light"
     },
     "output_type": "display_data"
    }
   ],
   "source": [
    "plt.boxplot(train['Fare'])\n",
    "plt.show()"
   ]
  },
  {
   "cell_type": "code",
   "execution_count": 40,
   "metadata": {},
   "outputs": [],
   "source": [
    "# 비대칭성, 아웃라이어"
   ]
  },
  {
   "cell_type": "code",
   "execution_count": null,
   "metadata": {},
   "outputs": [],
   "source": []
  },
  {
   "cell_type": "markdown",
   "metadata": {},
   "source": [
    "### 2.8 Cabin(객실번호)\n",
    "- 객실번호 Cabin 은 문자와 정수가 혼합된 데이터이다.\n",
    "- describe 메서드로 살펴본다."
   ]
  },
  {
   "cell_type": "code",
   "execution_count": 41,
   "metadata": {},
   "outputs": [
    {
     "data": {
      "text/plain": [
       "count             204\n",
       "unique            147\n",
       "top       C23 C25 C27\n",
       "freq                4\n",
       "Name: Cabin, dtype: object"
      ]
     },
     "execution_count": 41,
     "metadata": {},
     "output_type": "execute_result"
    }
   ],
   "source": [
    "train['Cabin'].describe()"
   ]
  },
  {
   "cell_type": "code",
   "execution_count": 42,
   "metadata": {},
   "outputs": [
    {
     "data": {
      "text/plain": [
       "0.7710437710437711"
      ]
     },
     "execution_count": 42,
     "metadata": {},
     "output_type": "execute_result"
    }
   ],
   "source": [
    "train['Cabin'].isnull().sum() / train['Cabin'].shape[0]"
   ]
  },
  {
   "cell_type": "code",
   "execution_count": 43,
   "metadata": {},
   "outputs": [
    {
     "data": {
      "text/plain": [
       "<matplotlib.axes._subplots.AxesSubplot at 0x2065c093ac8>"
      ]
     },
     "execution_count": 43,
     "metadata": {},
     "output_type": "execute_result"
    },
    {
     "data": {
      "image/png": "[encoded data removed]",
      "text/plain": [
       "<Figure size 720x360 with 1 Axes>"
      ]
     },
     "metadata": {
      "needs_background": "light"
     },
     "output_type": "display_data"
    }
   ],
   "source": [
    "Pclass1 = train[train['Pclass']==1]['Cabin'].str[0].value_counts()\n",
    "Pclass2 = train[train['Pclass']==2]['Cabin'].str[0].value_counts()\n",
    "Pclass3 = train[train['Pclass']==3]['Cabin'].str[0].value_counts()\n",
    "df = pd.DataFrame([Pclass1, Pclass2, Pclass3])\n",
    "df.index = ['1st class', '2nd class', '3rd class']\n",
    "df.plot(kind = 'bar', stacked=True, figsize=(10, 5))"
   ]
  },
  {
   "cell_type": "code",
   "execution_count": null,
   "metadata": {},
   "outputs": [],
   "source": []
  },
  {
   "cell_type": "markdown",
   "metadata": {},
   "source": [
    "### 2.9 Ticket(티켓번호)\n",
    "- 티켓번호 Ticket 은 문자와 정수가 혼합된 데이터이다.\n",
    "- value_counts() 메서드로 살펴본다"
   ]
  },
  {
   "cell_type": "code",
   "execution_count": 44,
   "metadata": {},
   "outputs": [
    {
     "data": {
      "text/plain": [
       "CA. 2343            7\n",
       "1601                7\n",
       "347082              7\n",
       "347088              6\n",
       "3101295             6\n",
       "CA 2144             6\n",
       "382652              5\n",
       "S.O.C. 14879        5\n",
       "17421               4\n",
       "4133                4\n",
       "LINE                4\n",
       "349909              4\n",
       "PC 17757            4\n",
       "347077              4\n",
       "2666                4\n",
       "113760              4\n",
       "W./C. 6608          4\n",
       "113781              4\n",
       "19950               4\n",
       "35273               3\n",
       "347742              3\n",
       "239853              3\n",
       "PC 17582            3\n",
       "110413              3\n",
       "C.A. 34651          3\n",
       "SC/Paris 2123       3\n",
       "PC 17760            3\n",
       "13502               3\n",
       "24160               3\n",
       "345773              3\n",
       "                   ..\n",
       "3411                1\n",
       "350043              1\n",
       "350029              1\n",
       "349251              1\n",
       "113788              1\n",
       "8475                1\n",
       "3101267             1\n",
       "2700                1\n",
       "7545                1\n",
       "239855              1\n",
       "349242              1\n",
       "PC 17596            1\n",
       "347071              1\n",
       "C 17369             1\n",
       "341826              1\n",
       "349239              1\n",
       "PC 17318            1\n",
       "2223                1\n",
       "113804              1\n",
       "350035              1\n",
       "315096              1\n",
       "250646              1\n",
       "STON/O2. 3101283    1\n",
       "S.W./PP 752         1\n",
       "28134               1\n",
       "S.C./A.4. 23567     1\n",
       "113783              1\n",
       "PC 17585            1\n",
       "330919              1\n",
       "A/4. 20589          1\n",
       "Name: Ticket, Length: 681, dtype: int64"
      ]
     },
     "execution_count": 44,
     "metadata": {},
     "output_type": "execute_result"
    }
   ],
   "source": [
    "train['Ticket'].value_counts()"
   ]
  },
  {
   "cell_type": "code",
   "execution_count": null,
   "metadata": {},
   "outputs": [],
   "source": []
  },
  {
   "cell_type": "markdown",
   "metadata": {},
   "source": [
    "## 3. 특성공학(Feature Engineering)"
   ]
  },
  {
   "cell_type": "markdown",
   "metadata": {},
   "source": [
    "- 데이터 셋의 결측 값(null data)를 채운다.\n",
    "- 필요에 따라 연속형(continuous) 데이터를 범주형으로 변환한다.\n",
    "- 문자열(string) 정보를 수치화 한다.\n",
    "- 범주형 데이터의 성능 향상을 위해 매핑을 실시한다.\n",
    "- 불필요한 데이터 열(columns)을 제거한다."
   ]
  },
  {
   "cell_type": "code",
   "execution_count": 45,
   "metadata": {},
   "outputs": [
    {
     "data": {
      "text/html": [
       "<div>\n",
       "<style scoped>\n",
       "    .dataframe tbody tr th:only-of-type {\n",
       "        vertical-align: middle;\n",
       "    }\n",
       "\n",
       "    .dataframe tbody tr th {\n",
       "        vertical-align: top;\n",
       "    }\n",
       "\n",
       "    .dataframe thead th {\n",
       "        text-align: right;\n",
       "    }\n",
       "</style>\n",
       "<table border=\"1\" class=\"dataframe\">\n",
       "  <thead>\n",
       "    <tr style=\"text-align: right;\">\n",
       "      <th></th>\n",
       "      <th>PassengerId</th>\n",
       "      <th>Survived</th>\n",
       "      <th>Pclass</th>\n",
       "      <th>Age</th>\n",
       "      <th>SibSp</th>\n",
       "      <th>Parch</th>\n",
       "      <th>Fare</th>\n",
       "    </tr>\n",
       "  </thead>\n",
       "  <tbody>\n",
       "    <tr>\n",
       "      <th>count</th>\n",
       "      <td>891.000000</td>\n",
       "      <td>891.000000</td>\n",
       "      <td>891.000000</td>\n",
       "      <td>714.000000</td>\n",
       "      <td>891.000000</td>\n",
       "      <td>891.000000</td>\n",
       "      <td>891.000000</td>\n",
       "    </tr>\n",
       "    <tr>\n",
       "      <th>mean</th>\n",
       "      <td>446.000000</td>\n",
       "      <td>0.383838</td>\n",
       "      <td>2.308642</td>\n",
       "      <td>29.699118</td>\n",
       "      <td>0.523008</td>\n",
       "      <td>0.381594</td>\n",
       "      <td>32.204208</td>\n",
       "    </tr>\n",
       "    <tr>\n",
       "      <th>std</th>\n",
       "      <td>257.353842</td>\n",
       "      <td>0.486592</td>\n",
       "      <td>0.836071</td>\n",
       "      <td>14.526497</td>\n",
       "      <td>1.102743</td>\n",
       "      <td>0.806057</td>\n",
       "      <td>49.693429</td>\n",
       "    </tr>\n",
       "    <tr>\n",
       "      <th>min</th>\n",
       "      <td>1.000000</td>\n",
       "      <td>0.000000</td>\n",
       "      <td>1.000000</td>\n",
       "      <td>0.420000</td>\n",
       "      <td>0.000000</td>\n",
       "      <td>0.000000</td>\n",
       "      <td>0.000000</td>\n",
       "    </tr>\n",
       "    <tr>\n",
       "      <th>25%</th>\n",
       "      <td>223.500000</td>\n",
       "      <td>0.000000</td>\n",
       "      <td>2.000000</td>\n",
       "      <td>20.125000</td>\n",
       "      <td>0.000000</td>\n",
       "      <td>0.000000</td>\n",
       "      <td>7.910400</td>\n",
       "    </tr>\n",
       "    <tr>\n",
       "      <th>50%</th>\n",
       "      <td>446.000000</td>\n",
       "      <td>0.000000</td>\n",
       "      <td>3.000000</td>\n",
       "      <td>28.000000</td>\n",
       "      <td>0.000000</td>\n",
       "      <td>0.000000</td>\n",
       "      <td>14.454200</td>\n",
       "    </tr>\n",
       "    <tr>\n",
       "      <th>75%</th>\n",
       "      <td>668.500000</td>\n",
       "      <td>1.000000</td>\n",
       "      <td>3.000000</td>\n",
       "      <td>38.000000</td>\n",
       "      <td>1.000000</td>\n",
       "      <td>0.000000</td>\n",
       "      <td>31.000000</td>\n",
       "    </tr>\n",
       "    <tr>\n",
       "      <th>max</th>\n",
       "      <td>891.000000</td>\n",
       "      <td>1.000000</td>\n",
       "      <td>3.000000</td>\n",
       "      <td>80.000000</td>\n",
       "      <td>8.000000</td>\n",
       "      <td>6.000000</td>\n",
       "      <td>512.329200</td>\n",
       "    </tr>\n",
       "  </tbody>\n",
       "</table>\n",
       "</div>"
      ],
      "text/plain": [
       "       PassengerId    Survived      Pclass         Age       SibSp  \\\n",
       "count   891.000000  891.000000  891.000000  714.000000  891.000000   \n",
       "mean    446.000000    0.383838    2.308642   29.699118    0.523008   \n",
       "std     257.353842    0.486592    0.836071   14.526497    1.102743   \n",
       "min       1.000000    0.000000    1.000000    0.420000    0.000000   \n",
       "25%     223.500000    0.000000    2.000000   20.125000    0.000000   \n",
       "50%     446.000000    0.000000    3.000000   28.000000    0.000000   \n",
       "75%     668.500000    1.000000    3.000000   38.000000    1.000000   \n",
       "max     891.000000    1.000000    3.000000   80.000000    8.000000   \n",
       "\n",
       "            Parch        Fare  \n",
       "count  891.000000  891.000000  \n",
       "mean     0.381594   32.204208  \n",
       "std      0.806057   49.693429  \n",
       "min      0.000000    0.000000  \n",
       "25%      0.000000    7.910400  \n",
       "50%      0.000000   14.454200  \n",
       "75%      0.000000   31.000000  \n",
       "max      6.000000  512.329200  "
      ]
     },
     "execution_count": 45,
     "metadata": {},
     "output_type": "execute_result"
    }
   ],
   "source": [
    "train.describe()"
   ]
  },
  {
   "cell_type": "code",
   "execution_count": 46,
   "metadata": {},
   "outputs": [
    {
     "data": {
      "text/html": [
       "<div>\n",
       "<style scoped>\n",
       "    .dataframe tbody tr th:only-of-type {\n",
       "        vertical-align: middle;\n",
       "    }\n",
       "\n",
       "    .dataframe tbody tr th {\n",
       "        vertical-align: top;\n",
       "    }\n",
       "\n",
       "    .dataframe thead th {\n",
       "        text-align: right;\n",
       "    }\n",
       "</style>\n",
       "<table border=\"1\" class=\"dataframe\">\n",
       "  <thead>\n",
       "    <tr style=\"text-align: right;\">\n",
       "      <th></th>\n",
       "      <th>PassengerId</th>\n",
       "      <th>Pclass</th>\n",
       "      <th>Age</th>\n",
       "      <th>SibSp</th>\n",
       "      <th>Parch</th>\n",
       "      <th>Fare</th>\n",
       "    </tr>\n",
       "  </thead>\n",
       "  <tbody>\n",
       "    <tr>\n",
       "      <th>count</th>\n",
       "      <td>418.000000</td>\n",
       "      <td>418.000000</td>\n",
       "      <td>332.000000</td>\n",
       "      <td>418.000000</td>\n",
       "      <td>418.000000</td>\n",
       "      <td>417.000000</td>\n",
       "    </tr>\n",
       "    <tr>\n",
       "      <th>mean</th>\n",
       "      <td>1100.500000</td>\n",
       "      <td>2.265550</td>\n",
       "      <td>30.272590</td>\n",
       "      <td>0.447368</td>\n",
       "      <td>0.392344</td>\n",
       "      <td>35.627188</td>\n",
       "    </tr>\n",
       "    <tr>\n",
       "      <th>std</th>\n",
       "      <td>120.810458</td>\n",
       "      <td>0.841838</td>\n",
       "      <td>14.181209</td>\n",
       "      <td>0.896760</td>\n",
       "      <td>0.981429</td>\n",
       "      <td>55.907576</td>\n",
       "    </tr>\n",
       "    <tr>\n",
       "      <th>min</th>\n",
       "      <td>892.000000</td>\n",
       "      <td>1.000000</td>\n",
       "      <td>0.170000</td>\n",
       "      <td>0.000000</td>\n",
       "      <td>0.000000</td>\n",
       "      <td>0.000000</td>\n",
       "    </tr>\n",
       "    <tr>\n",
       "      <th>25%</th>\n",
       "      <td>996.250000</td>\n",
       "      <td>1.000000</td>\n",
       "      <td>21.000000</td>\n",
       "      <td>0.000000</td>\n",
       "      <td>0.000000</td>\n",
       "      <td>7.895800</td>\n",
       "    </tr>\n",
       "    <tr>\n",
       "      <th>50%</th>\n",
       "      <td>1100.500000</td>\n",
       "      <td>3.000000</td>\n",
       "      <td>27.000000</td>\n",
       "      <td>0.000000</td>\n",
       "      <td>0.000000</td>\n",
       "      <td>14.454200</td>\n",
       "    </tr>\n",
       "    <tr>\n",
       "      <th>75%</th>\n",
       "      <td>1204.750000</td>\n",
       "      <td>3.000000</td>\n",
       "      <td>39.000000</td>\n",
       "      <td>1.000000</td>\n",
       "      <td>0.000000</td>\n",
       "      <td>31.500000</td>\n",
       "    </tr>\n",
       "    <tr>\n",
       "      <th>max</th>\n",
       "      <td>1309.000000</td>\n",
       "      <td>3.000000</td>\n",
       "      <td>76.000000</td>\n",
       "      <td>8.000000</td>\n",
       "      <td>9.000000</td>\n",
       "      <td>512.329200</td>\n",
       "    </tr>\n",
       "  </tbody>\n",
       "</table>\n",
       "</div>"
      ],
      "text/plain": [
       "       PassengerId      Pclass         Age       SibSp       Parch        Fare\n",
       "count   418.000000  418.000000  332.000000  418.000000  418.000000  417.000000\n",
       "mean   1100.500000    2.265550   30.272590    0.447368    0.392344   35.627188\n",
       "std     120.810458    0.841838   14.181209    0.896760    0.981429   55.907576\n",
       "min     892.000000    1.000000    0.170000    0.000000    0.000000    0.000000\n",
       "25%     996.250000    1.000000   21.000000    0.000000    0.000000    7.895800\n",
       "50%    1100.500000    3.000000   27.000000    0.000000    0.000000   14.454200\n",
       "75%    1204.750000    3.000000   39.000000    1.000000    0.000000   31.500000\n",
       "max    1309.000000    3.000000   76.000000    8.000000    9.000000  512.329200"
      ]
     },
     "execution_count": 46,
     "metadata": {},
     "output_type": "execute_result"
    }
   ],
   "source": [
    "test.describe()"
   ]
  },
  {
   "cell_type": "code",
   "execution_count": null,
   "metadata": {},
   "outputs": [],
   "source": []
  },
  {
   "cell_type": "markdown",
   "metadata": {},
   "source": [
    "### 3.1 결측값 처리\n",
    "- 각 컬럼별 결측 값을 확인한다.\n",
    "- 컬럼 데이터의 통계정보나 컬럼 특성을 고려하여, 결측치를 채운다."
   ]
  },
  {
   "cell_type": "code",
   "execution_count": 47,
   "metadata": {},
   "outputs": [
    {
     "data": {
      "text/plain": [
       "PassengerId    891\n",
       "Survived       891\n",
       "Pclass         891\n",
       "Name           891\n",
       "Sex            891\n",
       "Age            714\n",
       "SibSp          891\n",
       "Parch          891\n",
       "Ticket         891\n",
       "Fare           891\n",
       "Cabin          204\n",
       "Embarked       889\n",
       "dtype: int64"
      ]
     },
     "execution_count": 47,
     "metadata": {},
     "output_type": "execute_result"
    }
   ],
   "source": [
    "train.count()"
   ]
  },
  {
   "cell_type": "code",
   "execution_count": 48,
   "metadata": {},
   "outputs": [
    {
     "data": {
      "text/plain": [
       "PassengerId    418\n",
       "Pclass         418\n",
       "Name           418\n",
       "Sex            418\n",
       "Age            332\n",
       "SibSp          418\n",
       "Parch          418\n",
       "Ticket         418\n",
       "Fare           417\n",
       "Cabin           91\n",
       "Embarked       418\n",
       "dtype: int64"
      ]
     },
     "execution_count": 48,
     "metadata": {},
     "output_type": "execute_result"
    }
   ],
   "source": [
    "test.count()"
   ]
  },
  {
   "cell_type": "markdown",
   "metadata": {},
   "source": [
    "Age, Cabin, Embarked, Fare에서 결측치가 확인된다."
   ]
  },
  {
   "cell_type": "code",
   "execution_count": null,
   "metadata": {},
   "outputs": [],
   "source": []
  },
  {
   "cell_type": "markdown",
   "metadata": {},
   "source": [
    "#### 3.1.1 Age 결측치 처리"
   ]
  },
  {
   "cell_type": "markdown",
   "metadata": {},
   "source": [
    "Age 컬럼의 결측치는 명단의 title 별 나이의 평균으로 대체한다.\n",
    "우선 Name 컬럼에서 탑승자의 title(Mr., Miss 등)을 추출한다."
   ]
  },
  {
   "cell_type": "code",
   "execution_count": 49,
   "metadata": {},
   "outputs": [],
   "source": [
    "train['Title'] = train['Name'].str.extract('([A-Za-z]+)\\.')\n",
    "test['Title'] = test['Name'].str.extract('([A-Za-z]+)\\.')"
   ]
  },
  {
   "cell_type": "markdown",
   "metadata": {},
   "source": [
    "Name 컬럼에서 Title을 추출하기 위해 data를 문자열로 바꿔주는 str 메서드와 정규표현식으로 정보를 추출하는 extract 메서드를 사용한다."
   ]
  },
  {
   "cell_type": "markdown",
   "metadata": {},
   "source": [
    "([A-Za-z]+)\\. : 대소문자 A-Z, a-z까지 1개 이상의 단어에 마침표 .이 붙은 것을 추출"
   ]
  },
  {
   "cell_type": "markdown",
   "metadata": {},
   "source": [
    "그 결과가 Title 컬럼에 저장된다."
   ]
  },
  {
   "cell_type": "code",
   "execution_count": 50,
   "metadata": {},
   "outputs": [
    {
     "data": {
      "text/plain": [
       "Mr          517\n",
       "Miss        182\n",
       "Mrs         125\n",
       "Master       40\n",
       "Dr            7\n",
       "Rev           6\n",
       "Mlle          2\n",
       "Col           2\n",
       "Major         2\n",
       "Mme           1\n",
       "Ms            1\n",
       "Sir           1\n",
       "Capt          1\n",
       "Jonkheer      1\n",
       "Don           1\n",
       "Lady          1\n",
       "Countess      1\n",
       "Name: Title, dtype: int64"
      ]
     },
     "execution_count": 50,
     "metadata": {},
     "output_type": "execute_result"
    }
   ],
   "source": [
    "train.Title.value_counts()"
   ]
  },
  {
   "cell_type": "code",
   "execution_count": 51,
   "metadata": {},
   "outputs": [
    {
     "data": {
      "text/plain": [
       "Mr        240\n",
       "Miss       78\n",
       "Mrs        72\n",
       "Master     21\n",
       "Rev         2\n",
       "Col         2\n",
       "Dona        1\n",
       "Ms          1\n",
       "Dr          1\n",
       "Name: Title, dtype: int64"
      ]
     },
     "execution_count": 51,
     "metadata": {},
     "output_type": "execute_result"
    }
   ],
   "source": [
    "test.Title.value_counts()"
   ]
  },
  {
   "cell_type": "markdown",
   "metadata": {},
   "source": [
    "Mr, Miss, Mrs, Master 정도만 의미가 있다고 판단된다.  나머지 value들은 유추하여 Mr, Miss, Mrs, Master 중 하나로 대체하거나 Other로 통일한다. (캐글 튜터리얼 참고)"
   ]
  },
  {
   "cell_type": "code",
   "execution_count": 52,
   "metadata": {},
   "outputs": [],
   "source": [
    "train['Title'].replace(['Mlle','Mme','Ms','Dr','Major','Lady','Countess','Jonkheer','Col','Rev','Capt','Sir','Don', 'Dona'],\n",
    "                        ['Miss','Miss','Miss','Mr','Mr','Mrs','Mrs','Other','Other','Other','Mr','Mr','Mr', 'Mr'],inplace=True)\n",
    "\n",
    "test['Title'].replace(['Mlle','Mme','Ms','Dr','Major','Lady','Countess','Jonkheer','Col','Rev','Capt','Sir','Don', 'Dona'],\n",
    "                        ['Miss','Miss','Miss','Mr','Mr','Mrs','Mrs','Other','Other','Other','Mr','Mr','Mr', 'Mr'],inplace=True)"
   ]
  },
  {
   "cell_type": "code",
   "execution_count": 53,
   "metadata": {},
   "outputs": [
    {
     "data": {
      "text/plain": [
       "Mr        529\n",
       "Miss      186\n",
       "Mrs       127\n",
       "Master     40\n",
       "Other       9\n",
       "Name: Title, dtype: int64"
      ]
     },
     "execution_count": 53,
     "metadata": {},
     "output_type": "execute_result"
    }
   ],
   "source": [
    "train.Title.value_counts()"
   ]
  },
  {
   "cell_type": "code",
   "execution_count": 54,
   "metadata": {
    "scrolled": true
   },
   "outputs": [
    {
     "data": {
      "text/plain": [
       "Mr        242\n",
       "Miss       79\n",
       "Mrs        72\n",
       "Master     21\n",
       "Other       4\n",
       "Name: Title, dtype: int64"
      ]
     },
     "execution_count": 54,
     "metadata": {},
     "output_type": "execute_result"
    }
   ],
   "source": [
    "test.Title.value_counts()"
   ]
  },
  {
   "cell_type": "code",
   "execution_count": null,
   "metadata": {},
   "outputs": [],
   "source": []
  },
  {
   "cell_type": "markdown",
   "metadata": {},
   "source": [
    "이제 groupby 메서드를 사용하여 Title별 연령 평균은 확인한다."
   ]
  },
  {
   "cell_type": "code",
   "execution_count": 55,
   "metadata": {},
   "outputs": [
    {
     "data": {
      "text/html": [
       "<div>\n",
       "<style scoped>\n",
       "    .dataframe tbody tr th:only-of-type {\n",
       "        vertical-align: middle;\n",
       "    }\n",
       "\n",
       "    .dataframe tbody tr th {\n",
       "        vertical-align: top;\n",
       "    }\n",
       "\n",
       "    .dataframe thead th {\n",
       "        text-align: right;\n",
       "    }\n",
       "</style>\n",
       "<table border=\"1\" class=\"dataframe\">\n",
       "  <thead>\n",
       "    <tr style=\"text-align: right;\">\n",
       "      <th></th>\n",
       "      <th>PassengerId</th>\n",
       "      <th>Survived</th>\n",
       "      <th>Pclass</th>\n",
       "      <th>Age</th>\n",
       "      <th>SibSp</th>\n",
       "      <th>Parch</th>\n",
       "      <th>Fare</th>\n",
       "    </tr>\n",
       "    <tr>\n",
       "      <th>Title</th>\n",
       "      <th></th>\n",
       "      <th></th>\n",
       "      <th></th>\n",
       "      <th></th>\n",
       "      <th></th>\n",
       "      <th></th>\n",
       "      <th></th>\n",
       "    </tr>\n",
       "  </thead>\n",
       "  <tbody>\n",
       "    <tr>\n",
       "      <th>Master</th>\n",
       "      <td>414.975000</td>\n",
       "      <td>0.575000</td>\n",
       "      <td>2.625000</td>\n",
       "      <td>4.574167</td>\n",
       "      <td>2.300000</td>\n",
       "      <td>1.375000</td>\n",
       "      <td>34.703125</td>\n",
       "    </tr>\n",
       "    <tr>\n",
       "      <th>Miss</th>\n",
       "      <td>411.741935</td>\n",
       "      <td>0.704301</td>\n",
       "      <td>2.284946</td>\n",
       "      <td>21.860000</td>\n",
       "      <td>0.698925</td>\n",
       "      <td>0.537634</td>\n",
       "      <td>43.937188</td>\n",
       "    </tr>\n",
       "    <tr>\n",
       "      <th>Mr</th>\n",
       "      <td>455.880907</td>\n",
       "      <td>0.162571</td>\n",
       "      <td>2.381853</td>\n",
       "      <td>32.739609</td>\n",
       "      <td>0.293006</td>\n",
       "      <td>0.151229</td>\n",
       "      <td>24.939822</td>\n",
       "    </tr>\n",
       "    <tr>\n",
       "      <th>Mrs</th>\n",
       "      <td>456.393701</td>\n",
       "      <td>0.795276</td>\n",
       "      <td>1.984252</td>\n",
       "      <td>35.981818</td>\n",
       "      <td>0.692913</td>\n",
       "      <td>0.818898</td>\n",
       "      <td>45.420603</td>\n",
       "    </tr>\n",
       "    <tr>\n",
       "      <th>Other</th>\n",
       "      <td>564.444444</td>\n",
       "      <td>0.111111</td>\n",
       "      <td>1.666667</td>\n",
       "      <td>45.888889</td>\n",
       "      <td>0.111111</td>\n",
       "      <td>0.111111</td>\n",
       "      <td>19.102778</td>\n",
       "    </tr>\n",
       "  </tbody>\n",
       "</table>\n",
       "</div>"
      ],
      "text/plain": [
       "        PassengerId  Survived    Pclass        Age     SibSp     Parch  \\\n",
       "Title                                                                    \n",
       "Master   414.975000  0.575000  2.625000   4.574167  2.300000  1.375000   \n",
       "Miss     411.741935  0.704301  2.284946  21.860000  0.698925  0.537634   \n",
       "Mr       455.880907  0.162571  2.381853  32.739609  0.293006  0.151229   \n",
       "Mrs      456.393701  0.795276  1.984252  35.981818  0.692913  0.818898   \n",
       "Other    564.444444  0.111111  1.666667  45.888889  0.111111  0.111111   \n",
       "\n",
       "             Fare  \n",
       "Title              \n",
       "Master  34.703125  \n",
       "Miss    43.937188  \n",
       "Mr      24.939822  \n",
       "Mrs     45.420603  \n",
       "Other   19.102778  "
      ]
     },
     "execution_count": 55,
     "metadata": {},
     "output_type": "execute_result"
    }
   ],
   "source": [
    "train.groupby('Title').mean()"
   ]
  },
  {
   "cell_type": "markdown",
   "metadata": {},
   "source": [
    "Title별 Age 결측치에 평균을 입력한다."
   ]
  },
  {
   "cell_type": "code",
   "execution_count": 56,
   "metadata": {},
   "outputs": [],
   "source": [
    "#train[(train.Age.isnull()) & (train.Title == 'Mr')]['Age']=33"
   ]
  },
  {
   "cell_type": "markdown",
   "metadata": {},
   "source": [
    "위 방법보다 loc을 사용한 인덱싱을 추천하므로 다음과 같이 진행한다."
   ]
  },
  {
   "cell_type": "code",
   "execution_count": 57,
   "metadata": {},
   "outputs": [],
   "source": [
    "train.loc[(train.Age.isnull())&(train.Title=='Mr'),'Age'] = 33\n",
    "train.loc[(train.Age.isnull())&(train.Title=='Mrs'),'Age'] = 36\n",
    "train.loc[(train.Age.isnull())&(train.Title=='Master'),'Age'] = 5\n",
    "train.loc[(train.Age.isnull())&(train.Title=='Miss'),'Age'] = 22\n",
    "train.loc[(train.Age.isnull())&(train.Title=='Other'),'Age'] = 46\n",
    "\n",
    "test.loc[(test.Age.isnull())&(test.Title=='Mr'),'Age'] = 33\n",
    "test.loc[(test.Age.isnull())&(test.Title=='Mrs'),'Age'] = 36\n",
    "test.loc[(test.Age.isnull())&(test.Title=='Master'),'Age'] = 5\n",
    "test.loc[(test.Age.isnull())&(test.Title=='Miss'),'Age'] = 22\n",
    "test.loc[(test.Age.isnull())&(test.Title=='Other'),'Age'] = 46"
   ]
  },
  {
   "cell_type": "code",
   "execution_count": 58,
   "metadata": {},
   "outputs": [
    {
     "name": "stdout",
     "output_type": "stream",
     "text": [
      "<class 'pandas.core.frame.DataFrame'>\n",
      "RangeIndex: 891 entries, 0 to 890\n",
      "Data columns (total 13 columns):\n",
      "PassengerId    891 non-null int64\n",
      "Survived       891 non-null int64\n",
      "Pclass         891 non-null int64\n",
      "Name           891 non-null object\n",
      "Sex            891 non-null object\n",
      "Age            891 non-null float64\n",
      "SibSp          891 non-null int64\n",
      "Parch          891 non-null int64\n",
      "Ticket         891 non-null object\n",
      "Fare           891 non-null float64\n",
      "Cabin          204 non-null object\n",
      "Embarked       889 non-null object\n",
      "Title          891 non-null object\n",
      "dtypes: float64(2), int64(5), object(6)\n",
      "memory usage: 90.6+ KB\n"
     ]
    }
   ],
   "source": [
    "train.info()"
   ]
  },
  {
   "cell_type": "code",
   "execution_count": 59,
   "metadata": {},
   "outputs": [
    {
     "name": "stdout",
     "output_type": "stream",
     "text": [
      "<class 'pandas.core.frame.DataFrame'>\n",
      "RangeIndex: 418 entries, 0 to 417\n",
      "Data columns (total 12 columns):\n",
      "PassengerId    418 non-null int64\n",
      "Pclass         418 non-null int64\n",
      "Name           418 non-null object\n",
      "Sex            418 non-null object\n",
      "Age            418 non-null float64\n",
      "SibSp          418 non-null int64\n",
      "Parch          418 non-null int64\n",
      "Ticket         418 non-null object\n",
      "Fare           417 non-null float64\n",
      "Cabin          91 non-null object\n",
      "Embarked       418 non-null object\n",
      "Title          418 non-null object\n",
      "dtypes: float64(2), int64(4), object(6)\n",
      "memory usage: 39.3+ KB\n"
     ]
    }
   ],
   "source": [
    "test.info()"
   ]
  },
  {
   "cell_type": "code",
   "execution_count": null,
   "metadata": {},
   "outputs": [],
   "source": []
  },
  {
   "cell_type": "code",
   "execution_count": 60,
   "metadata": {},
   "outputs": [],
   "source": [
    "train['Age'] = train['Age'].astype('int64')"
   ]
  },
  {
   "cell_type": "code",
   "execution_count": 61,
   "metadata": {},
   "outputs": [],
   "source": [
    "test['Age'] = test['Age'].astype('int64')"
   ]
  },
  {
   "cell_type": "markdown",
   "metadata": {},
   "source": [
    "자료형을 정수형으로 조정하였다."
   ]
  },
  {
   "cell_type": "code",
   "execution_count": null,
   "metadata": {},
   "outputs": [],
   "source": []
  },
  {
   "cell_type": "markdown",
   "metadata": {},
   "source": [
    "#### 3.1.2 Embarked 결측치 처리"
   ]
  },
  {
   "cell_type": "code",
   "execution_count": 62,
   "metadata": {},
   "outputs": [
    {
     "name": "stdout",
     "output_type": "stream",
     "text": [
      "<class 'pandas.core.frame.DataFrame'>\n",
      "RangeIndex: 891 entries, 0 to 890\n",
      "Data columns (total 13 columns):\n",
      "PassengerId    891 non-null int64\n",
      "Survived       891 non-null int64\n",
      "Pclass         891 non-null int64\n",
      "Name           891 non-null object\n",
      "Sex            891 non-null object\n",
      "Age            891 non-null int64\n",
      "SibSp          891 non-null int64\n",
      "Parch          891 non-null int64\n",
      "Ticket         891 non-null object\n",
      "Fare           891 non-null float64\n",
      "Cabin          204 non-null object\n",
      "Embarked       889 non-null object\n",
      "Title          891 non-null object\n",
      "dtypes: float64(1), int64(6), object(6)\n",
      "memory usage: 90.6+ KB\n"
     ]
    }
   ],
   "source": [
    "train.info()"
   ]
  },
  {
   "cell_type": "code",
   "execution_count": 63,
   "metadata": {},
   "outputs": [
    {
     "name": "stdout",
     "output_type": "stream",
     "text": [
      "<class 'pandas.core.frame.DataFrame'>\n",
      "RangeIndex: 418 entries, 0 to 417\n",
      "Data columns (total 12 columns):\n",
      "PassengerId    418 non-null int64\n",
      "Pclass         418 non-null int64\n",
      "Name           418 non-null object\n",
      "Sex            418 non-null object\n",
      "Age            418 non-null int64\n",
      "SibSp          418 non-null int64\n",
      "Parch          418 non-null int64\n",
      "Ticket         418 non-null object\n",
      "Fare           417 non-null float64\n",
      "Cabin          91 non-null object\n",
      "Embarked       418 non-null object\n",
      "Title          418 non-null object\n",
      "dtypes: float64(1), int64(5), object(6)\n",
      "memory usage: 39.3+ KB\n"
     ]
    }
   ],
   "source": [
    "test.info()"
   ]
  },
  {
   "cell_type": "code",
   "execution_count": 64,
   "metadata": {},
   "outputs": [
    {
     "data": {
      "text/plain": [
       "S    644\n",
       "C    168\n",
       "Q     77\n",
       "Name: Embarked, dtype: int64"
      ]
     },
     "execution_count": 64,
     "metadata": {},
     "output_type": "execute_result"
    }
   ],
   "source": [
    "train['Embarked'].value_counts()"
   ]
  },
  {
   "cell_type": "markdown",
   "metadata": {},
   "source": [
    "Embarked에 결측치는 2개뿐이므로, 간단히 S로 채운다."
   ]
  },
  {
   "cell_type": "code",
   "execution_count": 65,
   "metadata": {},
   "outputs": [],
   "source": [
    "train.loc[train.Embarked.isnull(),'Embarked'] = 'S'"
   ]
  },
  {
   "cell_type": "code",
   "execution_count": 66,
   "metadata": {},
   "outputs": [
    {
     "data": {
      "text/plain": [
       "S    646\n",
       "C    168\n",
       "Q     77\n",
       "Name: Embarked, dtype: int64"
      ]
     },
     "execution_count": 66,
     "metadata": {},
     "output_type": "execute_result"
    }
   ],
   "source": [
    "train['Embarked'].value_counts()"
   ]
  },
  {
   "cell_type": "code",
   "execution_count": null,
   "metadata": {},
   "outputs": [],
   "source": []
  },
  {
   "cell_type": "markdown",
   "metadata": {},
   "source": [
    "#### 3.1.3 Fare 결측치 처리"
   ]
  },
  {
   "cell_type": "code",
   "execution_count": 67,
   "metadata": {},
   "outputs": [
    {
     "name": "stdout",
     "output_type": "stream",
     "text": [
      "<class 'pandas.core.frame.DataFrame'>\n",
      "RangeIndex: 418 entries, 0 to 417\n",
      "Data columns (total 12 columns):\n",
      "PassengerId    418 non-null int64\n",
      "Pclass         418 non-null int64\n",
      "Name           418 non-null object\n",
      "Sex            418 non-null object\n",
      "Age            418 non-null int64\n",
      "SibSp          418 non-null int64\n",
      "Parch          418 non-null int64\n",
      "Ticket         418 non-null object\n",
      "Fare           417 non-null float64\n",
      "Cabin          91 non-null object\n",
      "Embarked       418 non-null object\n",
      "Title          418 non-null object\n",
      "dtypes: float64(1), int64(5), object(6)\n",
      "memory usage: 39.3+ KB\n"
     ]
    }
   ],
   "source": [
    "test.info()"
   ]
  },
  {
   "cell_type": "markdown",
   "metadata": {},
   "source": [
    "테스트 데이터의 결측치 1건을 처리한다."
   ]
  },
  {
   "cell_type": "code",
   "execution_count": 68,
   "metadata": {},
   "outputs": [
    {
     "data": {
      "text/plain": [
       "0     7.8292\n",
       "1     7.0000\n",
       "2     9.6875\n",
       "3     8.6625\n",
       "4    12.2875\n",
       "Name: Fare, dtype: float64"
      ]
     },
     "execution_count": 68,
     "metadata": {},
     "output_type": "execute_result"
    }
   ],
   "source": [
    "test['Fare'].head()"
   ]
  },
  {
   "cell_type": "code",
   "execution_count": 69,
   "metadata": {},
   "outputs": [
    {
     "data": {
      "text/html": [
       "<div>\n",
       "<style scoped>\n",
       "    .dataframe tbody tr th:only-of-type {\n",
       "        vertical-align: middle;\n",
       "    }\n",
       "\n",
       "    .dataframe tbody tr th {\n",
       "        vertical-align: top;\n",
       "    }\n",
       "\n",
       "    .dataframe thead th {\n",
       "        text-align: right;\n",
       "    }\n",
       "</style>\n",
       "<table border=\"1\" class=\"dataframe\">\n",
       "  <thead>\n",
       "    <tr style=\"text-align: right;\">\n",
       "      <th></th>\n",
       "      <th>PassengerId</th>\n",
       "      <th>Pclass</th>\n",
       "      <th>Name</th>\n",
       "      <th>Sex</th>\n",
       "      <th>Age</th>\n",
       "      <th>SibSp</th>\n",
       "      <th>Parch</th>\n",
       "      <th>Ticket</th>\n",
       "      <th>Fare</th>\n",
       "      <th>Cabin</th>\n",
       "      <th>Embarked</th>\n",
       "      <th>Title</th>\n",
       "    </tr>\n",
       "  </thead>\n",
       "  <tbody>\n",
       "    <tr>\n",
       "      <th>152</th>\n",
       "      <td>1044</td>\n",
       "      <td>3</td>\n",
       "      <td>Storey, Mr. Thomas</td>\n",
       "      <td>male</td>\n",
       "      <td>60</td>\n",
       "      <td>0</td>\n",
       "      <td>0</td>\n",
       "      <td>3701</td>\n",
       "      <td>NaN</td>\n",
       "      <td>NaN</td>\n",
       "      <td>S</td>\n",
       "      <td>Mr</td>\n",
       "    </tr>\n",
       "  </tbody>\n",
       "</table>\n",
       "</div>"
      ],
      "text/plain": [
       "     PassengerId  Pclass                Name   Sex  Age  SibSp  Parch Ticket  \\\n",
       "152         1044       3  Storey, Mr. Thomas  male   60      0      0   3701   \n",
       "\n",
       "     Fare Cabin Embarked Title  \n",
       "152   NaN   NaN        S    Mr  "
      ]
     },
     "execution_count": 69,
     "metadata": {},
     "output_type": "execute_result"
    }
   ],
   "source": [
    "test.loc[test['Fare'].isnull()]"
   ]
  },
  {
   "cell_type": "markdown",
   "metadata": {},
   "source": [
    "결측치가 있는 데이터의 등급(Pclass)는 3이다.\n",
    "groupby 메서드로 3등급의 중간값으로 결측치를 대체한다."
   ]
  },
  {
   "cell_type": "code",
   "execution_count": null,
   "metadata": {},
   "outputs": [],
   "source": []
  },
  {
   "cell_type": "code",
   "execution_count": 70,
   "metadata": {},
   "outputs": [
    {
     "data": {
      "text/html": [
       "<div>\n",
       "<style scoped>\n",
       "    .dataframe tbody tr th:only-of-type {\n",
       "        vertical-align: middle;\n",
       "    }\n",
       "\n",
       "    .dataframe tbody tr th {\n",
       "        vertical-align: top;\n",
       "    }\n",
       "\n",
       "    .dataframe thead th {\n",
       "        text-align: right;\n",
       "    }\n",
       "</style>\n",
       "<table border=\"1\" class=\"dataframe\">\n",
       "  <thead>\n",
       "    <tr style=\"text-align: right;\">\n",
       "      <th></th>\n",
       "      <th>PassengerId</th>\n",
       "      <th>Age</th>\n",
       "      <th>SibSp</th>\n",
       "      <th>Parch</th>\n",
       "      <th>Fare</th>\n",
       "    </tr>\n",
       "    <tr>\n",
       "      <th>Pclass</th>\n",
       "      <th></th>\n",
       "      <th></th>\n",
       "      <th></th>\n",
       "      <th></th>\n",
       "      <th></th>\n",
       "    </tr>\n",
       "  </thead>\n",
       "  <tbody>\n",
       "    <tr>\n",
       "      <th>1</th>\n",
       "      <td>1094.0</td>\n",
       "      <td>39.0</td>\n",
       "      <td>0.0</td>\n",
       "      <td>0.0</td>\n",
       "      <td>60.0000</td>\n",
       "    </tr>\n",
       "    <tr>\n",
       "      <th>2</th>\n",
       "      <td>1122.0</td>\n",
       "      <td>28.0</td>\n",
       "      <td>0.0</td>\n",
       "      <td>0.0</td>\n",
       "      <td>15.7500</td>\n",
       "    </tr>\n",
       "    <tr>\n",
       "      <th>3</th>\n",
       "      <td>1091.5</td>\n",
       "      <td>26.0</td>\n",
       "      <td>0.0</td>\n",
       "      <td>0.0</td>\n",
       "      <td>7.8958</td>\n",
       "    </tr>\n",
       "  </tbody>\n",
       "</table>\n",
       "</div>"
      ],
      "text/plain": [
       "        PassengerId   Age  SibSp  Parch     Fare\n",
       "Pclass                                          \n",
       "1            1094.0  39.0    0.0    0.0  60.0000\n",
       "2            1122.0  28.0    0.0    0.0  15.7500\n",
       "3            1091.5  26.0    0.0    0.0   7.8958"
      ]
     },
     "execution_count": 70,
     "metadata": {},
     "output_type": "execute_result"
    }
   ],
   "source": [
    "test.groupby('Pclass').median()"
   ]
  },
  {
   "cell_type": "code",
   "execution_count": 71,
   "metadata": {},
   "outputs": [],
   "source": [
    "test['Fare'].fillna(test.groupby('Pclass').median().iloc[2, 4], \n",
    "                   inplace = True)"
   ]
  },
  {
   "cell_type": "code",
   "execution_count": 72,
   "metadata": {},
   "outputs": [
    {
     "data": {
      "text/plain": [
       "PassengerId                  1044\n",
       "Pclass                          3\n",
       "Name           Storey, Mr. Thomas\n",
       "Sex                          male\n",
       "Age                            60\n",
       "SibSp                           0\n",
       "Parch                           0\n",
       "Ticket                       3701\n",
       "Fare                       7.8958\n",
       "Cabin                         NaN\n",
       "Embarked                        S\n",
       "Title                          Mr\n",
       "Name: 152, dtype: object"
      ]
     },
     "execution_count": 72,
     "metadata": {},
     "output_type": "execute_result"
    }
   ],
   "source": [
    "test.iloc[152]"
   ]
  },
  {
   "cell_type": "code",
   "execution_count": null,
   "metadata": {},
   "outputs": [],
   "source": []
  },
  {
   "cell_type": "markdown",
   "metadata": {},
   "source": [
    "### 3.2 데이터 범주화\n",
    "- 필요에 따라 연속형 데이터나 문자열 데이터를 범주화 한다."
   ]
  },
  {
   "cell_type": "markdown",
   "metadata": {},
   "source": [
    "#### 3.2.1 Age 데이터 범주화"
   ]
  },
  {
   "cell_type": "code",
   "execution_count": 73,
   "metadata": {},
   "outputs": [],
   "source": [
    "#test.loc[test['Age'] <= 15, 'Age'] = 0,\n",
    "#test.loc[(test['Age'] > 15) & (test['Age'] <= 30), 'Age'] = 1,\n",
    "#test.loc[(test['Age'] > 30) & (test['Age'] <= 40), 'Age'] = 2,\n",
    "#test.loc[(test['Age'] > 40) & (test['Age'] <= 60), 'Age'] = 3,\n",
    "#test.loc[dataset['Age'] > 60, 'Age'] = 4"
   ]
  },
  {
   "cell_type": "markdown",
   "metadata": {},
   "source": [
    "먼저 연령을 입력받아 범주를 리턴하는 함수를 만든다.\n",
    "(캐글 코리아 참고)"
   ]
  },
  {
   "cell_type": "code",
   "execution_count": 74,
   "metadata": {},
   "outputs": [],
   "source": [
    "def category_age(x):\n",
    "    if x < 15: #child\n",
    "        return 0 \n",
    "    elif x < 30: #youth\n",
    "        return 1\n",
    "    elif x < 40: #adult\n",
    "        return 2\n",
    "    elif x < 60: #middle-age\n",
    "        return 3\n",
    "    else:        #old\n",
    "        return 4  "
   ]
  },
  {
   "cell_type": "code",
   "execution_count": 75,
   "metadata": {},
   "outputs": [],
   "source": [
    "train['Age'] = train['Age'].apply(category_age)\n",
    "test['Age'] = test['Age'].apply(category_age)"
   ]
  },
  {
   "cell_type": "code",
   "execution_count": 76,
   "metadata": {},
   "outputs": [
    {
     "data": {
      "text/plain": [
       "1    342\n",
       "2    304\n",
       "3    137\n",
       "0     82\n",
       "4     26\n",
       "Name: Age, dtype: int64"
      ]
     },
     "execution_count": 76,
     "metadata": {},
     "output_type": "execute_result"
    }
   ],
   "source": [
    "train['Age'].value_counts()"
   ]
  },
  {
   "cell_type": "code",
   "execution_count": 77,
   "metadata": {},
   "outputs": [
    {
     "data": {
      "text/plain": [
       "1    169\n",
       "2    132\n",
       "3     68\n",
       "0     35\n",
       "4     14\n",
       "Name: Age, dtype: int64"
      ]
     },
     "execution_count": 77,
     "metadata": {},
     "output_type": "execute_result"
    }
   ],
   "source": [
    "test['Age'].value_counts()"
   ]
  },
  {
   "cell_type": "markdown",
   "metadata": {},
   "source": [
    "Child : 0, Youth : 1, Adult : 2, Midle-age : 3, Old : 4"
   ]
  },
  {
   "cell_type": "code",
   "execution_count": null,
   "metadata": {},
   "outputs": [],
   "source": []
  },
  {
   "cell_type": "markdown",
   "metadata": {},
   "source": [
    "#### 3.2.2 성별(Sex) 데이터 범주화"
   ]
  },
  {
   "cell_type": "markdown",
   "metadata": {},
   "source": [
    "남성(male)을 0으로, 여성(female)을 1로 매핑한다."
   ]
  },
  {
   "cell_type": "code",
   "execution_count": 78,
   "metadata": {},
   "outputs": [],
   "source": [
    "train['Sex'] = train['Sex'].map({'male': 0, 'female': 1})"
   ]
  },
  {
   "cell_type": "code",
   "execution_count": 79,
   "metadata": {},
   "outputs": [
    {
     "data": {
      "text/plain": [
       "0    577\n",
       "1    314\n",
       "Name: Sex, dtype: int64"
      ]
     },
     "execution_count": 79,
     "metadata": {},
     "output_type": "execute_result"
    }
   ],
   "source": [
    "train.Sex.value_counts()"
   ]
  },
  {
   "cell_type": "code",
   "execution_count": 80,
   "metadata": {},
   "outputs": [],
   "source": [
    "test['Sex'] = test['Sex'].map({'male': 0, 'female': 1})"
   ]
  },
  {
   "cell_type": "markdown",
   "metadata": {},
   "source": [
    "참고 : 0, 1로 매핑한것과 one hot 인코딩으로 2개 컬럼 생성한 것의 성능은 같다."
   ]
  },
  {
   "cell_type": "markdown",
   "metadata": {},
   "source": [
    "#### 3.2.3 탑승항구(Embarked) 데이터 범주화"
   ]
  },
  {
   "cell_type": "markdown",
   "metadata": {},
   "source": [
    "S:0, C:1, Q:2로 매핑한다."
   ]
  },
  {
   "cell_type": "code",
   "execution_count": 81,
   "metadata": {},
   "outputs": [],
   "source": [
    "train['Embarked'] = train['Embarked'].map({'S': 0, \n",
    "                    'C': 1, 'Q': 2})"
   ]
  },
  {
   "cell_type": "code",
   "execution_count": 82,
   "metadata": {},
   "outputs": [
    {
     "data": {
      "text/plain": [
       "0    646\n",
       "1    168\n",
       "2     77\n",
       "Name: Embarked, dtype: int64"
      ]
     },
     "execution_count": 82,
     "metadata": {},
     "output_type": "execute_result"
    }
   ],
   "source": [
    "train['Embarked'].value_counts()"
   ]
  },
  {
   "cell_type": "code",
   "execution_count": 83,
   "metadata": {},
   "outputs": [],
   "source": [
    "test['Embarked'] = test['Embarked'].map({'S': 0, \n",
    "                    'C': 1, 'Q': 2})"
   ]
  },
  {
   "cell_type": "code",
   "execution_count": null,
   "metadata": {},
   "outputs": [],
   "source": []
  },
  {
   "cell_type": "markdown",
   "metadata": {},
   "source": [
    "#### 3.2.4 Title 데이터 범주화"
   ]
  },
  {
   "cell_type": "markdown",
   "metadata": {},
   "source": [
    "Mr: 0, Miss: 1, Mrs: 2, Master: 3, Other: 4"
   ]
  },
  {
   "cell_type": "code",
   "execution_count": 84,
   "metadata": {},
   "outputs": [],
   "source": [
    "train['Title'] = train['Title'].map({'Mr': 0, 'Miss': 1, \n",
    "            'Mrs': 2, 'Master': 3, 'Other': 4})"
   ]
  },
  {
   "cell_type": "code",
   "execution_count": 85,
   "metadata": {},
   "outputs": [
    {
     "data": {
      "text/plain": [
       "0    529\n",
       "1    186\n",
       "2    127\n",
       "3     40\n",
       "4      9\n",
       "Name: Title, dtype: int64"
      ]
     },
     "execution_count": 85,
     "metadata": {},
     "output_type": "execute_result"
    }
   ],
   "source": [
    "train['Title'].value_counts()"
   ]
  },
  {
   "cell_type": "code",
   "execution_count": null,
   "metadata": {},
   "outputs": [],
   "source": []
  },
  {
   "cell_type": "code",
   "execution_count": 86,
   "metadata": {},
   "outputs": [],
   "source": [
    "test['Title'] = test['Title'].map({'Mr': 0, 'Miss': 1, \n",
    "            'Mrs': 2, 'Master': 3, 'Other': 4})"
   ]
  },
  {
   "cell_type": "code",
   "execution_count": 87,
   "metadata": {},
   "outputs": [
    {
     "data": {
      "text/html": [
       "<div>\n",
       "<style scoped>\n",
       "    .dataframe tbody tr th:only-of-type {\n",
       "        vertical-align: middle;\n",
       "    }\n",
       "\n",
       "    .dataframe tbody tr th {\n",
       "        vertical-align: top;\n",
       "    }\n",
       "\n",
       "    .dataframe thead th {\n",
       "        text-align: right;\n",
       "    }\n",
       "</style>\n",
       "<table border=\"1\" class=\"dataframe\">\n",
       "  <thead>\n",
       "    <tr style=\"text-align: right;\">\n",
       "      <th></th>\n",
       "      <th>PassengerId</th>\n",
       "      <th>Pclass</th>\n",
       "      <th>Name</th>\n",
       "      <th>Sex</th>\n",
       "      <th>Age</th>\n",
       "      <th>SibSp</th>\n",
       "      <th>Parch</th>\n",
       "      <th>Ticket</th>\n",
       "      <th>Fare</th>\n",
       "      <th>Cabin</th>\n",
       "      <th>Embarked</th>\n",
       "      <th>Title</th>\n",
       "    </tr>\n",
       "  </thead>\n",
       "  <tbody>\n",
       "    <tr>\n",
       "      <th>0</th>\n",
       "      <td>892</td>\n",
       "      <td>3</td>\n",
       "      <td>Kelly, Mr. James</td>\n",
       "      <td>0</td>\n",
       "      <td>2</td>\n",
       "      <td>0</td>\n",
       "      <td>0</td>\n",
       "      <td>330911</td>\n",
       "      <td>7.8292</td>\n",
       "      <td>NaN</td>\n",
       "      <td>2</td>\n",
       "      <td>0</td>\n",
       "    </tr>\n",
       "    <tr>\n",
       "      <th>1</th>\n",
       "      <td>893</td>\n",
       "      <td>3</td>\n",
       "      <td>Wilkes, Mrs. James (Ellen Needs)</td>\n",
       "      <td>1</td>\n",
       "      <td>3</td>\n",
       "      <td>1</td>\n",
       "      <td>0</td>\n",
       "      <td>363272</td>\n",
       "      <td>7.0000</td>\n",
       "      <td>NaN</td>\n",
       "      <td>0</td>\n",
       "      <td>2</td>\n",
       "    </tr>\n",
       "    <tr>\n",
       "      <th>2</th>\n",
       "      <td>894</td>\n",
       "      <td>2</td>\n",
       "      <td>Myles, Mr. Thomas Francis</td>\n",
       "      <td>0</td>\n",
       "      <td>4</td>\n",
       "      <td>0</td>\n",
       "      <td>0</td>\n",
       "      <td>240276</td>\n",
       "      <td>9.6875</td>\n",
       "      <td>NaN</td>\n",
       "      <td>2</td>\n",
       "      <td>0</td>\n",
       "    </tr>\n",
       "    <tr>\n",
       "      <th>3</th>\n",
       "      <td>895</td>\n",
       "      <td>3</td>\n",
       "      <td>Wirz, Mr. Albert</td>\n",
       "      <td>0</td>\n",
       "      <td>1</td>\n",
       "      <td>0</td>\n",
       "      <td>0</td>\n",
       "      <td>315154</td>\n",
       "      <td>8.6625</td>\n",
       "      <td>NaN</td>\n",
       "      <td>0</td>\n",
       "      <td>0</td>\n",
       "    </tr>\n",
       "    <tr>\n",
       "      <th>4</th>\n",
       "      <td>896</td>\n",
       "      <td>3</td>\n",
       "      <td>Hirvonen, Mrs. Alexander (Helga E Lindqvist)</td>\n",
       "      <td>1</td>\n",
       "      <td>1</td>\n",
       "      <td>1</td>\n",
       "      <td>1</td>\n",
       "      <td>3101298</td>\n",
       "      <td>12.2875</td>\n",
       "      <td>NaN</td>\n",
       "      <td>0</td>\n",
       "      <td>2</td>\n",
       "    </tr>\n",
       "    <tr>\n",
       "      <th>5</th>\n",
       "      <td>897</td>\n",
       "      <td>3</td>\n",
       "      <td>Svensson, Mr. Johan Cervin</td>\n",
       "      <td>0</td>\n",
       "      <td>0</td>\n",
       "      <td>0</td>\n",
       "      <td>0</td>\n",
       "      <td>7538</td>\n",
       "      <td>9.2250</td>\n",
       "      <td>NaN</td>\n",
       "      <td>0</td>\n",
       "      <td>0</td>\n",
       "    </tr>\n",
       "    <tr>\n",
       "      <th>6</th>\n",
       "      <td>898</td>\n",
       "      <td>3</td>\n",
       "      <td>Connolly, Miss. Kate</td>\n",
       "      <td>1</td>\n",
       "      <td>2</td>\n",
       "      <td>0</td>\n",
       "      <td>0</td>\n",
       "      <td>330972</td>\n",
       "      <td>7.6292</td>\n",
       "      <td>NaN</td>\n",
       "      <td>2</td>\n",
       "      <td>1</td>\n",
       "    </tr>\n",
       "    <tr>\n",
       "      <th>7</th>\n",
       "      <td>899</td>\n",
       "      <td>2</td>\n",
       "      <td>Caldwell, Mr. Albert Francis</td>\n",
       "      <td>0</td>\n",
       "      <td>1</td>\n",
       "      <td>1</td>\n",
       "      <td>1</td>\n",
       "      <td>248738</td>\n",
       "      <td>29.0000</td>\n",
       "      <td>NaN</td>\n",
       "      <td>0</td>\n",
       "      <td>0</td>\n",
       "    </tr>\n",
       "    <tr>\n",
       "      <th>8</th>\n",
       "      <td>900</td>\n",
       "      <td>3</td>\n",
       "      <td>Abrahim, Mrs. Joseph (Sophie Halaut Easu)</td>\n",
       "      <td>1</td>\n",
       "      <td>1</td>\n",
       "      <td>0</td>\n",
       "      <td>0</td>\n",
       "      <td>2657</td>\n",
       "      <td>7.2292</td>\n",
       "      <td>NaN</td>\n",
       "      <td>1</td>\n",
       "      <td>2</td>\n",
       "    </tr>\n",
       "    <tr>\n",
       "      <th>9</th>\n",
       "      <td>901</td>\n",
       "      <td>3</td>\n",
       "      <td>Davies, Mr. John Samuel</td>\n",
       "      <td>0</td>\n",
       "      <td>1</td>\n",
       "      <td>2</td>\n",
       "      <td>0</td>\n",
       "      <td>A/4 48871</td>\n",
       "      <td>24.1500</td>\n",
       "      <td>NaN</td>\n",
       "      <td>0</td>\n",
       "      <td>0</td>\n",
       "    </tr>\n",
       "    <tr>\n",
       "      <th>10</th>\n",
       "      <td>902</td>\n",
       "      <td>3</td>\n",
       "      <td>Ilieff, Mr. Ylio</td>\n",
       "      <td>0</td>\n",
       "      <td>2</td>\n",
       "      <td>0</td>\n",
       "      <td>0</td>\n",
       "      <td>349220</td>\n",
       "      <td>7.8958</td>\n",
       "      <td>NaN</td>\n",
       "      <td>0</td>\n",
       "      <td>0</td>\n",
       "    </tr>\n",
       "    <tr>\n",
       "      <th>11</th>\n",
       "      <td>903</td>\n",
       "      <td>1</td>\n",
       "      <td>Jones, Mr. Charles Cresson</td>\n",
       "      <td>0</td>\n",
       "      <td>3</td>\n",
       "      <td>0</td>\n",
       "      <td>0</td>\n",
       "      <td>694</td>\n",
       "      <td>26.0000</td>\n",
       "      <td>NaN</td>\n",
       "      <td>0</td>\n",
       "      <td>0</td>\n",
       "    </tr>\n",
       "    <tr>\n",
       "      <th>12</th>\n",
       "      <td>904</td>\n",
       "      <td>1</td>\n",
       "      <td>Snyder, Mrs. John Pillsbury (Nelle Stevenson)</td>\n",
       "      <td>1</td>\n",
       "      <td>1</td>\n",
       "      <td>1</td>\n",
       "      <td>0</td>\n",
       "      <td>21228</td>\n",
       "      <td>82.2667</td>\n",
       "      <td>B45</td>\n",
       "      <td>0</td>\n",
       "      <td>2</td>\n",
       "    </tr>\n",
       "    <tr>\n",
       "      <th>13</th>\n",
       "      <td>905</td>\n",
       "      <td>2</td>\n",
       "      <td>Howard, Mr. Benjamin</td>\n",
       "      <td>0</td>\n",
       "      <td>4</td>\n",
       "      <td>1</td>\n",
       "      <td>0</td>\n",
       "      <td>24065</td>\n",
       "      <td>26.0000</td>\n",
       "      <td>NaN</td>\n",
       "      <td>0</td>\n",
       "      <td>0</td>\n",
       "    </tr>\n",
       "    <tr>\n",
       "      <th>14</th>\n",
       "      <td>906</td>\n",
       "      <td>1</td>\n",
       "      <td>Chaffee, Mrs. Herbert Fuller (Carrie Constance...</td>\n",
       "      <td>1</td>\n",
       "      <td>3</td>\n",
       "      <td>1</td>\n",
       "      <td>0</td>\n",
       "      <td>W.E.P. 5734</td>\n",
       "      <td>61.1750</td>\n",
       "      <td>E31</td>\n",
       "      <td>0</td>\n",
       "      <td>2</td>\n",
       "    </tr>\n",
       "    <tr>\n",
       "      <th>15</th>\n",
       "      <td>907</td>\n",
       "      <td>2</td>\n",
       "      <td>del Carlo, Mrs. Sebastiano (Argenia Genovesi)</td>\n",
       "      <td>1</td>\n",
       "      <td>1</td>\n",
       "      <td>1</td>\n",
       "      <td>0</td>\n",
       "      <td>SC/PARIS 2167</td>\n",
       "      <td>27.7208</td>\n",
       "      <td>NaN</td>\n",
       "      <td>1</td>\n",
       "      <td>2</td>\n",
       "    </tr>\n",
       "    <tr>\n",
       "      <th>16</th>\n",
       "      <td>908</td>\n",
       "      <td>2</td>\n",
       "      <td>Keane, Mr. Daniel</td>\n",
       "      <td>0</td>\n",
       "      <td>2</td>\n",
       "      <td>0</td>\n",
       "      <td>0</td>\n",
       "      <td>233734</td>\n",
       "      <td>12.3500</td>\n",
       "      <td>NaN</td>\n",
       "      <td>2</td>\n",
       "      <td>0</td>\n",
       "    </tr>\n",
       "    <tr>\n",
       "      <th>17</th>\n",
       "      <td>909</td>\n",
       "      <td>3</td>\n",
       "      <td>Assaf, Mr. Gerios</td>\n",
       "      <td>0</td>\n",
       "      <td>1</td>\n",
       "      <td>0</td>\n",
       "      <td>0</td>\n",
       "      <td>2692</td>\n",
       "      <td>7.2250</td>\n",
       "      <td>NaN</td>\n",
       "      <td>1</td>\n",
       "      <td>0</td>\n",
       "    </tr>\n",
       "    <tr>\n",
       "      <th>18</th>\n",
       "      <td>910</td>\n",
       "      <td>3</td>\n",
       "      <td>Ilmakangas, Miss. Ida Livija</td>\n",
       "      <td>1</td>\n",
       "      <td>1</td>\n",
       "      <td>1</td>\n",
       "      <td>0</td>\n",
       "      <td>STON/O2. 3101270</td>\n",
       "      <td>7.9250</td>\n",
       "      <td>NaN</td>\n",
       "      <td>0</td>\n",
       "      <td>1</td>\n",
       "    </tr>\n",
       "    <tr>\n",
       "      <th>19</th>\n",
       "      <td>911</td>\n",
       "      <td>3</td>\n",
       "      <td>Assaf Khalil, Mrs. Mariana (Miriam\")\"</td>\n",
       "      <td>1</td>\n",
       "      <td>3</td>\n",
       "      <td>0</td>\n",
       "      <td>0</td>\n",
       "      <td>2696</td>\n",
       "      <td>7.2250</td>\n",
       "      <td>NaN</td>\n",
       "      <td>1</td>\n",
       "      <td>2</td>\n",
       "    </tr>\n",
       "    <tr>\n",
       "      <th>20</th>\n",
       "      <td>912</td>\n",
       "      <td>1</td>\n",
       "      <td>Rothschild, Mr. Martin</td>\n",
       "      <td>0</td>\n",
       "      <td>3</td>\n",
       "      <td>1</td>\n",
       "      <td>0</td>\n",
       "      <td>PC 17603</td>\n",
       "      <td>59.4000</td>\n",
       "      <td>NaN</td>\n",
       "      <td>1</td>\n",
       "      <td>0</td>\n",
       "    </tr>\n",
       "    <tr>\n",
       "      <th>21</th>\n",
       "      <td>913</td>\n",
       "      <td>3</td>\n",
       "      <td>Olsen, Master. Artur Karl</td>\n",
       "      <td>0</td>\n",
       "      <td>0</td>\n",
       "      <td>0</td>\n",
       "      <td>1</td>\n",
       "      <td>C 17368</td>\n",
       "      <td>3.1708</td>\n",
       "      <td>NaN</td>\n",
       "      <td>0</td>\n",
       "      <td>3</td>\n",
       "    </tr>\n",
       "    <tr>\n",
       "      <th>22</th>\n",
       "      <td>914</td>\n",
       "      <td>1</td>\n",
       "      <td>Flegenheim, Mrs. Alfred (Antoinette)</td>\n",
       "      <td>1</td>\n",
       "      <td>2</td>\n",
       "      <td>0</td>\n",
       "      <td>0</td>\n",
       "      <td>PC 17598</td>\n",
       "      <td>31.6833</td>\n",
       "      <td>NaN</td>\n",
       "      <td>0</td>\n",
       "      <td>2</td>\n",
       "    </tr>\n",
       "    <tr>\n",
       "      <th>23</th>\n",
       "      <td>915</td>\n",
       "      <td>1</td>\n",
       "      <td>Williams, Mr. Richard Norris II</td>\n",
       "      <td>0</td>\n",
       "      <td>1</td>\n",
       "      <td>0</td>\n",
       "      <td>1</td>\n",
       "      <td>PC 17597</td>\n",
       "      <td>61.3792</td>\n",
       "      <td>NaN</td>\n",
       "      <td>1</td>\n",
       "      <td>0</td>\n",
       "    </tr>\n",
       "    <tr>\n",
       "      <th>24</th>\n",
       "      <td>916</td>\n",
       "      <td>1</td>\n",
       "      <td>Ryerson, Mrs. Arthur Larned (Emily Maria Borie)</td>\n",
       "      <td>1</td>\n",
       "      <td>3</td>\n",
       "      <td>1</td>\n",
       "      <td>3</td>\n",
       "      <td>PC 17608</td>\n",
       "      <td>262.3750</td>\n",
       "      <td>B57 B59 B63 B66</td>\n",
       "      <td>1</td>\n",
       "      <td>2</td>\n",
       "    </tr>\n",
       "    <tr>\n",
       "      <th>25</th>\n",
       "      <td>917</td>\n",
       "      <td>3</td>\n",
       "      <td>Robins, Mr. Alexander A</td>\n",
       "      <td>0</td>\n",
       "      <td>3</td>\n",
       "      <td>1</td>\n",
       "      <td>0</td>\n",
       "      <td>A/5. 3337</td>\n",
       "      <td>14.5000</td>\n",
       "      <td>NaN</td>\n",
       "      <td>0</td>\n",
       "      <td>0</td>\n",
       "    </tr>\n",
       "    <tr>\n",
       "      <th>26</th>\n",
       "      <td>918</td>\n",
       "      <td>1</td>\n",
       "      <td>Ostby, Miss. Helene Ragnhild</td>\n",
       "      <td>1</td>\n",
       "      <td>1</td>\n",
       "      <td>0</td>\n",
       "      <td>1</td>\n",
       "      <td>113509</td>\n",
       "      <td>61.9792</td>\n",
       "      <td>B36</td>\n",
       "      <td>1</td>\n",
       "      <td>1</td>\n",
       "    </tr>\n",
       "    <tr>\n",
       "      <th>27</th>\n",
       "      <td>919</td>\n",
       "      <td>3</td>\n",
       "      <td>Daher, Mr. Shedid</td>\n",
       "      <td>0</td>\n",
       "      <td>1</td>\n",
       "      <td>0</td>\n",
       "      <td>0</td>\n",
       "      <td>2698</td>\n",
       "      <td>7.2250</td>\n",
       "      <td>NaN</td>\n",
       "      <td>1</td>\n",
       "      <td>0</td>\n",
       "    </tr>\n",
       "    <tr>\n",
       "      <th>28</th>\n",
       "      <td>920</td>\n",
       "      <td>1</td>\n",
       "      <td>Brady, Mr. John Bertram</td>\n",
       "      <td>0</td>\n",
       "      <td>3</td>\n",
       "      <td>0</td>\n",
       "      <td>0</td>\n",
       "      <td>113054</td>\n",
       "      <td>30.5000</td>\n",
       "      <td>A21</td>\n",
       "      <td>0</td>\n",
       "      <td>0</td>\n",
       "    </tr>\n",
       "    <tr>\n",
       "      <th>29</th>\n",
       "      <td>921</td>\n",
       "      <td>3</td>\n",
       "      <td>Samaan, Mr. Elias</td>\n",
       "      <td>0</td>\n",
       "      <td>2</td>\n",
       "      <td>2</td>\n",
       "      <td>0</td>\n",
       "      <td>2662</td>\n",
       "      <td>21.6792</td>\n",
       "      <td>NaN</td>\n",
       "      <td>1</td>\n",
       "      <td>0</td>\n",
       "    </tr>\n",
       "    <tr>\n",
       "      <th>...</th>\n",
       "      <td>...</td>\n",
       "      <td>...</td>\n",
       "      <td>...</td>\n",
       "      <td>...</td>\n",
       "      <td>...</td>\n",
       "      <td>...</td>\n",
       "      <td>...</td>\n",
       "      <td>...</td>\n",
       "      <td>...</td>\n",
       "      <td>...</td>\n",
       "      <td>...</td>\n",
       "      <td>...</td>\n",
       "    </tr>\n",
       "    <tr>\n",
       "      <th>388</th>\n",
       "      <td>1280</td>\n",
       "      <td>3</td>\n",
       "      <td>Canavan, Mr. Patrick</td>\n",
       "      <td>0</td>\n",
       "      <td>1</td>\n",
       "      <td>0</td>\n",
       "      <td>0</td>\n",
       "      <td>364858</td>\n",
       "      <td>7.7500</td>\n",
       "      <td>NaN</td>\n",
       "      <td>2</td>\n",
       "      <td>0</td>\n",
       "    </tr>\n",
       "    <tr>\n",
       "      <th>389</th>\n",
       "      <td>1281</td>\n",
       "      <td>3</td>\n",
       "      <td>Palsson, Master. Paul Folke</td>\n",
       "      <td>0</td>\n",
       "      <td>0</td>\n",
       "      <td>3</td>\n",
       "      <td>1</td>\n",
       "      <td>349909</td>\n",
       "      <td>21.0750</td>\n",
       "      <td>NaN</td>\n",
       "      <td>0</td>\n",
       "      <td>3</td>\n",
       "    </tr>\n",
       "    <tr>\n",
       "      <th>390</th>\n",
       "      <td>1282</td>\n",
       "      <td>1</td>\n",
       "      <td>Payne, Mr. Vivian Ponsonby</td>\n",
       "      <td>0</td>\n",
       "      <td>1</td>\n",
       "      <td>0</td>\n",
       "      <td>0</td>\n",
       "      <td>12749</td>\n",
       "      <td>93.5000</td>\n",
       "      <td>B24</td>\n",
       "      <td>0</td>\n",
       "      <td>0</td>\n",
       "    </tr>\n",
       "    <tr>\n",
       "      <th>391</th>\n",
       "      <td>1283</td>\n",
       "      <td>1</td>\n",
       "      <td>Lines, Mrs. Ernest H (Elizabeth Lindsey James)</td>\n",
       "      <td>1</td>\n",
       "      <td>3</td>\n",
       "      <td>0</td>\n",
       "      <td>1</td>\n",
       "      <td>PC 17592</td>\n",
       "      <td>39.4000</td>\n",
       "      <td>D28</td>\n",
       "      <td>0</td>\n",
       "      <td>2</td>\n",
       "    </tr>\n",
       "    <tr>\n",
       "      <th>392</th>\n",
       "      <td>1284</td>\n",
       "      <td>3</td>\n",
       "      <td>Abbott, Master. Eugene Joseph</td>\n",
       "      <td>0</td>\n",
       "      <td>0</td>\n",
       "      <td>0</td>\n",
       "      <td>2</td>\n",
       "      <td>C.A. 2673</td>\n",
       "      <td>20.2500</td>\n",
       "      <td>NaN</td>\n",
       "      <td>0</td>\n",
       "      <td>3</td>\n",
       "    </tr>\n",
       "    <tr>\n",
       "      <th>393</th>\n",
       "      <td>1285</td>\n",
       "      <td>2</td>\n",
       "      <td>Gilbert, Mr. William</td>\n",
       "      <td>0</td>\n",
       "      <td>3</td>\n",
       "      <td>0</td>\n",
       "      <td>0</td>\n",
       "      <td>C.A. 30769</td>\n",
       "      <td>10.5000</td>\n",
       "      <td>NaN</td>\n",
       "      <td>0</td>\n",
       "      <td>0</td>\n",
       "    </tr>\n",
       "    <tr>\n",
       "      <th>394</th>\n",
       "      <td>1286</td>\n",
       "      <td>3</td>\n",
       "      <td>Kink-Heilmann, Mr. Anton</td>\n",
       "      <td>0</td>\n",
       "      <td>1</td>\n",
       "      <td>3</td>\n",
       "      <td>1</td>\n",
       "      <td>315153</td>\n",
       "      <td>22.0250</td>\n",
       "      <td>NaN</td>\n",
       "      <td>0</td>\n",
       "      <td>0</td>\n",
       "    </tr>\n",
       "    <tr>\n",
       "      <th>395</th>\n",
       "      <td>1287</td>\n",
       "      <td>1</td>\n",
       "      <td>Smith, Mrs. Lucien Philip (Mary Eloise Hughes)</td>\n",
       "      <td>1</td>\n",
       "      <td>1</td>\n",
       "      <td>1</td>\n",
       "      <td>0</td>\n",
       "      <td>13695</td>\n",
       "      <td>60.0000</td>\n",
       "      <td>C31</td>\n",
       "      <td>0</td>\n",
       "      <td>2</td>\n",
       "    </tr>\n",
       "    <tr>\n",
       "      <th>396</th>\n",
       "      <td>1288</td>\n",
       "      <td>3</td>\n",
       "      <td>Colbert, Mr. Patrick</td>\n",
       "      <td>0</td>\n",
       "      <td>1</td>\n",
       "      <td>0</td>\n",
       "      <td>0</td>\n",
       "      <td>371109</td>\n",
       "      <td>7.2500</td>\n",
       "      <td>NaN</td>\n",
       "      <td>2</td>\n",
       "      <td>0</td>\n",
       "    </tr>\n",
       "    <tr>\n",
       "      <th>397</th>\n",
       "      <td>1289</td>\n",
       "      <td>1</td>\n",
       "      <td>Frolicher-Stehli, Mrs. Maxmillian (Margaretha ...</td>\n",
       "      <td>1</td>\n",
       "      <td>3</td>\n",
       "      <td>1</td>\n",
       "      <td>1</td>\n",
       "      <td>13567</td>\n",
       "      <td>79.2000</td>\n",
       "      <td>B41</td>\n",
       "      <td>1</td>\n",
       "      <td>2</td>\n",
       "    </tr>\n",
       "    <tr>\n",
       "      <th>398</th>\n",
       "      <td>1290</td>\n",
       "      <td>3</td>\n",
       "      <td>Larsson-Rondberg, Mr. Edvard A</td>\n",
       "      <td>0</td>\n",
       "      <td>1</td>\n",
       "      <td>0</td>\n",
       "      <td>0</td>\n",
       "      <td>347065</td>\n",
       "      <td>7.7750</td>\n",
       "      <td>NaN</td>\n",
       "      <td>0</td>\n",
       "      <td>0</td>\n",
       "    </tr>\n",
       "    <tr>\n",
       "      <th>399</th>\n",
       "      <td>1291</td>\n",
       "      <td>3</td>\n",
       "      <td>Conlon, Mr. Thomas Henry</td>\n",
       "      <td>0</td>\n",
       "      <td>2</td>\n",
       "      <td>0</td>\n",
       "      <td>0</td>\n",
       "      <td>21332</td>\n",
       "      <td>7.7333</td>\n",
       "      <td>NaN</td>\n",
       "      <td>2</td>\n",
       "      <td>0</td>\n",
       "    </tr>\n",
       "    <tr>\n",
       "      <th>400</th>\n",
       "      <td>1292</td>\n",
       "      <td>1</td>\n",
       "      <td>Bonnell, Miss. Caroline</td>\n",
       "      <td>1</td>\n",
       "      <td>2</td>\n",
       "      <td>0</td>\n",
       "      <td>0</td>\n",
       "      <td>36928</td>\n",
       "      <td>164.8667</td>\n",
       "      <td>C7</td>\n",
       "      <td>0</td>\n",
       "      <td>1</td>\n",
       "    </tr>\n",
       "    <tr>\n",
       "      <th>401</th>\n",
       "      <td>1293</td>\n",
       "      <td>2</td>\n",
       "      <td>Gale, Mr. Harry</td>\n",
       "      <td>0</td>\n",
       "      <td>2</td>\n",
       "      <td>1</td>\n",
       "      <td>0</td>\n",
       "      <td>28664</td>\n",
       "      <td>21.0000</td>\n",
       "      <td>NaN</td>\n",
       "      <td>0</td>\n",
       "      <td>0</td>\n",
       "    </tr>\n",
       "    <tr>\n",
       "      <th>402</th>\n",
       "      <td>1294</td>\n",
       "      <td>1</td>\n",
       "      <td>Gibson, Miss. Dorothy Winifred</td>\n",
       "      <td>1</td>\n",
       "      <td>1</td>\n",
       "      <td>0</td>\n",
       "      <td>1</td>\n",
       "      <td>112378</td>\n",
       "      <td>59.4000</td>\n",
       "      <td>NaN</td>\n",
       "      <td>1</td>\n",
       "      <td>1</td>\n",
       "    </tr>\n",
       "    <tr>\n",
       "      <th>403</th>\n",
       "      <td>1295</td>\n",
       "      <td>1</td>\n",
       "      <td>Carrau, Mr. Jose Pedro</td>\n",
       "      <td>0</td>\n",
       "      <td>1</td>\n",
       "      <td>0</td>\n",
       "      <td>0</td>\n",
       "      <td>113059</td>\n",
       "      <td>47.1000</td>\n",
       "      <td>NaN</td>\n",
       "      <td>0</td>\n",
       "      <td>0</td>\n",
       "    </tr>\n",
       "    <tr>\n",
       "      <th>404</th>\n",
       "      <td>1296</td>\n",
       "      <td>1</td>\n",
       "      <td>Frauenthal, Mr. Isaac Gerald</td>\n",
       "      <td>0</td>\n",
       "      <td>3</td>\n",
       "      <td>1</td>\n",
       "      <td>0</td>\n",
       "      <td>17765</td>\n",
       "      <td>27.7208</td>\n",
       "      <td>D40</td>\n",
       "      <td>1</td>\n",
       "      <td>0</td>\n",
       "    </tr>\n",
       "    <tr>\n",
       "      <th>405</th>\n",
       "      <td>1297</td>\n",
       "      <td>2</td>\n",
       "      <td>Nourney, Mr. Alfred (Baron von Drachstedt\")\"</td>\n",
       "      <td>0</td>\n",
       "      <td>1</td>\n",
       "      <td>0</td>\n",
       "      <td>0</td>\n",
       "      <td>SC/PARIS 2166</td>\n",
       "      <td>13.8625</td>\n",
       "      <td>D38</td>\n",
       "      <td>1</td>\n",
       "      <td>0</td>\n",
       "    </tr>\n",
       "    <tr>\n",
       "      <th>406</th>\n",
       "      <td>1298</td>\n",
       "      <td>2</td>\n",
       "      <td>Ware, Mr. William Jeffery</td>\n",
       "      <td>0</td>\n",
       "      <td>1</td>\n",
       "      <td>1</td>\n",
       "      <td>0</td>\n",
       "      <td>28666</td>\n",
       "      <td>10.5000</td>\n",
       "      <td>NaN</td>\n",
       "      <td>0</td>\n",
       "      <td>0</td>\n",
       "    </tr>\n",
       "    <tr>\n",
       "      <th>407</th>\n",
       "      <td>1299</td>\n",
       "      <td>1</td>\n",
       "      <td>Widener, Mr. George Dunton</td>\n",
       "      <td>0</td>\n",
       "      <td>3</td>\n",
       "      <td>1</td>\n",
       "      <td>1</td>\n",
       "      <td>113503</td>\n",
       "      <td>211.5000</td>\n",
       "      <td>C80</td>\n",
       "      <td>1</td>\n",
       "      <td>0</td>\n",
       "    </tr>\n",
       "    <tr>\n",
       "      <th>408</th>\n",
       "      <td>1300</td>\n",
       "      <td>3</td>\n",
       "      <td>Riordan, Miss. Johanna Hannah\"\"</td>\n",
       "      <td>1</td>\n",
       "      <td>1</td>\n",
       "      <td>0</td>\n",
       "      <td>0</td>\n",
       "      <td>334915</td>\n",
       "      <td>7.7208</td>\n",
       "      <td>NaN</td>\n",
       "      <td>2</td>\n",
       "      <td>1</td>\n",
       "    </tr>\n",
       "    <tr>\n",
       "      <th>409</th>\n",
       "      <td>1301</td>\n",
       "      <td>3</td>\n",
       "      <td>Peacock, Miss. Treasteall</td>\n",
       "      <td>1</td>\n",
       "      <td>0</td>\n",
       "      <td>1</td>\n",
       "      <td>1</td>\n",
       "      <td>SOTON/O.Q. 3101315</td>\n",
       "      <td>13.7750</td>\n",
       "      <td>NaN</td>\n",
       "      <td>0</td>\n",
       "      <td>1</td>\n",
       "    </tr>\n",
       "    <tr>\n",
       "      <th>410</th>\n",
       "      <td>1302</td>\n",
       "      <td>3</td>\n",
       "      <td>Naughton, Miss. Hannah</td>\n",
       "      <td>1</td>\n",
       "      <td>1</td>\n",
       "      <td>0</td>\n",
       "      <td>0</td>\n",
       "      <td>365237</td>\n",
       "      <td>7.7500</td>\n",
       "      <td>NaN</td>\n",
       "      <td>2</td>\n",
       "      <td>1</td>\n",
       "    </tr>\n",
       "    <tr>\n",
       "      <th>411</th>\n",
       "      <td>1303</td>\n",
       "      <td>1</td>\n",
       "      <td>Minahan, Mrs. William Edward (Lillian E Thorpe)</td>\n",
       "      <td>1</td>\n",
       "      <td>2</td>\n",
       "      <td>1</td>\n",
       "      <td>0</td>\n",
       "      <td>19928</td>\n",
       "      <td>90.0000</td>\n",
       "      <td>C78</td>\n",
       "      <td>2</td>\n",
       "      <td>2</td>\n",
       "    </tr>\n",
       "    <tr>\n",
       "      <th>412</th>\n",
       "      <td>1304</td>\n",
       "      <td>3</td>\n",
       "      <td>Henriksson, Miss. Jenny Lovisa</td>\n",
       "      <td>1</td>\n",
       "      <td>1</td>\n",
       "      <td>0</td>\n",
       "      <td>0</td>\n",
       "      <td>347086</td>\n",
       "      <td>7.7750</td>\n",
       "      <td>NaN</td>\n",
       "      <td>0</td>\n",
       "      <td>1</td>\n",
       "    </tr>\n",
       "    <tr>\n",
       "      <th>413</th>\n",
       "      <td>1305</td>\n",
       "      <td>3</td>\n",
       "      <td>Spector, Mr. Woolf</td>\n",
       "      <td>0</td>\n",
       "      <td>2</td>\n",
       "      <td>0</td>\n",
       "      <td>0</td>\n",
       "      <td>A.5. 3236</td>\n",
       "      <td>8.0500</td>\n",
       "      <td>NaN</td>\n",
       "      <td>0</td>\n",
       "      <td>0</td>\n",
       "    </tr>\n",
       "    <tr>\n",
       "      <th>414</th>\n",
       "      <td>1306</td>\n",
       "      <td>1</td>\n",
       "      <td>Oliva y Ocana, Dona. Fermina</td>\n",
       "      <td>1</td>\n",
       "      <td>2</td>\n",
       "      <td>0</td>\n",
       "      <td>0</td>\n",
       "      <td>PC 17758</td>\n",
       "      <td>108.9000</td>\n",
       "      <td>C105</td>\n",
       "      <td>1</td>\n",
       "      <td>0</td>\n",
       "    </tr>\n",
       "    <tr>\n",
       "      <th>415</th>\n",
       "      <td>1307</td>\n",
       "      <td>3</td>\n",
       "      <td>Saether, Mr. Simon Sivertsen</td>\n",
       "      <td>0</td>\n",
       "      <td>2</td>\n",
       "      <td>0</td>\n",
       "      <td>0</td>\n",
       "      <td>SOTON/O.Q. 3101262</td>\n",
       "      <td>7.2500</td>\n",
       "      <td>NaN</td>\n",
       "      <td>0</td>\n",
       "      <td>0</td>\n",
       "    </tr>\n",
       "    <tr>\n",
       "      <th>416</th>\n",
       "      <td>1308</td>\n",
       "      <td>3</td>\n",
       "      <td>Ware, Mr. Frederick</td>\n",
       "      <td>0</td>\n",
       "      <td>2</td>\n",
       "      <td>0</td>\n",
       "      <td>0</td>\n",
       "      <td>359309</td>\n",
       "      <td>8.0500</td>\n",
       "      <td>NaN</td>\n",
       "      <td>0</td>\n",
       "      <td>0</td>\n",
       "    </tr>\n",
       "    <tr>\n",
       "      <th>417</th>\n",
       "      <td>1309</td>\n",
       "      <td>3</td>\n",
       "      <td>Peter, Master. Michael J</td>\n",
       "      <td>0</td>\n",
       "      <td>0</td>\n",
       "      <td>1</td>\n",
       "      <td>1</td>\n",
       "      <td>2668</td>\n",
       "      <td>22.3583</td>\n",
       "      <td>NaN</td>\n",
       "      <td>1</td>\n",
       "      <td>3</td>\n",
       "    </tr>\n",
       "  </tbody>\n",
       "</table>\n",
       "<p>418 rows × 12 columns</p>\n",
       "</div>"
      ],
      "text/plain": [
       "     PassengerId  Pclass                                               Name  \\\n",
       "0            892       3                                   Kelly, Mr. James   \n",
       "1            893       3                   Wilkes, Mrs. James (Ellen Needs)   \n",
       "2            894       2                          Myles, Mr. Thomas Francis   \n",
       "3            895       3                                   Wirz, Mr. Albert   \n",
       "4            896       3       Hirvonen, Mrs. Alexander (Helga E Lindqvist)   \n",
       "5            897       3                         Svensson, Mr. Johan Cervin   \n",
       "6            898       3                               Connolly, Miss. Kate   \n",
       "7            899       2                       Caldwell, Mr. Albert Francis   \n",
       "8            900       3          Abrahim, Mrs. Joseph (Sophie Halaut Easu)   \n",
       "9            901       3                            Davies, Mr. John Samuel   \n",
       "10           902       3                                   Ilieff, Mr. Ylio   \n",
       "11           903       1                         Jones, Mr. Charles Cresson   \n",
       "12           904       1      Snyder, Mrs. John Pillsbury (Nelle Stevenson)   \n",
       "13           905       2                               Howard, Mr. Benjamin   \n",
       "14           906       1  Chaffee, Mrs. Herbert Fuller (Carrie Constance...   \n",
       "15           907       2      del Carlo, Mrs. Sebastiano (Argenia Genovesi)   \n",
       "16           908       2                                  Keane, Mr. Daniel   \n",
       "17           909       3                                  Assaf, Mr. Gerios   \n",
       "18           910       3                       Ilmakangas, Miss. Ida Livija   \n",
       "19           911       3              Assaf Khalil, Mrs. Mariana (Miriam\")\"   \n",
       "20           912       1                             Rothschild, Mr. Martin   \n",
       "21           913       3                          Olsen, Master. Artur Karl   \n",
       "22           914       1               Flegenheim, Mrs. Alfred (Antoinette)   \n",
       "23           915       1                    Williams, Mr. Richard Norris II   \n",
       "24           916       1    Ryerson, Mrs. Arthur Larned (Emily Maria Borie)   \n",
       "25           917       3                            Robins, Mr. Alexander A   \n",
       "26           918       1                       Ostby, Miss. Helene Ragnhild   \n",
       "27           919       3                                  Daher, Mr. Shedid   \n",
       "28           920       1                            Brady, Mr. John Bertram   \n",
       "29           921       3                                  Samaan, Mr. Elias   \n",
       "..           ...     ...                                                ...   \n",
       "388         1280       3                               Canavan, Mr. Patrick   \n",
       "389         1281       3                        Palsson, Master. Paul Folke   \n",
       "390         1282       1                         Payne, Mr. Vivian Ponsonby   \n",
       "391         1283       1     Lines, Mrs. Ernest H (Elizabeth Lindsey James)   \n",
       "392         1284       3                      Abbott, Master. Eugene Joseph   \n",
       "393         1285       2                               Gilbert, Mr. William   \n",
       "394         1286       3                           Kink-Heilmann, Mr. Anton   \n",
       "395         1287       1     Smith, Mrs. Lucien Philip (Mary Eloise Hughes)   \n",
       "396         1288       3                               Colbert, Mr. Patrick   \n",
       "397         1289       1  Frolicher-Stehli, Mrs. Maxmillian (Margaretha ...   \n",
       "398         1290       3                     Larsson-Rondberg, Mr. Edvard A   \n",
       "399         1291       3                           Conlon, Mr. Thomas Henry   \n",
       "400         1292       1                            Bonnell, Miss. Caroline   \n",
       "401         1293       2                                    Gale, Mr. Harry   \n",
       "402         1294       1                     Gibson, Miss. Dorothy Winifred   \n",
       "403         1295       1                             Carrau, Mr. Jose Pedro   \n",
       "404         1296       1                       Frauenthal, Mr. Isaac Gerald   \n",
       "405         1297       2       Nourney, Mr. Alfred (Baron von Drachstedt\")\"   \n",
       "406         1298       2                          Ware, Mr. William Jeffery   \n",
       "407         1299       1                         Widener, Mr. George Dunton   \n",
       "408         1300       3                    Riordan, Miss. Johanna Hannah\"\"   \n",
       "409         1301       3                          Peacock, Miss. Treasteall   \n",
       "410         1302       3                             Naughton, Miss. Hannah   \n",
       "411         1303       1    Minahan, Mrs. William Edward (Lillian E Thorpe)   \n",
       "412         1304       3                     Henriksson, Miss. Jenny Lovisa   \n",
       "413         1305       3                                 Spector, Mr. Woolf   \n",
       "414         1306       1                       Oliva y Ocana, Dona. Fermina   \n",
       "415         1307       3                       Saether, Mr. Simon Sivertsen   \n",
       "416         1308       3                                Ware, Mr. Frederick   \n",
       "417         1309       3                           Peter, Master. Michael J   \n",
       "\n",
       "     Sex  Age  SibSp  Parch              Ticket      Fare            Cabin  \\\n",
       "0      0    2      0      0              330911    7.8292              NaN   \n",
       "1      1    3      1      0              363272    7.0000              NaN   \n",
       "2      0    4      0      0              240276    9.6875              NaN   \n",
       "3      0    1      0      0              315154    8.6625              NaN   \n",
       "4      1    1      1      1             3101298   12.2875              NaN   \n",
       "5      0    0      0      0                7538    9.2250              NaN   \n",
       "6      1    2      0      0              330972    7.6292              NaN   \n",
       "7      0    1      1      1              248738   29.0000              NaN   \n",
       "8      1    1      0      0                2657    7.2292              NaN   \n",
       "9      0    1      2      0           A/4 48871   24.1500              NaN   \n",
       "10     0    2      0      0              349220    7.8958              NaN   \n",
       "11     0    3      0      0                 694   26.0000              NaN   \n",
       "12     1    1      1      0               21228   82.2667              B45   \n",
       "13     0    4      1      0               24065   26.0000              NaN   \n",
       "14     1    3      1      0         W.E.P. 5734   61.1750              E31   \n",
       "15     1    1      1      0       SC/PARIS 2167   27.7208              NaN   \n",
       "16     0    2      0      0              233734   12.3500              NaN   \n",
       "17     0    1      0      0                2692    7.2250              NaN   \n",
       "18     1    1      1      0    STON/O2. 3101270    7.9250              NaN   \n",
       "19     1    3      0      0                2696    7.2250              NaN   \n",
       "20     0    3      1      0            PC 17603   59.4000              NaN   \n",
       "21     0    0      0      1             C 17368    3.1708              NaN   \n",
       "22     1    2      0      0            PC 17598   31.6833              NaN   \n",
       "23     0    1      0      1            PC 17597   61.3792              NaN   \n",
       "24     1    3      1      3            PC 17608  262.3750  B57 B59 B63 B66   \n",
       "25     0    3      1      0           A/5. 3337   14.5000              NaN   \n",
       "26     1    1      0      1              113509   61.9792              B36   \n",
       "27     0    1      0      0                2698    7.2250              NaN   \n",
       "28     0    3      0      0              113054   30.5000              A21   \n",
       "29     0    2      2      0                2662   21.6792              NaN   \n",
       "..   ...  ...    ...    ...                 ...       ...              ...   \n",
       "388    0    1      0      0              364858    7.7500              NaN   \n",
       "389    0    0      3      1              349909   21.0750              NaN   \n",
       "390    0    1      0      0               12749   93.5000              B24   \n",
       "391    1    3      0      1            PC 17592   39.4000              D28   \n",
       "392    0    0      0      2           C.A. 2673   20.2500              NaN   \n",
       "393    0    3      0      0          C.A. 30769   10.5000              NaN   \n",
       "394    0    1      3      1              315153   22.0250              NaN   \n",
       "395    1    1      1      0               13695   60.0000              C31   \n",
       "396    0    1      0      0              371109    7.2500              NaN   \n",
       "397    1    3      1      1               13567   79.2000              B41   \n",
       "398    0    1      0      0              347065    7.7750              NaN   \n",
       "399    0    2      0      0               21332    7.7333              NaN   \n",
       "400    1    2      0      0               36928  164.8667               C7   \n",
       "401    0    2      1      0               28664   21.0000              NaN   \n",
       "402    1    1      0      1              112378   59.4000              NaN   \n",
       "403    0    1      0      0              113059   47.1000              NaN   \n",
       "404    0    3      1      0               17765   27.7208              D40   \n",
       "405    0    1      0      0       SC/PARIS 2166   13.8625              D38   \n",
       "406    0    1      1      0               28666   10.5000              NaN   \n",
       "407    0    3      1      1              113503  211.5000              C80   \n",
       "408    1    1      0      0              334915    7.7208              NaN   \n",
       "409    1    0      1      1  SOTON/O.Q. 3101315   13.7750              NaN   \n",
       "410    1    1      0      0              365237    7.7500              NaN   \n",
       "411    1    2      1      0               19928   90.0000              C78   \n",
       "412    1    1      0      0              347086    7.7750              NaN   \n",
       "413    0    2      0      0           A.5. 3236    8.0500              NaN   \n",
       "414    1    2      0      0            PC 17758  108.9000             C105   \n",
       "415    0    2      0      0  SOTON/O.Q. 3101262    7.2500              NaN   \n",
       "416    0    2      0      0              359309    8.0500              NaN   \n",
       "417    0    0      1      1                2668   22.3583              NaN   \n",
       "\n",
       "     Embarked  Title  \n",
       "0           2      0  \n",
       "1           0      2  \n",
       "2           2      0  \n",
       "3           0      0  \n",
       "4           0      2  \n",
       "5           0      0  \n",
       "6           2      1  \n",
       "7           0      0  \n",
       "8           1      2  \n",
       "9           0      0  \n",
       "10          0      0  \n",
       "11          0      0  \n",
       "12          0      2  \n",
       "13          0      0  \n",
       "14          0      2  \n",
       "15          1      2  \n",
       "16          2      0  \n",
       "17          1      0  \n",
       "18          0      1  \n",
       "19          1      2  \n",
       "20          1      0  \n",
       "21          0      3  \n",
       "22          0      2  \n",
       "23          1      0  \n",
       "24          1      2  \n",
       "25          0      0  \n",
       "26          1      1  \n",
       "27          1      0  \n",
       "28          0      0  \n",
       "29          1      0  \n",
       "..        ...    ...  \n",
       "388         2      0  \n",
       "389         0      3  \n",
       "390         0      0  \n",
       "391         0      2  \n",
       "392         0      3  \n",
       "393         0      0  \n",
       "394         0      0  \n",
       "395         0      2  \n",
       "396         2      0  \n",
       "397         1      2  \n",
       "398         0      0  \n",
       "399         2      0  \n",
       "400         0      1  \n",
       "401         0      0  \n",
       "402         1      1  \n",
       "403         0      0  \n",
       "404         1      0  \n",
       "405         1      0  \n",
       "406         0      0  \n",
       "407         1      0  \n",
       "408         2      1  \n",
       "409         0      1  \n",
       "410         2      1  \n",
       "411         2      2  \n",
       "412         0      1  \n",
       "413         0      0  \n",
       "414         1      0  \n",
       "415         0      0  \n",
       "416         0      0  \n",
       "417         1      3  \n",
       "\n",
       "[418 rows x 12 columns]"
      ]
     },
     "execution_count": 87,
     "metadata": {},
     "output_type": "execute_result"
    }
   ],
   "source": [
    "test"
   ]
  },
  {
   "cell_type": "code",
   "execution_count": null,
   "metadata": {},
   "outputs": [],
   "source": []
  },
  {
   "cell_type": "markdown",
   "metadata": {},
   "source": [
    "### 3.3 새로운 특성 만들기\n",
    "- 컬럼정보 조합을 통해 새로운 특성정보를 도출한다."
   ]
  },
  {
   "cell_type": "markdown",
   "metadata": {},
   "source": [
    "#### 3.3.1 Family Size"
   ]
  },
  {
   "cell_type": "markdown",
   "metadata": {},
   "source": [
    "SibSp(형제 자매)와 Parch(부모, 자녀) 컬럼의 값을 더해 Family Size 컬럼을 생성한다."
   ]
  },
  {
   "cell_type": "code",
   "execution_count": 88,
   "metadata": {},
   "outputs": [],
   "source": [
    "train['FamilySize'] = train['SibSp'] + train['Parch'] + 1 \n",
    "# 자신을 포함하기 위해 1을 더함\n",
    "test['FamilySize'] = test['SibSp'] + test['Parch'] + 1\n",
    "# 자신을 포함하기 위해 1을 더함"
   ]
  },
  {
   "cell_type": "code",
   "execution_count": 89,
   "metadata": {},
   "outputs": [
    {
     "data": {
      "text/plain": [
       "0    2\n",
       "1    2\n",
       "2    1\n",
       "3    2\n",
       "4    1\n",
       "Name: FamilySize, dtype: int64"
      ]
     },
     "execution_count": 89,
     "metadata": {},
     "output_type": "execute_result"
    }
   ],
   "source": [
    "train['FamilySize'].head()"
   ]
  },
  {
   "cell_type": "code",
   "execution_count": 90,
   "metadata": {},
   "outputs": [
    {
     "data": {
      "text/plain": [
       "0    1\n",
       "1    2\n",
       "2    1\n",
       "3    1\n",
       "4    3\n",
       "Name: FamilySize, dtype: int64"
      ]
     },
     "execution_count": 90,
     "metadata": {},
     "output_type": "execute_result"
    }
   ],
   "source": [
    "test['FamilySize'].head()"
   ]
  },
  {
   "cell_type": "code",
   "execution_count": null,
   "metadata": {},
   "outputs": [],
   "source": []
  },
  {
   "cell_type": "markdown",
   "metadata": {},
   "source": [
    "### 3.4 컬럼 지우기\n",
    "- 불필요한 컬럼을 지운다."
   ]
  },
  {
   "cell_type": "code",
   "execution_count": 91,
   "metadata": {},
   "outputs": [],
   "source": [
    "train.drop(['PassengerId', 'Name', 'SibSp', 'Parch', \n",
    "               'Ticket', 'Cabin'], axis=1, inplace=True)\n",
    "test.drop(['PassengerId', 'Name',  'SibSp', 'Parch', \n",
    "              'Ticket', 'Cabin'], axis=1, inplace=True)"
   ]
  },
  {
   "cell_type": "code",
   "execution_count": 92,
   "metadata": {},
   "outputs": [
    {
     "data": {
      "text/html": [
       "<div>\n",
       "<style scoped>\n",
       "    .dataframe tbody tr th:only-of-type {\n",
       "        vertical-align: middle;\n",
       "    }\n",
       "\n",
       "    .dataframe tbody tr th {\n",
       "        vertical-align: top;\n",
       "    }\n",
       "\n",
       "    .dataframe thead th {\n",
       "        text-align: right;\n",
       "    }\n",
       "</style>\n",
       "<table border=\"1\" class=\"dataframe\">\n",
       "  <thead>\n",
       "    <tr style=\"text-align: right;\">\n",
       "      <th></th>\n",
       "      <th>Survived</th>\n",
       "      <th>Pclass</th>\n",
       "      <th>Sex</th>\n",
       "      <th>Age</th>\n",
       "      <th>Fare</th>\n",
       "      <th>Embarked</th>\n",
       "      <th>Title</th>\n",
       "      <th>FamilySize</th>\n",
       "    </tr>\n",
       "  </thead>\n",
       "  <tbody>\n",
       "    <tr>\n",
       "      <th>0</th>\n",
       "      <td>0</td>\n",
       "      <td>3</td>\n",
       "      <td>0</td>\n",
       "      <td>1</td>\n",
       "      <td>7.2500</td>\n",
       "      <td>0</td>\n",
       "      <td>0</td>\n",
       "      <td>2</td>\n",
       "    </tr>\n",
       "    <tr>\n",
       "      <th>1</th>\n",
       "      <td>1</td>\n",
       "      <td>1</td>\n",
       "      <td>1</td>\n",
       "      <td>2</td>\n",
       "      <td>71.2833</td>\n",
       "      <td>1</td>\n",
       "      <td>2</td>\n",
       "      <td>2</td>\n",
       "    </tr>\n",
       "    <tr>\n",
       "      <th>2</th>\n",
       "      <td>1</td>\n",
       "      <td>3</td>\n",
       "      <td>1</td>\n",
       "      <td>1</td>\n",
       "      <td>7.9250</td>\n",
       "      <td>0</td>\n",
       "      <td>1</td>\n",
       "      <td>1</td>\n",
       "    </tr>\n",
       "    <tr>\n",
       "      <th>3</th>\n",
       "      <td>1</td>\n",
       "      <td>1</td>\n",
       "      <td>1</td>\n",
       "      <td>2</td>\n",
       "      <td>53.1000</td>\n",
       "      <td>0</td>\n",
       "      <td>2</td>\n",
       "      <td>2</td>\n",
       "    </tr>\n",
       "    <tr>\n",
       "      <th>4</th>\n",
       "      <td>0</td>\n",
       "      <td>3</td>\n",
       "      <td>0</td>\n",
       "      <td>2</td>\n",
       "      <td>8.0500</td>\n",
       "      <td>0</td>\n",
       "      <td>0</td>\n",
       "      <td>1</td>\n",
       "    </tr>\n",
       "  </tbody>\n",
       "</table>\n",
       "</div>"
      ],
      "text/plain": [
       "   Survived  Pclass  Sex  Age     Fare  Embarked  Title  FamilySize\n",
       "0         0       3    0    1   7.2500         0      0           2\n",
       "1         1       1    1    2  71.2833         1      2           2\n",
       "2         1       3    1    1   7.9250         0      1           1\n",
       "3         1       1    1    2  53.1000         0      2           2\n",
       "4         0       3    0    2   8.0500         0      0           1"
      ]
     },
     "execution_count": 92,
     "metadata": {},
     "output_type": "execute_result"
    }
   ],
   "source": [
    "train.head()"
   ]
  },
  {
   "cell_type": "code",
   "execution_count": 93,
   "metadata": {},
   "outputs": [
    {
     "data": {
      "text/html": [
       "<div>\n",
       "<style scoped>\n",
       "    .dataframe tbody tr th:only-of-type {\n",
       "        vertical-align: middle;\n",
       "    }\n",
       "\n",
       "    .dataframe tbody tr th {\n",
       "        vertical-align: top;\n",
       "    }\n",
       "\n",
       "    .dataframe thead th {\n",
       "        text-align: right;\n",
       "    }\n",
       "</style>\n",
       "<table border=\"1\" class=\"dataframe\">\n",
       "  <thead>\n",
       "    <tr style=\"text-align: right;\">\n",
       "      <th></th>\n",
       "      <th>Pclass</th>\n",
       "      <th>Sex</th>\n",
       "      <th>Age</th>\n",
       "      <th>Fare</th>\n",
       "      <th>Embarked</th>\n",
       "      <th>Title</th>\n",
       "      <th>FamilySize</th>\n",
       "    </tr>\n",
       "  </thead>\n",
       "  <tbody>\n",
       "    <tr>\n",
       "      <th>0</th>\n",
       "      <td>3</td>\n",
       "      <td>0</td>\n",
       "      <td>2</td>\n",
       "      <td>7.8292</td>\n",
       "      <td>2</td>\n",
       "      <td>0</td>\n",
       "      <td>1</td>\n",
       "    </tr>\n",
       "    <tr>\n",
       "      <th>1</th>\n",
       "      <td>3</td>\n",
       "      <td>1</td>\n",
       "      <td>3</td>\n",
       "      <td>7.0000</td>\n",
       "      <td>0</td>\n",
       "      <td>2</td>\n",
       "      <td>2</td>\n",
       "    </tr>\n",
       "    <tr>\n",
       "      <th>2</th>\n",
       "      <td>2</td>\n",
       "      <td>0</td>\n",
       "      <td>4</td>\n",
       "      <td>9.6875</td>\n",
       "      <td>2</td>\n",
       "      <td>0</td>\n",
       "      <td>1</td>\n",
       "    </tr>\n",
       "    <tr>\n",
       "      <th>3</th>\n",
       "      <td>3</td>\n",
       "      <td>0</td>\n",
       "      <td>1</td>\n",
       "      <td>8.6625</td>\n",
       "      <td>0</td>\n",
       "      <td>0</td>\n",
       "      <td>1</td>\n",
       "    </tr>\n",
       "    <tr>\n",
       "      <th>4</th>\n",
       "      <td>3</td>\n",
       "      <td>1</td>\n",
       "      <td>1</td>\n",
       "      <td>12.2875</td>\n",
       "      <td>0</td>\n",
       "      <td>2</td>\n",
       "      <td>3</td>\n",
       "    </tr>\n",
       "  </tbody>\n",
       "</table>\n",
       "</div>"
      ],
      "text/plain": [
       "   Pclass  Sex  Age     Fare  Embarked  Title  FamilySize\n",
       "0       3    0    2   7.8292         2      0           1\n",
       "1       3    1    3   7.0000         0      2           2\n",
       "2       2    0    4   9.6875         2      0           1\n",
       "3       3    0    1   8.6625         0      0           1\n",
       "4       3    1    1  12.2875         0      2           3"
      ]
     },
     "execution_count": 93,
     "metadata": {},
     "output_type": "execute_result"
    }
   ],
   "source": [
    "test.head()"
   ]
  },
  {
   "cell_type": "code",
   "execution_count": null,
   "metadata": {},
   "outputs": [],
   "source": []
  },
  {
   "cell_type": "markdown",
   "metadata": {},
   "source": [
    "### 3.5 인코딩\n",
    "- Embarked와 Title 컬럼의 데이터는 순서형(ordinal) 데이터가 아닌 명목형(nominal) 데이터이다.  \n",
    "- 성능향상을 위해 One-hot 인코딩을 실시한다."
   ]
  },
  {
   "cell_type": "code",
   "execution_count": 94,
   "metadata": {},
   "outputs": [],
   "source": [
    "train = pd.get_dummies(train, columns=['Embarked'], \n",
    "                       prefix='Embarked')\n",
    "test = pd.get_dummies(test, columns=['Embarked'], \n",
    "                      prefix='Embarked')"
   ]
  },
  {
   "cell_type": "code",
   "execution_count": 95,
   "metadata": {},
   "outputs": [],
   "source": [
    "train = pd.get_dummies(train, columns=['Title'], \n",
    "                       prefix='Title')\n",
    "test = pd.get_dummies(test, columns=['Title'], \n",
    "                      prefix='Title')"
   ]
  },
  {
   "cell_type": "code",
   "execution_count": 96,
   "metadata": {},
   "outputs": [
    {
     "data": {
      "text/html": [
       "<div>\n",
       "<style scoped>\n",
       "    .dataframe tbody tr th:only-of-type {\n",
       "        vertical-align: middle;\n",
       "    }\n",
       "\n",
       "    .dataframe tbody tr th {\n",
       "        vertical-align: top;\n",
       "    }\n",
       "\n",
       "    .dataframe thead th {\n",
       "        text-align: right;\n",
       "    }\n",
       "</style>\n",
       "<table border=\"1\" class=\"dataframe\">\n",
       "  <thead>\n",
       "    <tr style=\"text-align: right;\">\n",
       "      <th></th>\n",
       "      <th>Survived</th>\n",
       "      <th>Pclass</th>\n",
       "      <th>Sex</th>\n",
       "      <th>Age</th>\n",
       "      <th>Fare</th>\n",
       "      <th>FamilySize</th>\n",
       "      <th>Embarked_0</th>\n",
       "      <th>Embarked_1</th>\n",
       "      <th>Embarked_2</th>\n",
       "      <th>Title_0</th>\n",
       "      <th>Title_1</th>\n",
       "      <th>Title_2</th>\n",
       "      <th>Title_3</th>\n",
       "      <th>Title_4</th>\n",
       "    </tr>\n",
       "  </thead>\n",
       "  <tbody>\n",
       "    <tr>\n",
       "      <th>0</th>\n",
       "      <td>0</td>\n",
       "      <td>3</td>\n",
       "      <td>0</td>\n",
       "      <td>1</td>\n",
       "      <td>7.2500</td>\n",
       "      <td>2</td>\n",
       "      <td>1</td>\n",
       "      <td>0</td>\n",
       "      <td>0</td>\n",
       "      <td>1</td>\n",
       "      <td>0</td>\n",
       "      <td>0</td>\n",
       "      <td>0</td>\n",
       "      <td>0</td>\n",
       "    </tr>\n",
       "    <tr>\n",
       "      <th>1</th>\n",
       "      <td>1</td>\n",
       "      <td>1</td>\n",
       "      <td>1</td>\n",
       "      <td>2</td>\n",
       "      <td>71.2833</td>\n",
       "      <td>2</td>\n",
       "      <td>0</td>\n",
       "      <td>1</td>\n",
       "      <td>0</td>\n",
       "      <td>0</td>\n",
       "      <td>0</td>\n",
       "      <td>1</td>\n",
       "      <td>0</td>\n",
       "      <td>0</td>\n",
       "    </tr>\n",
       "    <tr>\n",
       "      <th>2</th>\n",
       "      <td>1</td>\n",
       "      <td>3</td>\n",
       "      <td>1</td>\n",
       "      <td>1</td>\n",
       "      <td>7.9250</td>\n",
       "      <td>1</td>\n",
       "      <td>1</td>\n",
       "      <td>0</td>\n",
       "      <td>0</td>\n",
       "      <td>0</td>\n",
       "      <td>1</td>\n",
       "      <td>0</td>\n",
       "      <td>0</td>\n",
       "      <td>0</td>\n",
       "    </tr>\n",
       "    <tr>\n",
       "      <th>3</th>\n",
       "      <td>1</td>\n",
       "      <td>1</td>\n",
       "      <td>1</td>\n",
       "      <td>2</td>\n",
       "      <td>53.1000</td>\n",
       "      <td>2</td>\n",
       "      <td>1</td>\n",
       "      <td>0</td>\n",
       "      <td>0</td>\n",
       "      <td>0</td>\n",
       "      <td>0</td>\n",
       "      <td>1</td>\n",
       "      <td>0</td>\n",
       "      <td>0</td>\n",
       "    </tr>\n",
       "    <tr>\n",
       "      <th>4</th>\n",
       "      <td>0</td>\n",
       "      <td>3</td>\n",
       "      <td>0</td>\n",
       "      <td>2</td>\n",
       "      <td>8.0500</td>\n",
       "      <td>1</td>\n",
       "      <td>1</td>\n",
       "      <td>0</td>\n",
       "      <td>0</td>\n",
       "      <td>1</td>\n",
       "      <td>0</td>\n",
       "      <td>0</td>\n",
       "      <td>0</td>\n",
       "      <td>0</td>\n",
       "    </tr>\n",
       "  </tbody>\n",
       "</table>\n",
       "</div>"
      ],
      "text/plain": [
       "   Survived  Pclass  Sex  Age     Fare  FamilySize  Embarked_0  Embarked_1  \\\n",
       "0         0       3    0    1   7.2500           2           1           0   \n",
       "1         1       1    1    2  71.2833           2           0           1   \n",
       "2         1       3    1    1   7.9250           1           1           0   \n",
       "3         1       1    1    2  53.1000           2           1           0   \n",
       "4         0       3    0    2   8.0500           1           1           0   \n",
       "\n",
       "   Embarked_2  Title_0  Title_1  Title_2  Title_3  Title_4  \n",
       "0           0        1        0        0        0        0  \n",
       "1           0        0        0        1        0        0  \n",
       "2           0        0        1        0        0        0  \n",
       "3           0        0        0        1        0        0  \n",
       "4           0        1        0        0        0        0  "
      ]
     },
     "execution_count": 96,
     "metadata": {},
     "output_type": "execute_result"
    }
   ],
   "source": [
    "train.head()"
   ]
  },
  {
   "cell_type": "code",
   "execution_count": 97,
   "metadata": {},
   "outputs": [
    {
     "data": {
      "text/html": [
       "<div>\n",
       "<style scoped>\n",
       "    .dataframe tbody tr th:only-of-type {\n",
       "        vertical-align: middle;\n",
       "    }\n",
       "\n",
       "    .dataframe tbody tr th {\n",
       "        vertical-align: top;\n",
       "    }\n",
       "\n",
       "    .dataframe thead th {\n",
       "        text-align: right;\n",
       "    }\n",
       "</style>\n",
       "<table border=\"1\" class=\"dataframe\">\n",
       "  <thead>\n",
       "    <tr style=\"text-align: right;\">\n",
       "      <th></th>\n",
       "      <th>Pclass</th>\n",
       "      <th>Sex</th>\n",
       "      <th>Age</th>\n",
       "      <th>Fare</th>\n",
       "      <th>FamilySize</th>\n",
       "      <th>Embarked_0</th>\n",
       "      <th>Embarked_1</th>\n",
       "      <th>Embarked_2</th>\n",
       "      <th>Title_0</th>\n",
       "      <th>Title_1</th>\n",
       "      <th>Title_2</th>\n",
       "      <th>Title_3</th>\n",
       "      <th>Title_4</th>\n",
       "    </tr>\n",
       "  </thead>\n",
       "  <tbody>\n",
       "    <tr>\n",
       "      <th>0</th>\n",
       "      <td>3</td>\n",
       "      <td>0</td>\n",
       "      <td>2</td>\n",
       "      <td>7.8292</td>\n",
       "      <td>1</td>\n",
       "      <td>0</td>\n",
       "      <td>0</td>\n",
       "      <td>1</td>\n",
       "      <td>1</td>\n",
       "      <td>0</td>\n",
       "      <td>0</td>\n",
       "      <td>0</td>\n",
       "      <td>0</td>\n",
       "    </tr>\n",
       "    <tr>\n",
       "      <th>1</th>\n",
       "      <td>3</td>\n",
       "      <td>1</td>\n",
       "      <td>3</td>\n",
       "      <td>7.0000</td>\n",
       "      <td>2</td>\n",
       "      <td>1</td>\n",
       "      <td>0</td>\n",
       "      <td>0</td>\n",
       "      <td>0</td>\n",
       "      <td>0</td>\n",
       "      <td>1</td>\n",
       "      <td>0</td>\n",
       "      <td>0</td>\n",
       "    </tr>\n",
       "    <tr>\n",
       "      <th>2</th>\n",
       "      <td>2</td>\n",
       "      <td>0</td>\n",
       "      <td>4</td>\n",
       "      <td>9.6875</td>\n",
       "      <td>1</td>\n",
       "      <td>0</td>\n",
       "      <td>0</td>\n",
       "      <td>1</td>\n",
       "      <td>1</td>\n",
       "      <td>0</td>\n",
       "      <td>0</td>\n",
       "      <td>0</td>\n",
       "      <td>0</td>\n",
       "    </tr>\n",
       "    <tr>\n",
       "      <th>3</th>\n",
       "      <td>3</td>\n",
       "      <td>0</td>\n",
       "      <td>1</td>\n",
       "      <td>8.6625</td>\n",
       "      <td>1</td>\n",
       "      <td>1</td>\n",
       "      <td>0</td>\n",
       "      <td>0</td>\n",
       "      <td>1</td>\n",
       "      <td>0</td>\n",
       "      <td>0</td>\n",
       "      <td>0</td>\n",
       "      <td>0</td>\n",
       "    </tr>\n",
       "    <tr>\n",
       "      <th>4</th>\n",
       "      <td>3</td>\n",
       "      <td>1</td>\n",
       "      <td>1</td>\n",
       "      <td>12.2875</td>\n",
       "      <td>3</td>\n",
       "      <td>1</td>\n",
       "      <td>0</td>\n",
       "      <td>0</td>\n",
       "      <td>0</td>\n",
       "      <td>0</td>\n",
       "      <td>1</td>\n",
       "      <td>0</td>\n",
       "      <td>0</td>\n",
       "    </tr>\n",
       "  </tbody>\n",
       "</table>\n",
       "</div>"
      ],
      "text/plain": [
       "   Pclass  Sex  Age     Fare  FamilySize  Embarked_0  Embarked_1  Embarked_2  \\\n",
       "0       3    0    2   7.8292           1           0           0           1   \n",
       "1       3    1    3   7.0000           2           1           0           0   \n",
       "2       2    0    4   9.6875           1           0           0           1   \n",
       "3       3    0    1   8.6625           1           1           0           0   \n",
       "4       3    1    1  12.2875           3           1           0           0   \n",
       "\n",
       "   Title_0  Title_1  Title_2  Title_3  Title_4  \n",
       "0        1        0        0        0        0  \n",
       "1        0        0        1        0        0  \n",
       "2        1        0        0        0        0  \n",
       "3        1        0        0        0        0  \n",
       "4        0        0        1        0        0  "
      ]
     },
     "execution_count": 97,
     "metadata": {},
     "output_type": "execute_result"
    }
   ],
   "source": [
    "test.head()"
   ]
  },
  {
   "cell_type": "code",
   "execution_count": null,
   "metadata": {},
   "outputs": [],
   "source": []
  },
  {
   "cell_type": "markdown",
   "metadata": {},
   "source": [
    "데이터 전처리가 완료되었다."
   ]
  },
  {
   "cell_type": "code",
   "execution_count": 98,
   "metadata": {},
   "outputs": [
    {
     "data": {
      "text/plain": [
       "(891, 14)"
      ]
     },
     "execution_count": 98,
     "metadata": {},
     "output_type": "execute_result"
    }
   ],
   "source": [
    "train.shape"
   ]
  },
  {
   "cell_type": "code",
   "execution_count": 99,
   "metadata": {},
   "outputs": [
    {
     "data": {
      "text/plain": [
       "(418, 13)"
      ]
     },
     "execution_count": 99,
     "metadata": {},
     "output_type": "execute_result"
    }
   ],
   "source": [
    "test.shape"
   ]
  },
  {
   "cell_type": "markdown",
   "metadata": {},
   "source": [
    "### Fare scailing 필요 : 일단 보류"
   ]
  },
  {
   "cell_type": "code",
   "execution_count": null,
   "metadata": {},
   "outputs": [],
   "source": []
  },
  {
   "cell_type": "code",
   "execution_count": null,
   "metadata": {},
   "outputs": [],
   "source": []
  },
  {
   "cell_type": "code",
   "execution_count": 100,
   "metadata": {},
   "outputs": [
    {
     "data": {
      "text/plain": [
       "<matplotlib.axes._subplots.AxesSubplot at 0x2065b92db38>"
      ]
     },
     "execution_count": 100,
     "metadata": {},
     "output_type": "execute_result"
    },
    {
     "data": {
      "image/png": "[encoded data removed]",
      "text/plain": [
       "<Figure size 432x288 with 2 Axes>"
      ]
     },
     "metadata": {
      "needs_background": "light"
     },
     "output_type": "display_data"
    }
   ],
   "source": [
    "import seaborn as sns\n",
    "corr = train.corr()\n",
    "sns.heatmap(corr, \n",
    "            xticklabels=corr.columns.values,\n",
    "            yticklabels=corr.columns.values)"
   ]
  },
  {
   "cell_type": "code",
   "execution_count": 101,
   "metadata": {},
   "outputs": [
    {
     "data": {
      "text/html": [
       "<style  type=\"text/css\" >\n",
       "    #T_959886e4_4f70_11e9_ad66_48e244f5c91erow0_col0 {\n",
       "            background-color:  #b40426;\n",
       "            color:  #f1f1f1;\n",
       "        }    #T_959886e4_4f70_11e9_ad66_48e244f5c91erow0_col1 {\n",
       "            background-color:  #6485ec;\n",
       "            color:  #000000;\n",
       "        }    #T_959886e4_4f70_11e9_ad66_48e244f5c91erow0_col2 {\n",
       "            background-color:  #f39577;\n",
       "            color:  #000000;\n",
       "        }    #T_959886e4_4f70_11e9_ad66_48e244f5c91erow0_col3 {\n",
       "            background-color:  #7ea1fa;\n",
       "            color:  #000000;\n",
       "        }    #T_959886e4_4f70_11e9_ad66_48e244f5c91erow0_col4 {\n",
       "            background-color:  #e2dad5;\n",
       "            color:  #000000;\n",
       "        }    #T_959886e4_4f70_11e9_ad66_48e244f5c91erow0_col5 {\n",
       "            background-color:  #93b5fe;\n",
       "            color:  #000000;\n",
       "        }    #T_959886e4_4f70_11e9_ad66_48e244f5c91erow0_col6 {\n",
       "            background-color:  #b1cbfc;\n",
       "            color:  #000000;\n",
       "        }    #T_959886e4_4f70_11e9_ad66_48e244f5c91erow0_col7 {\n",
       "            background-color:  #e5d8d1;\n",
       "            color:  #000000;\n",
       "        }    #T_959886e4_4f70_11e9_ad66_48e244f5c91erow0_col8 {\n",
       "            background-color:  #aac7fd;\n",
       "            color:  #000000;\n",
       "        }    #T_959886e4_4f70_11e9_ad66_48e244f5c91erow0_col9 {\n",
       "            background-color:  #7396f5;\n",
       "            color:  #000000;\n",
       "        }    #T_959886e4_4f70_11e9_ad66_48e244f5c91erow0_col10 {\n",
       "            background-color:  #f1cdba;\n",
       "            color:  #000000;\n",
       "        }    #T_959886e4_4f70_11e9_ad66_48e244f5c91erow0_col11 {\n",
       "            background-color:  #ebd3c6;\n",
       "            color:  #000000;\n",
       "        }    #T_959886e4_4f70_11e9_ad66_48e244f5c91erow0_col12 {\n",
       "            background-color:  #aac7fd;\n",
       "            color:  #000000;\n",
       "        }    #T_959886e4_4f70_11e9_ad66_48e244f5c91erow0_col13 {\n",
       "            background-color:  #4b64d5;\n",
       "            color:  #f1f1f1;\n",
       "        }    #T_959886e4_4f70_11e9_ad66_48e244f5c91erow1_col0 {\n",
       "            background-color:  #6485ec;\n",
       "            color:  #000000;\n",
       "        }    #T_959886e4_4f70_11e9_ad66_48e244f5c91erow1_col1 {\n",
       "            background-color:  #b40426;\n",
       "            color:  #f1f1f1;\n",
       "        }    #T_959886e4_4f70_11e9_ad66_48e244f5c91erow1_col2 {\n",
       "            background-color:  #c0d4f5;\n",
       "            color:  #000000;\n",
       "        }    #T_959886e4_4f70_11e9_ad66_48e244f5c91erow1_col3 {\n",
       "            background-color:  #465ecf;\n",
       "            color:  #f1f1f1;\n",
       "        }    #T_959886e4_4f70_11e9_ad66_48e244f5c91erow1_col4 {\n",
       "            background-color:  #3b4cc0;\n",
       "            color:  #f1f1f1;\n",
       "        }    #T_959886e4_4f70_11e9_ad66_48e244f5c91erow1_col5 {\n",
       "            background-color:  #a1c0ff;\n",
       "            color:  #000000;\n",
       "        }    #T_959886e4_4f70_11e9_ad66_48e244f5c91erow1_col6 {\n",
       "            background-color:  #d8dce2;\n",
       "            color:  #000000;\n",
       "        }    #T_959886e4_4f70_11e9_ad66_48e244f5c91erow1_col7 {\n",
       "            background-color:  #9fbfff;\n",
       "            color:  #000000;\n",
       "        }    #T_959886e4_4f70_11e9_ad66_48e244f5c91erow1_col8 {\n",
       "            background-color:  #d8dce2;\n",
       "            color:  #000000;\n",
       "        }    #T_959886e4_4f70_11e9_ad66_48e244f5c91erow1_col9 {\n",
       "            background-color:  #e3d9d3;\n",
       "            color:  #000000;\n",
       "        }    #T_959886e4_4f70_11e9_ad66_48e244f5c91erow1_col10 {\n",
       "            background-color:  #b7cff9;\n",
       "            color:  #000000;\n",
       "        }    #T_959886e4_4f70_11e9_ad66_48e244f5c91erow1_col11 {\n",
       "            background-color:  #84a7fc;\n",
       "            color:  #000000;\n",
       "        }    #T_959886e4_4f70_11e9_ad66_48e244f5c91erow1_col12 {\n",
       "            background-color:  #aac7fd;\n",
       "            color:  #000000;\n",
       "        }    #T_959886e4_4f70_11e9_ad66_48e244f5c91erow1_col13 {\n",
       "            background-color:  #465ecf;\n",
       "            color:  #f1f1f1;\n",
       "        }    #T_959886e4_4f70_11e9_ad66_48e244f5c91erow2_col0 {\n",
       "            background-color:  #f7aa8c;\n",
       "            color:  #000000;\n",
       "        }    #T_959886e4_4f70_11e9_ad66_48e244f5c91erow2_col1 {\n",
       "            background-color:  #93b5fe;\n",
       "            color:  #000000;\n",
       "        }    #T_959886e4_4f70_11e9_ad66_48e244f5c91erow2_col2 {\n",
       "            background-color:  #b40426;\n",
       "            color:  #f1f1f1;\n",
       "        }    #T_959886e4_4f70_11e9_ad66_48e244f5c91erow2_col3 {\n",
       "            background-color:  #7396f5;\n",
       "            color:  #000000;\n",
       "        }    #T_959886e4_4f70_11e9_ad66_48e244f5c91erow2_col4 {\n",
       "            background-color:  #d5dbe5;\n",
       "            color:  #000000;\n",
       "        }    #T_959886e4_4f70_11e9_ad66_48e244f5c91erow2_col5 {\n",
       "            background-color:  #c1d4f4;\n",
       "            color:  #000000;\n",
       "        }    #T_959886e4_4f70_11e9_ad66_48e244f5c91erow2_col6 {\n",
       "            background-color:  #b7cff9;\n",
       "            color:  #000000;\n",
       "        }    #T_959886e4_4f70_11e9_ad66_48e244f5c91erow2_col7 {\n",
       "            background-color:  #d9dce1;\n",
       "            color:  #000000;\n",
       "        }    #T_959886e4_4f70_11e9_ad66_48e244f5c91erow2_col8 {\n",
       "            background-color:  #bad0f8;\n",
       "            color:  #000000;\n",
       "        }    #T_959886e4_4f70_11e9_ad66_48e244f5c91erow2_col9 {\n",
       "            background-color:  #3b4cc0;\n",
       "            color:  #f1f1f1;\n",
       "        }    #T_959886e4_4f70_11e9_ad66_48e244f5c91erow2_col10 {\n",
       "            background-color:  #eb7d62;\n",
       "            color:  #000000;\n",
       "        }    #T_959886e4_4f70_11e9_ad66_48e244f5c91erow2_col11 {\n",
       "            background-color:  #f7ac8e;\n",
       "            color:  #000000;\n",
       "        }    #T_959886e4_4f70_11e9_ad66_48e244f5c91erow2_col12 {\n",
       "            background-color:  #6c8ff1;\n",
       "            color:  #000000;\n",
       "        }    #T_959886e4_4f70_11e9_ad66_48e244f5c91erow2_col13 {\n",
       "            background-color:  #465ecf;\n",
       "            color:  #f1f1f1;\n",
       "        }    #T_959886e4_4f70_11e9_ad66_48e244f5c91erow3_col0 {\n",
       "            background-color:  #9dbdff;\n",
       "            color:  #000000;\n",
       "        }    #T_959886e4_4f70_11e9_ad66_48e244f5c91erow3_col1 {\n",
       "            background-color:  #688aef;\n",
       "            color:  #000000;\n",
       "        }    #T_959886e4_4f70_11e9_ad66_48e244f5c91erow3_col2 {\n",
       "            background-color:  #c0d4f5;\n",
       "            color:  #000000;\n",
       "        }    #T_959886e4_4f70_11e9_ad66_48e244f5c91erow3_col3 {\n",
       "            background-color:  #b40426;\n",
       "            color:  #f1f1f1;\n",
       "        }    #T_959886e4_4f70_11e9_ad66_48e244f5c91erow3_col4 {\n",
       "            background-color:  #c3d5f4;\n",
       "            color:  #000000;\n",
       "        }    #T_959886e4_4f70_11e9_ad66_48e244f5c91erow3_col5 {\n",
       "            background-color:  #4b64d5;\n",
       "            color:  #f1f1f1;\n",
       "        }    #T_959886e4_4f70_11e9_ad66_48e244f5c91erow3_col6 {\n",
       "            background-color:  #cad8ef;\n",
       "            color:  #000000;\n",
       "        }    #T_959886e4_4f70_11e9_ad66_48e244f5c91erow3_col7 {\n",
       "            background-color:  #d2dbe8;\n",
       "            color:  #000000;\n",
       "        }    #T_959886e4_4f70_11e9_ad66_48e244f5c91erow3_col8 {\n",
       "            background-color:  #a3c2fe;\n",
       "            color:  #000000;\n",
       "        }    #T_959886e4_4f70_11e9_ad66_48e244f5c91erow3_col9 {\n",
       "            background-color:  #f3c8b2;\n",
       "            color:  #000000;\n",
       "        }    #T_959886e4_4f70_11e9_ad66_48e244f5c91erow3_col10 {\n",
       "            background-color:  #799cf8;\n",
       "            color:  #000000;\n",
       "        }    #T_959886e4_4f70_11e9_ad66_48e244f5c91erow3_col11 {\n",
       "            background-color:  #cedaeb;\n",
       "            color:  #000000;\n",
       "        }    #T_959886e4_4f70_11e9_ad66_48e244f5c91erow3_col12 {\n",
       "            background-color:  #3b4cc0;\n",
       "            color:  #f1f1f1;\n",
       "        }    #T_959886e4_4f70_11e9_ad66_48e244f5c91erow3_col13 {\n",
       "            background-color:  #7a9df8;\n",
       "            color:  #000000;\n",
       "        }    #T_959886e4_4f70_11e9_ad66_48e244f5c91erow4_col0 {\n",
       "            background-color:  #e2dad5;\n",
       "            color:  #000000;\n",
       "        }    #T_959886e4_4f70_11e9_ad66_48e244f5c91erow4_col1 {\n",
       "            background-color:  #3b4cc0;\n",
       "            color:  #f1f1f1;\n",
       "        }    #T_959886e4_4f70_11e9_ad66_48e244f5c91erow4_col2 {\n",
       "            background-color:  #edd2c3;\n",
       "            color:  #000000;\n",
       "        }    #T_959886e4_4f70_11e9_ad66_48e244f5c91erow4_col3 {\n",
       "            background-color:  #aac7fd;\n",
       "            color:  #000000;\n",
       "        }    #T_959886e4_4f70_11e9_ad66_48e244f5c91erow4_col4 {\n",
       "            background-color:  #b40426;\n",
       "            color:  #f1f1f1;\n",
       "        }    #T_959886e4_4f70_11e9_ad66_48e244f5c91erow4_col5 {\n",
       "            background-color:  #c6d6f1;\n",
       "            color:  #000000;\n",
       "        }    #T_959886e4_4f70_11e9_ad66_48e244f5c91erow4_col6 {\n",
       "            background-color:  #afcafc;\n",
       "            color:  #000000;\n",
       "        }    #T_959886e4_4f70_11e9_ad66_48e244f5c91erow4_col7 {\n",
       "            background-color:  #f1cdba;\n",
       "            color:  #000000;\n",
       "        }    #T_959886e4_4f70_11e9_ad66_48e244f5c91erow4_col8 {\n",
       "            background-color:  #8fb1fe;\n",
       "            color:  #000000;\n",
       "        }    #T_959886e4_4f70_11e9_ad66_48e244f5c91erow4_col9 {\n",
       "            background-color:  #b9d0f9;\n",
       "            color:  #000000;\n",
       "        }    #T_959886e4_4f70_11e9_ad66_48e244f5c91erow4_col10 {\n",
       "            background-color:  #d2dbe8;\n",
       "            color:  #000000;\n",
       "        }    #T_959886e4_4f70_11e9_ad66_48e244f5c91erow4_col11 {\n",
       "            background-color:  #c1d4f4;\n",
       "            color:  #000000;\n",
       "        }    #T_959886e4_4f70_11e9_ad66_48e244f5c91erow4_col12 {\n",
       "            background-color:  #98b9ff;\n",
       "            color:  #000000;\n",
       "        }    #T_959886e4_4f70_11e9_ad66_48e244f5c91erow4_col13 {\n",
       "            background-color:  #5470de;\n",
       "            color:  #000000;\n",
       "        }    #T_959886e4_4f70_11e9_ad66_48e244f5c91erow5_col0 {\n",
       "            background-color:  #b5cdfa;\n",
       "            color:  #000000;\n",
       "        }    #T_959886e4_4f70_11e9_ad66_48e244f5c91erow5_col1 {\n",
       "            background-color:  #bfd3f6;\n",
       "            color:  #000000;\n",
       "        }    #T_959886e4_4f70_11e9_ad66_48e244f5c91erow5_col2 {\n",
       "            background-color:  #eed0c0;\n",
       "            color:  #000000;\n",
       "        }    #T_959886e4_4f70_11e9_ad66_48e244f5c91erow5_col3 {\n",
       "            background-color:  #536edd;\n",
       "            color:  #000000;\n",
       "        }    #T_959886e4_4f70_11e9_ad66_48e244f5c91erow5_col4 {\n",
       "            background-color:  #dbdcde;\n",
       "            color:  #000000;\n",
       "        }    #T_959886e4_4f70_11e9_ad66_48e244f5c91erow5_col5 {\n",
       "            background-color:  #b40426;\n",
       "            color:  #f1f1f1;\n",
       "        }    #T_959886e4_4f70_11e9_ad66_48e244f5c91erow5_col6 {\n",
       "            background-color:  #d8dce2;\n",
       "            color:  #000000;\n",
       "        }    #T_959886e4_4f70_11e9_ad66_48e244f5c91erow5_col7 {\n",
       "            background-color:  #c4d5f3;\n",
       "            color:  #000000;\n",
       "        }    #T_959886e4_4f70_11e9_ad66_48e244f5c91erow5_col8 {\n",
       "            background-color:  #9dbdff;\n",
       "            color:  #000000;\n",
       "        }    #T_959886e4_4f70_11e9_ad66_48e244f5c91erow5_col9 {\n",
       "            background-color:  #9abbff;\n",
       "            color:  #000000;\n",
       "        }    #T_959886e4_4f70_11e9_ad66_48e244f5c91erow5_col10 {\n",
       "            background-color:  #cedaeb;\n",
       "            color:  #000000;\n",
       "        }    #T_959886e4_4f70_11e9_ad66_48e244f5c91erow5_col11 {\n",
       "            background-color:  #cad8ef;\n",
       "            color:  #000000;\n",
       "        }    #T_959886e4_4f70_11e9_ad66_48e244f5c91erow5_col12 {\n",
       "            background-color:  #e8d6cc;\n",
       "            color:  #000000;\n",
       "        }    #T_959886e4_4f70_11e9_ad66_48e244f5c91erow5_col13 {\n",
       "            background-color:  #506bda;\n",
       "            color:  #000000;\n",
       "        }    #T_959886e4_4f70_11e9_ad66_48e244f5c91erow6_col0 {\n",
       "            background-color:  #90b2fe;\n",
       "            color:  #000000;\n",
       "        }    #T_959886e4_4f70_11e9_ad66_48e244f5c91erow6_col1 {\n",
       "            background-color:  #c1d4f4;\n",
       "            color:  #000000;\n",
       "        }    #T_959886e4_4f70_11e9_ad66_48e244f5c91erow6_col2 {\n",
       "            background-color:  #c3d5f4;\n",
       "            color:  #000000;\n",
       "        }    #T_959886e4_4f70_11e9_ad66_48e244f5c91erow6_col3 {\n",
       "            background-color:  #92b4fe;\n",
       "            color:  #000000;\n",
       "        }    #T_959886e4_4f70_11e9_ad66_48e244f5c91erow6_col4 {\n",
       "            background-color:  #8caffe;\n",
       "            color:  #000000;\n",
       "        }    #T_959886e4_4f70_11e9_ad66_48e244f5c91erow6_col5 {\n",
       "            background-color:  #a3c2fe;\n",
       "            color:  #000000;\n",
       "        }    #T_959886e4_4f70_11e9_ad66_48e244f5c91erow6_col6 {\n",
       "            background-color:  #b40426;\n",
       "            color:  #f1f1f1;\n",
       "        }    #T_959886e4_4f70_11e9_ad66_48e244f5c91erow6_col7 {\n",
       "            background-color:  #3b4cc0;\n",
       "            color:  #f1f1f1;\n",
       "        }    #T_959886e4_4f70_11e9_ad66_48e244f5c91erow6_col8 {\n",
       "            background-color:  #3b4cc0;\n",
       "            color:  #f1f1f1;\n",
       "        }    #T_959886e4_4f70_11e9_ad66_48e244f5c91erow6_col9 {\n",
       "            background-color:  #e3d9d3;\n",
       "            color:  #000000;\n",
       "        }    #T_959886e4_4f70_11e9_ad66_48e244f5c91erow6_col10 {\n",
       "            background-color:  #9dbdff;\n",
       "            color:  #000000;\n",
       "        }    #T_959886e4_4f70_11e9_ad66_48e244f5c91erow6_col11 {\n",
       "            background-color:  #a9c6fd;\n",
       "            color:  #000000;\n",
       "        }    #T_959886e4_4f70_11e9_ad66_48e244f5c91erow6_col12 {\n",
       "            background-color:  #9bbcff;\n",
       "            color:  #000000;\n",
       "        }    #T_959886e4_4f70_11e9_ad66_48e244f5c91erow6_col13 {\n",
       "            background-color:  #5f7fe8;\n",
       "            color:  #000000;\n",
       "        }    #T_959886e4_4f70_11e9_ad66_48e244f5c91erow7_col0 {\n",
       "            background-color:  #d3dbe7;\n",
       "            color:  #000000;\n",
       "        }    #T_959886e4_4f70_11e9_ad66_48e244f5c91erow7_col1 {\n",
       "            background-color:  #7a9df8;\n",
       "            color:  #000000;\n",
       "        }    #T_959886e4_4f70_11e9_ad66_48e244f5c91erow7_col2 {\n",
       "            background-color:  #e0dbd8;\n",
       "            color:  #000000;\n",
       "        }    #T_959886e4_4f70_11e9_ad66_48e244f5c91erow7_col3 {\n",
       "            background-color:  #9ebeff;\n",
       "            color:  #000000;\n",
       "        }    #T_959886e4_4f70_11e9_ad66_48e244f5c91erow7_col4 {\n",
       "            background-color:  #e4d9d2;\n",
       "            color:  #000000;\n",
       "        }    #T_959886e4_4f70_11e9_ad66_48e244f5c91erow7_col5 {\n",
       "            background-color:  #82a6fb;\n",
       "            color:  #000000;\n",
       "        }    #T_959886e4_4f70_11e9_ad66_48e244f5c91erow7_col6 {\n",
       "            background-color:  #3b4cc0;\n",
       "            color:  #f1f1f1;\n",
       "        }    #T_959886e4_4f70_11e9_ad66_48e244f5c91erow7_col7 {\n",
       "            background-color:  #b40426;\n",
       "            color:  #f1f1f1;\n",
       "        }    #T_959886e4_4f70_11e9_ad66_48e244f5c91erow7_col8 {\n",
       "            background-color:  #86a9fc;\n",
       "            color:  #000000;\n",
       "        }    #T_959886e4_4f70_11e9_ad66_48e244f5c91erow7_col9 {\n",
       "            background-color:  #cbd8ee;\n",
       "            color:  #000000;\n",
       "        }    #T_959886e4_4f70_11e9_ad66_48e244f5c91erow7_col10 {\n",
       "            background-color:  #c3d5f4;\n",
       "            color:  #000000;\n",
       "        }    #T_959886e4_4f70_11e9_ad66_48e244f5c91erow7_col11 {\n",
       "            background-color:  #b7cff9;\n",
       "            color:  #000000;\n",
       "        }    #T_959886e4_4f70_11e9_ad66_48e244f5c91erow7_col12 {\n",
       "            background-color:  #8caffe;\n",
       "            color:  #000000;\n",
       "        }    #T_959886e4_4f70_11e9_ad66_48e244f5c91erow7_col13 {\n",
       "            background-color:  #5673e0;\n",
       "            color:  #000000;\n",
       "        }    #T_959886e4_4f70_11e9_ad66_48e244f5c91erow8_col0 {\n",
       "            background-color:  #b2ccfb;\n",
       "            color:  #000000;\n",
       "        }    #T_959886e4_4f70_11e9_ad66_48e244f5c91erow8_col1 {\n",
       "            background-color:  #dcdddd;\n",
       "            color:  #000000;\n",
       "        }    #T_959886e4_4f70_11e9_ad66_48e244f5c91erow8_col2 {\n",
       "            background-color:  #dfdbd9;\n",
       "            color:  #000000;\n",
       "        }    #T_959886e4_4f70_11e9_ad66_48e244f5c91erow8_col3 {\n",
       "            background-color:  #8db0fe;\n",
       "            color:  #000000;\n",
       "        }    #T_959886e4_4f70_11e9_ad66_48e244f5c91erow8_col4 {\n",
       "            background-color:  #97b8ff;\n",
       "            color:  #000000;\n",
       "        }    #T_959886e4_4f70_11e9_ad66_48e244f5c91erow8_col5 {\n",
       "            background-color:  #80a3fa;\n",
       "            color:  #000000;\n",
       "        }    #T_959886e4_4f70_11e9_ad66_48e244f5c91erow8_col6 {\n",
       "            background-color:  #6c8ff1;\n",
       "            color:  #000000;\n",
       "        }    #T_959886e4_4f70_11e9_ad66_48e244f5c91erow8_col7 {\n",
       "            background-color:  #b2ccfb;\n",
       "            color:  #000000;\n",
       "        }    #T_959886e4_4f70_11e9_ad66_48e244f5c91erow8_col8 {\n",
       "            background-color:  #b40426;\n",
       "            color:  #f1f1f1;\n",
       "        }    #T_959886e4_4f70_11e9_ad66_48e244f5c91erow8_col9 {\n",
       "            background-color:  #c9d7f0;\n",
       "            color:  #000000;\n",
       "        }    #T_959886e4_4f70_11e9_ad66_48e244f5c91erow8_col10 {\n",
       "            background-color:  #d9dce1;\n",
       "            color:  #000000;\n",
       "        }    #T_959886e4_4f70_11e9_ad66_48e244f5c91erow8_col11 {\n",
       "            background-color:  #93b5fe;\n",
       "            color:  #000000;\n",
       "        }    #T_959886e4_4f70_11e9_ad66_48e244f5c91erow8_col12 {\n",
       "            background-color:  #97b8ff;\n",
       "            color:  #000000;\n",
       "        }    #T_959886e4_4f70_11e9_ad66_48e244f5c91erow8_col13 {\n",
       "            background-color:  #5e7de7;\n",
       "            color:  #000000;\n",
       "        }    #T_959886e4_4f70_11e9_ad66_48e244f5c91erow9_col0 {\n",
       "            background-color:  #3b4cc0;\n",
       "            color:  #f1f1f1;\n",
       "        }    #T_959886e4_4f70_11e9_ad66_48e244f5c91erow9_col1 {\n",
       "            background-color:  #c7d7f0;\n",
       "            color:  #000000;\n",
       "        }    #T_959886e4_4f70_11e9_ad66_48e244f5c91erow9_col2 {\n",
       "            background-color:  #3b4cc0;\n",
       "            color:  #f1f1f1;\n",
       "        }    #T_959886e4_4f70_11e9_ad66_48e244f5c91erow9_col3 {\n",
       "            background-color:  #d4dbe6;\n",
       "            color:  #000000;\n",
       "        }    #T_959886e4_4f70_11e9_ad66_48e244f5c91erow9_col4 {\n",
       "            background-color:  #89acfd;\n",
       "            color:  #000000;\n",
       "        }    #T_959886e4_4f70_11e9_ad66_48e244f5c91erow9_col5 {\n",
       "            background-color:  #3b4cc0;\n",
       "            color:  #f1f1f1;\n",
       "        }    #T_959886e4_4f70_11e9_ad66_48e244f5c91erow9_col6 {\n",
       "            background-color:  #dcdddd;\n",
       "            color:  #000000;\n",
       "        }    #T_959886e4_4f70_11e9_ad66_48e244f5c91erow9_col7 {\n",
       "            background-color:  #c1d4f4;\n",
       "            color:  #000000;\n",
       "        }    #T_959886e4_4f70_11e9_ad66_48e244f5c91erow9_col8 {\n",
       "            background-color:  #97b8ff;\n",
       "            color:  #000000;\n",
       "        }    #T_959886e4_4f70_11e9_ad66_48e244f5c91erow9_col9 {\n",
       "            background-color:  #b40426;\n",
       "            color:  #f1f1f1;\n",
       "        }    #T_959886e4_4f70_11e9_ad66_48e244f5c91erow9_col10 {\n",
       "            background-color:  #3b4cc0;\n",
       "            color:  #f1f1f1;\n",
       "        }    #T_959886e4_4f70_11e9_ad66_48e244f5c91erow9_col11 {\n",
       "            background-color:  #3b4cc0;\n",
       "            color:  #f1f1f1;\n",
       "        }    #T_959886e4_4f70_11e9_ad66_48e244f5c91erow9_col12 {\n",
       "            background-color:  #5470de;\n",
       "            color:  #000000;\n",
       "        }    #T_959886e4_4f70_11e9_ad66_48e244f5c91erow9_col13 {\n",
       "            background-color:  #3b4cc0;\n",
       "            color:  #f1f1f1;\n",
       "        }    #T_959886e4_4f70_11e9_ad66_48e244f5c91erow10_col0 {\n",
       "            background-color:  #edd1c2;\n",
       "            color:  #000000;\n",
       "        }    #T_959886e4_4f70_11e9_ad66_48e244f5c91erow10_col1 {\n",
       "            background-color:  #aec9fc;\n",
       "            color:  #000000;\n",
       "        }    #T_959886e4_4f70_11e9_ad66_48e244f5c91erow10_col2 {\n",
       "            background-color:  #e67259;\n",
       "            color:  #000000;\n",
       "        }    #T_959886e4_4f70_11e9_ad66_48e244f5c91erow10_col3 {\n",
       "            background-color:  #4a63d3;\n",
       "            color:  #f1f1f1;\n",
       "        }    #T_959886e4_4f70_11e9_ad66_48e244f5c91erow10_col4 {\n",
       "            background-color:  #cad8ef;\n",
       "            color:  #000000;\n",
       "        }    #T_959886e4_4f70_11e9_ad66_48e244f5c91erow10_col5 {\n",
       "            background-color:  #aac7fd;\n",
       "            color:  #000000;\n",
       "        }    #T_959886e4_4f70_11e9_ad66_48e244f5c91erow10_col6 {\n",
       "            background-color:  #b3cdfb;\n",
       "            color:  #000000;\n",
       "        }    #T_959886e4_4f70_11e9_ad66_48e244f5c91erow10_col7 {\n",
       "            background-color:  #d3dbe7;\n",
       "            color:  #000000;\n",
       "        }    #T_959886e4_4f70_11e9_ad66_48e244f5c91erow10_col8 {\n",
       "            background-color:  #cdd9ec;\n",
       "            color:  #000000;\n",
       "        }    #T_959886e4_4f70_11e9_ad66_48e244f5c91erow10_col9 {\n",
       "            background-color:  #6788ee;\n",
       "            color:  #000000;\n",
       "        }    #T_959886e4_4f70_11e9_ad66_48e244f5c91erow10_col10 {\n",
       "            background-color:  #b40426;\n",
       "            color:  #f1f1f1;\n",
       "        }    #T_959886e4_4f70_11e9_ad66_48e244f5c91erow10_col11 {\n",
       "            background-color:  #779af7;\n",
       "            color:  #000000;\n",
       "        }    #T_959886e4_4f70_11e9_ad66_48e244f5c91erow10_col12 {\n",
       "            background-color:  #799cf8;\n",
       "            color:  #000000;\n",
       "        }    #T_959886e4_4f70_11e9_ad66_48e244f5c91erow10_col13 {\n",
       "            background-color:  #4e68d8;\n",
       "            color:  #000000;\n",
       "        }    #T_959886e4_4f70_11e9_ad66_48e244f5c91erow11_col0 {\n",
       "            background-color:  #eed0c0;\n",
       "            color:  #000000;\n",
       "        }    #T_959886e4_4f70_11e9_ad66_48e244f5c91erow11_col1 {\n",
       "            background-color:  #8db0fe;\n",
       "            color:  #000000;\n",
       "        }    #T_959886e4_4f70_11e9_ad66_48e244f5c91erow11_col2 {\n",
       "            background-color:  #f39475;\n",
       "            color:  #000000;\n",
       "        }    #T_959886e4_4f70_11e9_ad66_48e244f5c91erow11_col3 {\n",
       "            background-color:  #c0d4f5;\n",
       "            color:  #000000;\n",
       "        }    #T_959886e4_4f70_11e9_ad66_48e244f5c91erow11_col4 {\n",
       "            background-color:  #c7d7f0;\n",
       "            color:  #000000;\n",
       "        }    #T_959886e4_4f70_11e9_ad66_48e244f5c91erow11_col5 {\n",
       "            background-color:  #b6cefa;\n",
       "            color:  #000000;\n",
       "        }    #T_959886e4_4f70_11e9_ad66_48e244f5c91erow11_col6 {\n",
       "            background-color:  #ccd9ed;\n",
       "            color:  #000000;\n",
       "        }    #T_959886e4_4f70_11e9_ad66_48e244f5c91erow11_col7 {\n",
       "            background-color:  #d6dce4;\n",
       "            color:  #000000;\n",
       "        }    #T_959886e4_4f70_11e9_ad66_48e244f5c91erow11_col8 {\n",
       "            background-color:  #94b6ff;\n",
       "            color:  #000000;\n",
       "        }    #T_959886e4_4f70_11e9_ad66_48e244f5c91erow11_col9 {\n",
       "            background-color:  #7ea1fa;\n",
       "            color:  #000000;\n",
       "        }    #T_959886e4_4f70_11e9_ad66_48e244f5c91erow11_col10 {\n",
       "            background-color:  #8db0fe;\n",
       "            color:  #000000;\n",
       "        }    #T_959886e4_4f70_11e9_ad66_48e244f5c91erow11_col11 {\n",
       "            background-color:  #b40426;\n",
       "            color:  #f1f1f1;\n",
       "        }    #T_959886e4_4f70_11e9_ad66_48e244f5c91erow11_col12 {\n",
       "            background-color:  #7ea1fa;\n",
       "            color:  #000000;\n",
       "        }    #T_959886e4_4f70_11e9_ad66_48e244f5c91erow11_col13 {\n",
       "            background-color:  #506bda;\n",
       "            color:  #000000;\n",
       "        }    #T_959886e4_4f70_11e9_ad66_48e244f5c91erow12_col0 {\n",
       "            background-color:  #c3d5f4;\n",
       "            color:  #000000;\n",
       "        }    #T_959886e4_4f70_11e9_ad66_48e244f5c91erow12_col1 {\n",
       "            background-color:  #c3d5f4;\n",
       "            color:  #000000;\n",
       "        }    #T_959886e4_4f70_11e9_ad66_48e244f5c91erow12_col2 {\n",
       "            background-color:  #bbd1f8;\n",
       "            color:  #000000;\n",
       "        }    #T_959886e4_4f70_11e9_ad66_48e244f5c91erow12_col3 {\n",
       "            background-color:  #3b4cc0;\n",
       "            color:  #f1f1f1;\n",
       "        }    #T_959886e4_4f70_11e9_ad66_48e244f5c91erow12_col4 {\n",
       "            background-color:  #b3cdfb;\n",
       "            color:  #000000;\n",
       "        }    #T_959886e4_4f70_11e9_ad66_48e244f5c91erow12_col5 {\n",
       "            background-color:  #e5d8d1;\n",
       "            color:  #000000;\n",
       "        }    #T_959886e4_4f70_11e9_ad66_48e244f5c91erow12_col6 {\n",
       "            background-color:  #cfdaea;\n",
       "            color:  #000000;\n",
       "        }    #T_959886e4_4f70_11e9_ad66_48e244f5c91erow12_col7 {\n",
       "            background-color:  #c6d6f1;\n",
       "            color:  #000000;\n",
       "        }    #T_959886e4_4f70_11e9_ad66_48e244f5c91erow12_col8 {\n",
       "            background-color:  #adc9fd;\n",
       "            color:  #000000;\n",
       "        }    #T_959886e4_4f70_11e9_ad66_48e244f5c91erow12_col9 {\n",
       "            background-color:  #a9c6fd;\n",
       "            color:  #000000;\n",
       "        }    #T_959886e4_4f70_11e9_ad66_48e244f5c91erow12_col10 {\n",
       "            background-color:  #a3c2fe;\n",
       "            color:  #000000;\n",
       "        }    #T_959886e4_4f70_11e9_ad66_48e244f5c91erow12_col11 {\n",
       "            background-color:  #94b6ff;\n",
       "            color:  #000000;\n",
       "        }    #T_959886e4_4f70_11e9_ad66_48e244f5c91erow12_col12 {\n",
       "            background-color:  #b40426;\n",
       "            color:  #f1f1f1;\n",
       "        }    #T_959886e4_4f70_11e9_ad66_48e244f5c91erow12_col13 {\n",
       "            background-color:  #5572df;\n",
       "            color:  #000000;\n",
       "        }    #T_959886e4_4f70_11e9_ad66_48e244f5c91erow13_col0 {\n",
       "            background-color:  #a5c3fe;\n",
       "            color:  #000000;\n",
       "        }    #T_959886e4_4f70_11e9_ad66_48e244f5c91erow13_col1 {\n",
       "            background-color:  #9fbfff;\n",
       "            color:  #000000;\n",
       "        }    #T_959886e4_4f70_11e9_ad66_48e244f5c91erow13_col2 {\n",
       "            background-color:  #cad8ef;\n",
       "            color:  #000000;\n",
       "        }    #T_959886e4_4f70_11e9_ad66_48e244f5c91erow13_col3 {\n",
       "            background-color:  #aec9fc;\n",
       "            color:  #000000;\n",
       "        }    #T_959886e4_4f70_11e9_ad66_48e244f5c91erow13_col4 {\n",
       "            background-color:  #abc8fd;\n",
       "            color:  #000000;\n",
       "        }    #T_959886e4_4f70_11e9_ad66_48e244f5c91erow13_col5 {\n",
       "            background-color:  #84a7fc;\n",
       "            color:  #000000;\n",
       "        }    #T_959886e4_4f70_11e9_ad66_48e244f5c91erow13_col6 {\n",
       "            background-color:  #cedaeb;\n",
       "            color:  #000000;\n",
       "        }    #T_959886e4_4f70_11e9_ad66_48e244f5c91erow13_col7 {\n",
       "            background-color:  #c9d7f0;\n",
       "            color:  #000000;\n",
       "        }    #T_959886e4_4f70_11e9_ad66_48e244f5c91erow13_col8 {\n",
       "            background-color:  #abc8fd;\n",
       "            color:  #000000;\n",
       "        }    #T_959886e4_4f70_11e9_ad66_48e244f5c91erow13_col9 {\n",
       "            background-color:  #c1d4f4;\n",
       "            color:  #000000;\n",
       "        }    #T_959886e4_4f70_11e9_ad66_48e244f5c91erow13_col10 {\n",
       "            background-color:  #afcafc;\n",
       "            color:  #000000;\n",
       "        }    #T_959886e4_4f70_11e9_ad66_48e244f5c91erow13_col11 {\n",
       "            background-color:  #9fbfff;\n",
       "            color:  #000000;\n",
       "        }    #T_959886e4_4f70_11e9_ad66_48e244f5c91erow13_col12 {\n",
       "            background-color:  #8fb1fe;\n",
       "            color:  #000000;\n",
       "        }    #T_959886e4_4f70_11e9_ad66_48e244f5c91erow13_col13 {\n",
       "            background-color:  #b40426;\n",
       "            color:  #f1f1f1;\n",
       "        }</style><table id=\"T_959886e4_4f70_11e9_ad66_48e244f5c91e\" ><thead>    <tr>        <th class=\"blank level0\" ></th>        <th class=\"col_heading level0 col0\" >Survived</th>        <th class=\"col_heading level0 col1\" >Pclass</th>        <th class=\"col_heading level0 col2\" >Sex</th>        <th class=\"col_heading level0 col3\" >Age</th>        <th class=\"col_heading level0 col4\" >Fare</th>        <th class=\"col_heading level0 col5\" >FamilySize</th>        <th class=\"col_heading level0 col6\" >Embarked_0</th>        <th class=\"col_heading level0 col7\" >Embarked_1</th>        <th class=\"col_heading level0 col8\" >Embarked_2</th>        <th class=\"col_heading level0 col9\" >Title_0</th>        <th class=\"col_heading level0 col10\" >Title_1</th>        <th class=\"col_heading level0 col11\" >Title_2</th>        <th class=\"col_heading level0 col12\" >Title_3</th>        <th class=\"col_heading level0 col13\" >Title_4</th>    </tr></thead><tbody>\n",
       "                <tr>\n",
       "                        <th id=\"T_959886e4_4f70_11e9_ad66_48e244f5c91elevel0_row0\" class=\"row_heading level0 row0\" >Survived</th>\n",
       "                        <td id=\"T_959886e4_4f70_11e9_ad66_48e244f5c91erow0_col0\" class=\"data row0 col0\" >1</td>\n",
       "                        <td id=\"T_959886e4_4f70_11e9_ad66_48e244f5c91erow0_col1\" class=\"data row0 col1\" >-0.338481</td>\n",
       "                        <td id=\"T_959886e4_4f70_11e9_ad66_48e244f5c91erow0_col2\" class=\"data row0 col2\" >0.543351</td>\n",
       "                        <td id=\"T_959886e4_4f70_11e9_ad66_48e244f5c91erow0_col3\" class=\"data row0 col3\" >-0.0910035</td>\n",
       "                        <td id=\"T_959886e4_4f70_11e9_ad66_48e244f5c91erow0_col4\" class=\"data row0 col4\" >0.257307</td>\n",
       "                        <td id=\"T_959886e4_4f70_11e9_ad66_48e244f5c91erow0_col5\" class=\"data row0 col5\" >0.016639</td>\n",
       "                        <td id=\"T_959886e4_4f70_11e9_ad66_48e244f5c91erow0_col6\" class=\"data row0 col6\" >-0.149683</td>\n",
       "                        <td id=\"T_959886e4_4f70_11e9_ad66_48e244f5c91erow0_col7\" class=\"data row0 col7\" >0.16824</td>\n",
       "                        <td id=\"T_959886e4_4f70_11e9_ad66_48e244f5c91erow0_col8\" class=\"data row0 col8\" >0.00365038</td>\n",
       "                        <td id=\"T_959886e4_4f70_11e9_ad66_48e244f5c91erow0_col9\" class=\"data row0 col9\" >-0.550009</td>\n",
       "                        <td id=\"T_959886e4_4f70_11e9_ad66_48e244f5c91erow0_col10\" class=\"data row0 col10\" >0.338468</td>\n",
       "                        <td id=\"T_959886e4_4f70_11e9_ad66_48e244f5c91erow0_col11\" class=\"data row0 col11\" >0.344935</td>\n",
       "                        <td id=\"T_959886e4_4f70_11e9_ad66_48e244f5c91erow0_col12\" class=\"data row0 col12\" >0.0852206</td>\n",
       "                        <td id=\"T_959886e4_4f70_11e9_ad66_48e244f5c91erow0_col13\" class=\"data row0 col13\" >-0.0566492</td>\n",
       "            </tr>\n",
       "            <tr>\n",
       "                        <th id=\"T_959886e4_4f70_11e9_ad66_48e244f5c91elevel0_row1\" class=\"row_heading level0 row1\" >Pclass</th>\n",
       "                        <td id=\"T_959886e4_4f70_11e9_ad66_48e244f5c91erow1_col0\" class=\"data row1 col0\" >-0.338481</td>\n",
       "                        <td id=\"T_959886e4_4f70_11e9_ad66_48e244f5c91erow1_col1\" class=\"data row1 col1\" >1</td>\n",
       "                        <td id=\"T_959886e4_4f70_11e9_ad66_48e244f5c91erow1_col2\" class=\"data row1 col2\" >-0.1319</td>\n",
       "                        <td id=\"T_959886e4_4f70_11e9_ad66_48e244f5c91erow1_col3\" class=\"data row1 col3\" >-0.319516</td>\n",
       "                        <td id=\"T_959886e4_4f70_11e9_ad66_48e244f5c91erow1_col4\" class=\"data row1 col4\" >-0.5495</td>\n",
       "                        <td id=\"T_959886e4_4f70_11e9_ad66_48e244f5c91erow1_col5\" class=\"data row1 col5\" >0.0659969</td>\n",
       "                        <td id=\"T_959886e4_4f70_11e9_ad66_48e244f5c91erow1_col6\" class=\"data row1 col6\" >0.0740528</td>\n",
       "                        <td id=\"T_959886e4_4f70_11e9_ad66_48e244f5c91erow1_col7\" class=\"data row1 col7\" >-0.243292</td>\n",
       "                        <td id=\"T_959886e4_4f70_11e9_ad66_48e244f5c91erow1_col8\" class=\"data row1 col8\" >0.221009</td>\n",
       "                        <td id=\"T_959886e4_4f70_11e9_ad66_48e244f5c91erow1_col9\" class=\"data row1 col9\" >0.105913</td>\n",
       "                        <td id=\"T_959886e4_4f70_11e9_ad66_48e244f5c91erow1_col10\" class=\"data row1 col10\" >-0.0145657</td>\n",
       "                        <td id=\"T_959886e4_4f70_11e9_ad66_48e244f5c91erow1_col11\" class=\"data row1 col11\" >-0.158279</td>\n",
       "                        <td id=\"T_959886e4_4f70_11e9_ad66_48e244f5c91erow1_col12\" class=\"data row1 col12\" >0.0820814</td>\n",
       "                        <td id=\"T_959886e4_4f70_11e9_ad66_48e244f5c91erow1_col13\" class=\"data row1 col13\" >-0.0776079</td>\n",
       "            </tr>\n",
       "            <tr>\n",
       "                        <th id=\"T_959886e4_4f70_11e9_ad66_48e244f5c91elevel0_row2\" class=\"row_heading level0 row2\" >Sex</th>\n",
       "                        <td id=\"T_959886e4_4f70_11e9_ad66_48e244f5c91erow2_col0\" class=\"data row2 col0\" >0.543351</td>\n",
       "                        <td id=\"T_959886e4_4f70_11e9_ad66_48e244f5c91erow2_col1\" class=\"data row2 col1\" >-0.1319</td>\n",
       "                        <td id=\"T_959886e4_4f70_11e9_ad66_48e244f5c91erow2_col2\" class=\"data row2 col2\" >1</td>\n",
       "                        <td id=\"T_959886e4_4f70_11e9_ad66_48e244f5c91erow2_col3\" class=\"data row2 col3\" >-0.129779</td>\n",
       "                        <td id=\"T_959886e4_4f70_11e9_ad66_48e244f5c91erow2_col4\" class=\"data row2 col4\" >0.182333</td>\n",
       "                        <td id=\"T_959886e4_4f70_11e9_ad66_48e244f5c91erow2_col5\" class=\"data row2 col5\" >0.200988</td>\n",
       "                        <td id=\"T_959886e4_4f70_11e9_ad66_48e244f5c91erow2_col6\" class=\"data row2 col6\" >-0.119224</td>\n",
       "                        <td id=\"T_959886e4_4f70_11e9_ad66_48e244f5c91erow2_col7\" class=\"data row2 col7\" >0.0828535</td>\n",
       "                        <td id=\"T_959886e4_4f70_11e9_ad66_48e244f5c91erow2_col8\" class=\"data row2 col8\" >0.0741151</td>\n",
       "                        <td id=\"T_959886e4_4f70_11e9_ad66_48e244f5c91erow2_col9\" class=\"data row2 col9\" >-0.886982</td>\n",
       "                        <td id=\"T_959886e4_4f70_11e9_ad66_48e244f5c91erow2_col10\" class=\"data row2 col10\" >0.696282</td>\n",
       "                        <td id=\"T_959886e4_4f70_11e9_ad66_48e244f5c91erow2_col11\" class=\"data row2 col11\" >0.552686</td>\n",
       "                        <td id=\"T_959886e4_4f70_11e9_ad66_48e244f5c91erow2_col12\" class=\"data row2 col12\" >-0.159934</td>\n",
       "                        <td id=\"T_959886e4_4f70_11e9_ad66_48e244f5c91erow2_col13\" class=\"data row2 col13\" >-0.0745185</td>\n",
       "            </tr>\n",
       "            <tr>\n",
       "                        <th id=\"T_959886e4_4f70_11e9_ad66_48e244f5c91elevel0_row3\" class=\"row_heading level0 row3\" >Age</th>\n",
       "                        <td id=\"T_959886e4_4f70_11e9_ad66_48e244f5c91erow3_col0\" class=\"data row3 col0\" >-0.0910035</td>\n",
       "                        <td id=\"T_959886e4_4f70_11e9_ad66_48e244f5c91erow3_col1\" class=\"data row3 col1\" >-0.319516</td>\n",
       "                        <td id=\"T_959886e4_4f70_11e9_ad66_48e244f5c91erow3_col2\" class=\"data row3 col2\" >-0.129779</td>\n",
       "                        <td id=\"T_959886e4_4f70_11e9_ad66_48e244f5c91erow3_col3\" class=\"data row3 col3\" >1</td>\n",
       "                        <td id=\"T_959886e4_4f70_11e9_ad66_48e244f5c91erow3_col4\" class=\"data row3 col4\" >0.0830046</td>\n",
       "                        <td id=\"T_959886e4_4f70_11e9_ad66_48e244f5c91erow3_col5\" class=\"data row3 col5\" >-0.267105</td>\n",
       "                        <td id=\"T_959886e4_4f70_11e9_ad66_48e244f5c91erow3_col6\" class=\"data row3 col6\" >-0.0110639</td>\n",
       "                        <td id=\"T_959886e4_4f70_11e9_ad66_48e244f5c91erow3_col7\" class=\"data row3 col7\" >0.0326522</td>\n",
       "                        <td id=\"T_959886e4_4f70_11e9_ad66_48e244f5c91erow3_col8\" class=\"data row3 col8\" >-0.0278734</td>\n",
       "                        <td id=\"T_959886e4_4f70_11e9_ad66_48e244f5c91erow3_col9\" class=\"data row3 col9\" >0.268492</td>\n",
       "                        <td id=\"T_959886e4_4f70_11e9_ad66_48e244f5c91erow3_col10\" class=\"data row3 col10\" >-0.305838</td>\n",
       "                        <td id=\"T_959886e4_4f70_11e9_ad66_48e244f5c91erow3_col11\" class=\"data row3 col11\" >0.173606</td>\n",
       "                        <td id=\"T_959886e4_4f70_11e9_ad66_48e244f5c91erow3_col12\" class=\"data row3 col12\" >-0.37662</td>\n",
       "                        <td id=\"T_959886e4_4f70_11e9_ad66_48e244f5c91erow3_col13\" class=\"data row3 col13\" >0.0972621</td>\n",
       "            </tr>\n",
       "            <tr>\n",
       "                        <th id=\"T_959886e4_4f70_11e9_ad66_48e244f5c91elevel0_row4\" class=\"row_heading level0 row4\" >Fare</th>\n",
       "                        <td id=\"T_959886e4_4f70_11e9_ad66_48e244f5c91erow4_col0\" class=\"data row4 col0\" >0.257307</td>\n",
       "                        <td id=\"T_959886e4_4f70_11e9_ad66_48e244f5c91erow4_col1\" class=\"data row4 col1\" >-0.5495</td>\n",
       "                        <td id=\"T_959886e4_4f70_11e9_ad66_48e244f5c91erow4_col2\" class=\"data row4 col2\" >0.182333</td>\n",
       "                        <td id=\"T_959886e4_4f70_11e9_ad66_48e244f5c91erow4_col3\" class=\"data row4 col3\" >0.0830046</td>\n",
       "                        <td id=\"T_959886e4_4f70_11e9_ad66_48e244f5c91erow4_col4\" class=\"data row4 col4\" >1</td>\n",
       "                        <td id=\"T_959886e4_4f70_11e9_ad66_48e244f5c91erow4_col5\" class=\"data row4 col5\" >0.217138</td>\n",
       "                        <td id=\"T_959886e4_4f70_11e9_ad66_48e244f5c91erow4_col6\" class=\"data row4 col6\" >-0.162184</td>\n",
       "                        <td id=\"T_959886e4_4f70_11e9_ad66_48e244f5c91erow4_col7\" class=\"data row4 col7\" >0.269335</td>\n",
       "                        <td id=\"T_959886e4_4f70_11e9_ad66_48e244f5c91erow4_col8\" class=\"data row4 col8\" >-0.117216</td>\n",
       "                        <td id=\"T_959886e4_4f70_11e9_ad66_48e244f5c91erow4_col9\" class=\"data row4 col9\" >-0.176814</td>\n",
       "                        <td id=\"T_959886e4_4f70_11e9_ad66_48e244f5c91erow4_col10\" class=\"data row4 col10\" >0.121343</td>\n",
       "                        <td id=\"T_959886e4_4f70_11e9_ad66_48e244f5c91erow4_col11\" class=\"data row4 col11\" >0.108496</td>\n",
       "                        <td id=\"T_959886e4_4f70_11e9_ad66_48e244f5c91erow4_col12\" class=\"data row4 col12\" >0.0109084</td>\n",
       "                        <td id=\"T_959886e4_4f70_11e9_ad66_48e244f5c91erow4_col13\" class=\"data row4 col13\" >-0.0266471</td>\n",
       "            </tr>\n",
       "            <tr>\n",
       "                        <th id=\"T_959886e4_4f70_11e9_ad66_48e244f5c91elevel0_row5\" class=\"row_heading level0 row5\" >FamilySize</th>\n",
       "                        <td id=\"T_959886e4_4f70_11e9_ad66_48e244f5c91erow5_col0\" class=\"data row5 col0\" >0.016639</td>\n",
       "                        <td id=\"T_959886e4_4f70_11e9_ad66_48e244f5c91erow5_col1\" class=\"data row5 col1\" >0.0659969</td>\n",
       "                        <td id=\"T_959886e4_4f70_11e9_ad66_48e244f5c91erow5_col2\" class=\"data row5 col2\" >0.200988</td>\n",
       "                        <td id=\"T_959886e4_4f70_11e9_ad66_48e244f5c91erow5_col3\" class=\"data row5 col3\" >-0.267105</td>\n",
       "                        <td id=\"T_959886e4_4f70_11e9_ad66_48e244f5c91erow5_col4\" class=\"data row5 col4\" >0.217138</td>\n",
       "                        <td id=\"T_959886e4_4f70_11e9_ad66_48e244f5c91erow5_col5\" class=\"data row5 col5\" >1</td>\n",
       "                        <td id=\"T_959886e4_4f70_11e9_ad66_48e244f5c91erow5_col6\" class=\"data row5 col6\" >0.0773585</td>\n",
       "                        <td id=\"T_959886e4_4f70_11e9_ad66_48e244f5c91erow5_col7\" class=\"data row5 col7\" >-0.0462153</td>\n",
       "                        <td id=\"T_959886e4_4f70_11e9_ad66_48e244f5c91erow5_col8\" class=\"data row5 col8\" >-0.0585921</td>\n",
       "                        <td id=\"T_959886e4_4f70_11e9_ad66_48e244f5c91erow5_col9\" class=\"data row5 col9\" >-0.345115</td>\n",
       "                        <td id=\"T_959886e4_4f70_11e9_ad66_48e244f5c91erow5_col10\" class=\"data row5 col10\" >0.105738</td>\n",
       "                        <td id=\"T_959886e4_4f70_11e9_ad66_48e244f5c91erow5_col11\" class=\"data row5 col11\" >0.153525</td>\n",
       "                        <td id=\"T_959886e4_4f70_11e9_ad66_48e244f5c91erow5_col12\" class=\"data row5 col12\" >0.372472</td>\n",
       "                        <td id=\"T_959886e4_4f70_11e9_ad66_48e244f5c91erow5_col13\" class=\"data row5 col13\" >-0.0427463</td>\n",
       "            </tr>\n",
       "            <tr>\n",
       "                        <th id=\"T_959886e4_4f70_11e9_ad66_48e244f5c91elevel0_row6\" class=\"row_heading level0 row6\" >Embarked_0</th>\n",
       "                        <td id=\"T_959886e4_4f70_11e9_ad66_48e244f5c91erow6_col0\" class=\"data row6 col0\" >-0.149683</td>\n",
       "                        <td id=\"T_959886e4_4f70_11e9_ad66_48e244f5c91erow6_col1\" class=\"data row6 col1\" >0.0740528</td>\n",
       "                        <td id=\"T_959886e4_4f70_11e9_ad66_48e244f5c91erow6_col2\" class=\"data row6 col2\" >-0.119224</td>\n",
       "                        <td id=\"T_959886e4_4f70_11e9_ad66_48e244f5c91erow6_col3\" class=\"data row6 col3\" >-0.0110639</td>\n",
       "                        <td id=\"T_959886e4_4f70_11e9_ad66_48e244f5c91erow6_col4\" class=\"data row6 col4\" >-0.162184</td>\n",
       "                        <td id=\"T_959886e4_4f70_11e9_ad66_48e244f5c91erow6_col5\" class=\"data row6 col5\" >0.0773585</td>\n",
       "                        <td id=\"T_959886e4_4f70_11e9_ad66_48e244f5c91erow6_col6\" class=\"data row6 col6\" >1</td>\n",
       "                        <td id=\"T_959886e4_4f70_11e9_ad66_48e244f5c91erow6_col7\" class=\"data row6 col7\" >-0.782742</td>\n",
       "                        <td id=\"T_959886e4_4f70_11e9_ad66_48e244f5c91erow6_col8\" class=\"data row6 col8\" >-0.499421</td>\n",
       "                        <td id=\"T_959886e4_4f70_11e9_ad66_48e244f5c91erow6_col9\" class=\"data row6 col9\" >0.104714</td>\n",
       "                        <td id=\"T_959886e4_4f70_11e9_ad66_48e244f5c91erow6_col10\" class=\"data row6 col10\" >-0.141356</td>\n",
       "                        <td id=\"T_959886e4_4f70_11e9_ad66_48e244f5c91erow6_col11\" class=\"data row6 col11\" >-0.000564872</td>\n",
       "                        <td id=\"T_959886e4_4f70_11e9_ad66_48e244f5c91erow6_col12\" class=\"data row6 col12\" >0.0242644</td>\n",
       "                        <td id=\"T_959886e4_4f70_11e9_ad66_48e244f5c91erow6_col13\" class=\"data row6 col13\" >0.011934</td>\n",
       "            </tr>\n",
       "            <tr>\n",
       "                        <th id=\"T_959886e4_4f70_11e9_ad66_48e244f5c91elevel0_row7\" class=\"row_heading level0 row7\" >Embarked_1</th>\n",
       "                        <td id=\"T_959886e4_4f70_11e9_ad66_48e244f5c91erow7_col0\" class=\"data row7 col0\" >0.16824</td>\n",
       "                        <td id=\"T_959886e4_4f70_11e9_ad66_48e244f5c91erow7_col1\" class=\"data row7 col1\" >-0.243292</td>\n",
       "                        <td id=\"T_959886e4_4f70_11e9_ad66_48e244f5c91erow7_col2\" class=\"data row7 col2\" >0.0828535</td>\n",
       "                        <td id=\"T_959886e4_4f70_11e9_ad66_48e244f5c91erow7_col3\" class=\"data row7 col3\" >0.0326522</td>\n",
       "                        <td id=\"T_959886e4_4f70_11e9_ad66_48e244f5c91erow7_col4\" class=\"data row7 col4\" >0.269335</td>\n",
       "                        <td id=\"T_959886e4_4f70_11e9_ad66_48e244f5c91erow7_col5\" class=\"data row7 col5\" >-0.0462153</td>\n",
       "                        <td id=\"T_959886e4_4f70_11e9_ad66_48e244f5c91erow7_col6\" class=\"data row7 col6\" >-0.782742</td>\n",
       "                        <td id=\"T_959886e4_4f70_11e9_ad66_48e244f5c91erow7_col7\" class=\"data row7 col7\" >1</td>\n",
       "                        <td id=\"T_959886e4_4f70_11e9_ad66_48e244f5c91erow7_col8\" class=\"data row7 col8\" >-0.148258</td>\n",
       "                        <td id=\"T_959886e4_4f70_11e9_ad66_48e244f5c91erow7_col9\" class=\"data row7 col9\" >-0.0627686</td>\n",
       "                        <td id=\"T_959886e4_4f70_11e9_ad66_48e244f5c91erow7_col10\" class=\"data row7 col10\" >0.0418606</td>\n",
       "                        <td id=\"T_959886e4_4f70_11e9_ad66_48e244f5c91erow7_col11\" class=\"data row7 col11\" >0.0661013</td>\n",
       "                        <td id=\"T_959886e4_4f70_11e9_ad66_48e244f5c91erow7_col12\" class=\"data row7 col12\" >-0.0352249</td>\n",
       "                        <td id=\"T_959886e4_4f70_11e9_ad66_48e244f5c91erow7_col13\" class=\"data row7 col13\" >-0.0199992</td>\n",
       "            </tr>\n",
       "            <tr>\n",
       "                        <th id=\"T_959886e4_4f70_11e9_ad66_48e244f5c91elevel0_row8\" class=\"row_heading level0 row8\" >Embarked_2</th>\n",
       "                        <td id=\"T_959886e4_4f70_11e9_ad66_48e244f5c91erow8_col0\" class=\"data row8 col0\" >0.00365038</td>\n",
       "                        <td id=\"T_959886e4_4f70_11e9_ad66_48e244f5c91erow8_col1\" class=\"data row8 col1\" >0.221009</td>\n",
       "                        <td id=\"T_959886e4_4f70_11e9_ad66_48e244f5c91erow8_col2\" class=\"data row8 col2\" >0.0741151</td>\n",
       "                        <td id=\"T_959886e4_4f70_11e9_ad66_48e244f5c91erow8_col3\" class=\"data row8 col3\" >-0.0278734</td>\n",
       "                        <td id=\"T_959886e4_4f70_11e9_ad66_48e244f5c91erow8_col4\" class=\"data row8 col4\" >-0.117216</td>\n",
       "                        <td id=\"T_959886e4_4f70_11e9_ad66_48e244f5c91erow8_col5\" class=\"data row8 col5\" >-0.0585921</td>\n",
       "                        <td id=\"T_959886e4_4f70_11e9_ad66_48e244f5c91erow8_col6\" class=\"data row8 col6\" >-0.499421</td>\n",
       "                        <td id=\"T_959886e4_4f70_11e9_ad66_48e244f5c91erow8_col7\" class=\"data row8 col7\" >-0.148258</td>\n",
       "                        <td id=\"T_959886e4_4f70_11e9_ad66_48e244f5c91erow8_col8\" class=\"data row8 col8\" >1</td>\n",
       "                        <td id=\"T_959886e4_4f70_11e9_ad66_48e244f5c91erow8_col9\" class=\"data row8 col9\" >-0.0790183</td>\n",
       "                        <td id=\"T_959886e4_4f70_11e9_ad66_48e244f5c91erow8_col10\" class=\"data row8 col10\" >0.16635</td>\n",
       "                        <td id=\"T_959886e4_4f70_11e9_ad66_48e244f5c91erow8_col11\" class=\"data row8 col11\" >-0.0911211</td>\n",
       "                        <td id=\"T_959886e4_4f70_11e9_ad66_48e244f5c91erow8_col12\" class=\"data row8 col12\" >0.0104784</td>\n",
       "                        <td id=\"T_959886e4_4f70_11e9_ad66_48e244f5c91erow8_col13\" class=\"data row8 col13\" >0.00887671</td>\n",
       "            </tr>\n",
       "            <tr>\n",
       "                        <th id=\"T_959886e4_4f70_11e9_ad66_48e244f5c91elevel0_row9\" class=\"row_heading level0 row9\" >Title_0</th>\n",
       "                        <td id=\"T_959886e4_4f70_11e9_ad66_48e244f5c91erow9_col0\" class=\"data row9 col0\" >-0.550009</td>\n",
       "                        <td id=\"T_959886e4_4f70_11e9_ad66_48e244f5c91erow9_col1\" class=\"data row9 col1\" >0.105913</td>\n",
       "                        <td id=\"T_959886e4_4f70_11e9_ad66_48e244f5c91erow9_col2\" class=\"data row9 col2\" >-0.886982</td>\n",
       "                        <td id=\"T_959886e4_4f70_11e9_ad66_48e244f5c91erow9_col3\" class=\"data row9 col3\" >0.268492</td>\n",
       "                        <td id=\"T_959886e4_4f70_11e9_ad66_48e244f5c91erow9_col4\" class=\"data row9 col4\" >-0.176814</td>\n",
       "                        <td id=\"T_959886e4_4f70_11e9_ad66_48e244f5c91erow9_col5\" class=\"data row9 col5\" >-0.345115</td>\n",
       "                        <td id=\"T_959886e4_4f70_11e9_ad66_48e244f5c91erow9_col6\" class=\"data row9 col6\" >0.104714</td>\n",
       "                        <td id=\"T_959886e4_4f70_11e9_ad66_48e244f5c91erow9_col7\" class=\"data row9 col7\" >-0.0627686</td>\n",
       "                        <td id=\"T_959886e4_4f70_11e9_ad66_48e244f5c91erow9_col8\" class=\"data row9 col8\" >-0.0790183</td>\n",
       "                        <td id=\"T_959886e4_4f70_11e9_ad66_48e244f5c91erow9_col9\" class=\"data row9 col9\" >1</td>\n",
       "                        <td id=\"T_959886e4_4f70_11e9_ad66_48e244f5c91erow9_col10\" class=\"data row9 col10\" >-0.62092</td>\n",
       "                        <td id=\"T_959886e4_4f70_11e9_ad66_48e244f5c91erow9_col11\" class=\"data row9 col11\" >-0.492866</td>\n",
       "                        <td id=\"T_959886e4_4f70_11e9_ad66_48e244f5c91erow9_col12\" class=\"data row9 col12\" >-0.262083</td>\n",
       "                        <td id=\"T_959886e4_4f70_11e9_ad66_48e244f5c91erow9_col13\" class=\"data row9 col13\" >-0.122113</td>\n",
       "            </tr>\n",
       "            <tr>\n",
       "                        <th id=\"T_959886e4_4f70_11e9_ad66_48e244f5c91elevel0_row10\" class=\"row_heading level0 row10\" >Title_1</th>\n",
       "                        <td id=\"T_959886e4_4f70_11e9_ad66_48e244f5c91erow10_col0\" class=\"data row10 col0\" >0.338468</td>\n",
       "                        <td id=\"T_959886e4_4f70_11e9_ad66_48e244f5c91erow10_col1\" class=\"data row10 col1\" >-0.0145657</td>\n",
       "                        <td id=\"T_959886e4_4f70_11e9_ad66_48e244f5c91erow10_col2\" class=\"data row10 col2\" >0.696282</td>\n",
       "                        <td id=\"T_959886e4_4f70_11e9_ad66_48e244f5c91erow10_col3\" class=\"data row10 col3\" >-0.305838</td>\n",
       "                        <td id=\"T_959886e4_4f70_11e9_ad66_48e244f5c91erow10_col4\" class=\"data row10 col4\" >0.121343</td>\n",
       "                        <td id=\"T_959886e4_4f70_11e9_ad66_48e244f5c91erow10_col5\" class=\"data row10 col5\" >0.105738</td>\n",
       "                        <td id=\"T_959886e4_4f70_11e9_ad66_48e244f5c91erow10_col6\" class=\"data row10 col6\" >-0.141356</td>\n",
       "                        <td id=\"T_959886e4_4f70_11e9_ad66_48e244f5c91erow10_col7\" class=\"data row10 col7\" >0.0418606</td>\n",
       "                        <td id=\"T_959886e4_4f70_11e9_ad66_48e244f5c91erow10_col8\" class=\"data row10 col8\" >0.16635</td>\n",
       "                        <td id=\"T_959886e4_4f70_11e9_ad66_48e244f5c91erow10_col9\" class=\"data row10 col9\" >-0.62092</td>\n",
       "                        <td id=\"T_959886e4_4f70_11e9_ad66_48e244f5c91erow10_col10\" class=\"data row10 col10\" >1</td>\n",
       "                        <td id=\"T_959886e4_4f70_11e9_ad66_48e244f5c91erow10_col11\" class=\"data row10 col11\" >-0.209419</td>\n",
       "                        <td id=\"T_959886e4_4f70_11e9_ad66_48e244f5c91erow10_col12\" class=\"data row10 col12\" >-0.111359</td>\n",
       "                        <td id=\"T_959886e4_4f70_11e9_ad66_48e244f5c91erow10_col13\" class=\"data row10 col13\" >-0.0518858</td>\n",
       "            </tr>\n",
       "            <tr>\n",
       "                        <th id=\"T_959886e4_4f70_11e9_ad66_48e244f5c91elevel0_row11\" class=\"row_heading level0 row11\" >Title_2</th>\n",
       "                        <td id=\"T_959886e4_4f70_11e9_ad66_48e244f5c91erow11_col0\" class=\"data row11 col0\" >0.344935</td>\n",
       "                        <td id=\"T_959886e4_4f70_11e9_ad66_48e244f5c91erow11_col1\" class=\"data row11 col1\" >-0.158279</td>\n",
       "                        <td id=\"T_959886e4_4f70_11e9_ad66_48e244f5c91erow11_col2\" class=\"data row11 col2\" >0.552686</td>\n",
       "                        <td id=\"T_959886e4_4f70_11e9_ad66_48e244f5c91erow11_col3\" class=\"data row11 col3\" >0.173606</td>\n",
       "                        <td id=\"T_959886e4_4f70_11e9_ad66_48e244f5c91erow11_col4\" class=\"data row11 col4\" >0.108496</td>\n",
       "                        <td id=\"T_959886e4_4f70_11e9_ad66_48e244f5c91erow11_col5\" class=\"data row11 col5\" >0.153525</td>\n",
       "                        <td id=\"T_959886e4_4f70_11e9_ad66_48e244f5c91erow11_col6\" class=\"data row11 col6\" >-0.000564872</td>\n",
       "                        <td id=\"T_959886e4_4f70_11e9_ad66_48e244f5c91erow11_col7\" class=\"data row11 col7\" >0.0661013</td>\n",
       "                        <td id=\"T_959886e4_4f70_11e9_ad66_48e244f5c91erow11_col8\" class=\"data row11 col8\" >-0.0911211</td>\n",
       "                        <td id=\"T_959886e4_4f70_11e9_ad66_48e244f5c91erow11_col9\" class=\"data row11 col9\" >-0.492866</td>\n",
       "                        <td id=\"T_959886e4_4f70_11e9_ad66_48e244f5c91erow11_col10\" class=\"data row11 col10\" >-0.209419</td>\n",
       "                        <td id=\"T_959886e4_4f70_11e9_ad66_48e244f5c91erow11_col11\" class=\"data row11 col11\" >1</td>\n",
       "                        <td id=\"T_959886e4_4f70_11e9_ad66_48e244f5c91erow11_col12\" class=\"data row11 col12\" >-0.0883935</td>\n",
       "                        <td id=\"T_959886e4_4f70_11e9_ad66_48e244f5c91erow11_col13\" class=\"data row11 col13\" >-0.0411853</td>\n",
       "            </tr>\n",
       "            <tr>\n",
       "                        <th id=\"T_959886e4_4f70_11e9_ad66_48e244f5c91elevel0_row12\" class=\"row_heading level0 row12\" >Title_3</th>\n",
       "                        <td id=\"T_959886e4_4f70_11e9_ad66_48e244f5c91erow12_col0\" class=\"data row12 col0\" >0.0852206</td>\n",
       "                        <td id=\"T_959886e4_4f70_11e9_ad66_48e244f5c91erow12_col1\" class=\"data row12 col1\" >0.0820814</td>\n",
       "                        <td id=\"T_959886e4_4f70_11e9_ad66_48e244f5c91erow12_col2\" class=\"data row12 col2\" >-0.159934</td>\n",
       "                        <td id=\"T_959886e4_4f70_11e9_ad66_48e244f5c91erow12_col3\" class=\"data row12 col3\" >-0.37662</td>\n",
       "                        <td id=\"T_959886e4_4f70_11e9_ad66_48e244f5c91erow12_col4\" class=\"data row12 col4\" >0.0109084</td>\n",
       "                        <td id=\"T_959886e4_4f70_11e9_ad66_48e244f5c91erow12_col5\" class=\"data row12 col5\" >0.372472</td>\n",
       "                        <td id=\"T_959886e4_4f70_11e9_ad66_48e244f5c91erow12_col6\" class=\"data row12 col6\" >0.0242644</td>\n",
       "                        <td id=\"T_959886e4_4f70_11e9_ad66_48e244f5c91erow12_col7\" class=\"data row12 col7\" >-0.0352249</td>\n",
       "                        <td id=\"T_959886e4_4f70_11e9_ad66_48e244f5c91erow12_col8\" class=\"data row12 col8\" >0.0104784</td>\n",
       "                        <td id=\"T_959886e4_4f70_11e9_ad66_48e244f5c91erow12_col9\" class=\"data row12 col9\" >-0.262083</td>\n",
       "                        <td id=\"T_959886e4_4f70_11e9_ad66_48e244f5c91erow12_col10\" class=\"data row12 col10\" >-0.111359</td>\n",
       "                        <td id=\"T_959886e4_4f70_11e9_ad66_48e244f5c91erow12_col11\" class=\"data row12 col11\" >-0.0883935</td>\n",
       "                        <td id=\"T_959886e4_4f70_11e9_ad66_48e244f5c91erow12_col12\" class=\"data row12 col12\" >1</td>\n",
       "                        <td id=\"T_959886e4_4f70_11e9_ad66_48e244f5c91erow12_col13\" class=\"data row12 col13\" >-0.0219004</td>\n",
       "            </tr>\n",
       "            <tr>\n",
       "                        <th id=\"T_959886e4_4f70_11e9_ad66_48e244f5c91elevel0_row13\" class=\"row_heading level0 row13\" >Title_4</th>\n",
       "                        <td id=\"T_959886e4_4f70_11e9_ad66_48e244f5c91erow13_col0\" class=\"data row13 col0\" >-0.0566492</td>\n",
       "                        <td id=\"T_959886e4_4f70_11e9_ad66_48e244f5c91erow13_col1\" class=\"data row13 col1\" >-0.0776079</td>\n",
       "                        <td id=\"T_959886e4_4f70_11e9_ad66_48e244f5c91erow13_col2\" class=\"data row13 col2\" >-0.0745185</td>\n",
       "                        <td id=\"T_959886e4_4f70_11e9_ad66_48e244f5c91erow13_col3\" class=\"data row13 col3\" >0.0972621</td>\n",
       "                        <td id=\"T_959886e4_4f70_11e9_ad66_48e244f5c91erow13_col4\" class=\"data row13 col4\" >-0.0266471</td>\n",
       "                        <td id=\"T_959886e4_4f70_11e9_ad66_48e244f5c91erow13_col5\" class=\"data row13 col5\" >-0.0427463</td>\n",
       "                        <td id=\"T_959886e4_4f70_11e9_ad66_48e244f5c91erow13_col6\" class=\"data row13 col6\" >0.011934</td>\n",
       "                        <td id=\"T_959886e4_4f70_11e9_ad66_48e244f5c91erow13_col7\" class=\"data row13 col7\" >-0.0199992</td>\n",
       "                        <td id=\"T_959886e4_4f70_11e9_ad66_48e244f5c91erow13_col8\" class=\"data row13 col8\" >0.00887671</td>\n",
       "                        <td id=\"T_959886e4_4f70_11e9_ad66_48e244f5c91erow13_col9\" class=\"data row13 col9\" >-0.122113</td>\n",
       "                        <td id=\"T_959886e4_4f70_11e9_ad66_48e244f5c91erow13_col10\" class=\"data row13 col10\" >-0.0518858</td>\n",
       "                        <td id=\"T_959886e4_4f70_11e9_ad66_48e244f5c91erow13_col11\" class=\"data row13 col11\" >-0.0411853</td>\n",
       "                        <td id=\"T_959886e4_4f70_11e9_ad66_48e244f5c91erow13_col12\" class=\"data row13 col12\" >-0.0219004</td>\n",
       "                        <td id=\"T_959886e4_4f70_11e9_ad66_48e244f5c91erow13_col13\" class=\"data row13 col13\" >1</td>\n",
       "            </tr>\n",
       "    </tbody></table>"
      ],
      "text/plain": [
       "<pandas.io.formats.style.Styler at 0x2065b931278>"
      ]
     },
     "execution_count": 101,
     "metadata": {},
     "output_type": "execute_result"
    }
   ],
   "source": [
    "corr.style.background_gradient(cmap='coolwarm')\n",
    "# 'RdBu_r' & 'BrBG' are other good diverging colormaps"
   ]
  },
  {
   "cell_type": "code",
   "execution_count": 102,
   "metadata": {},
   "outputs": [
    {
     "data": {
      "text/html": [
       "<style  type=\"text/css\" >\n",
       "    #T_95b41258_4f70_11e9_9522_48e244f5c91erow0_col0 {\n",
       "            background-color:  #b40426;\n",
       "            color:  #f1f1f1;\n",
       "        }    #T_95b41258_4f70_11e9_9522_48e244f5c91erow0_col1 {\n",
       "            background-color:  #6485ec;\n",
       "            color:  #000000;\n",
       "        }    #T_95b41258_4f70_11e9_9522_48e244f5c91erow0_col2 {\n",
       "            background-color:  #f39577;\n",
       "            color:  #000000;\n",
       "        }    #T_95b41258_4f70_11e9_9522_48e244f5c91erow0_col3 {\n",
       "            background-color:  #7ea1fa;\n",
       "            color:  #000000;\n",
       "        }    #T_95b41258_4f70_11e9_9522_48e244f5c91erow0_col4 {\n",
       "            background-color:  #e2dad5;\n",
       "            color:  #000000;\n",
       "        }    #T_95b41258_4f70_11e9_9522_48e244f5c91erow0_col5 {\n",
       "            background-color:  #93b5fe;\n",
       "            color:  #000000;\n",
       "        }    #T_95b41258_4f70_11e9_9522_48e244f5c91erow0_col6 {\n",
       "            background-color:  #b1cbfc;\n",
       "            color:  #000000;\n",
       "        }    #T_95b41258_4f70_11e9_9522_48e244f5c91erow0_col7 {\n",
       "            background-color:  #e5d8d1;\n",
       "            color:  #000000;\n",
       "        }    #T_95b41258_4f70_11e9_9522_48e244f5c91erow0_col8 {\n",
       "            background-color:  #aac7fd;\n",
       "            color:  #000000;\n",
       "        }    #T_95b41258_4f70_11e9_9522_48e244f5c91erow0_col9 {\n",
       "            background-color:  #7396f5;\n",
       "            color:  #000000;\n",
       "        }    #T_95b41258_4f70_11e9_9522_48e244f5c91erow0_col10 {\n",
       "            background-color:  #f1cdba;\n",
       "            color:  #000000;\n",
       "        }    #T_95b41258_4f70_11e9_9522_48e244f5c91erow0_col11 {\n",
       "            background-color:  #ebd3c6;\n",
       "            color:  #000000;\n",
       "        }    #T_95b41258_4f70_11e9_9522_48e244f5c91erow0_col12 {\n",
       "            background-color:  #aac7fd;\n",
       "            color:  #000000;\n",
       "        }    #T_95b41258_4f70_11e9_9522_48e244f5c91erow0_col13 {\n",
       "            background-color:  #4b64d5;\n",
       "            color:  #f1f1f1;\n",
       "        }    #T_95b41258_4f70_11e9_9522_48e244f5c91erow1_col0 {\n",
       "            background-color:  #6485ec;\n",
       "            color:  #000000;\n",
       "        }    #T_95b41258_4f70_11e9_9522_48e244f5c91erow1_col1 {\n",
       "            background-color:  #b40426;\n",
       "            color:  #f1f1f1;\n",
       "        }    #T_95b41258_4f70_11e9_9522_48e244f5c91erow1_col2 {\n",
       "            background-color:  #c0d4f5;\n",
       "            color:  #000000;\n",
       "        }    #T_95b41258_4f70_11e9_9522_48e244f5c91erow1_col3 {\n",
       "            background-color:  #465ecf;\n",
       "            color:  #f1f1f1;\n",
       "        }    #T_95b41258_4f70_11e9_9522_48e244f5c91erow1_col4 {\n",
       "            background-color:  #3b4cc0;\n",
       "            color:  #f1f1f1;\n",
       "        }    #T_95b41258_4f70_11e9_9522_48e244f5c91erow1_col5 {\n",
       "            background-color:  #a1c0ff;\n",
       "            color:  #000000;\n",
       "        }    #T_95b41258_4f70_11e9_9522_48e244f5c91erow1_col6 {\n",
       "            background-color:  #d8dce2;\n",
       "            color:  #000000;\n",
       "        }    #T_95b41258_4f70_11e9_9522_48e244f5c91erow1_col7 {\n",
       "            background-color:  #9fbfff;\n",
       "            color:  #000000;\n",
       "        }    #T_95b41258_4f70_11e9_9522_48e244f5c91erow1_col8 {\n",
       "            background-color:  #d8dce2;\n",
       "            color:  #000000;\n",
       "        }    #T_95b41258_4f70_11e9_9522_48e244f5c91erow1_col9 {\n",
       "            background-color:  #e3d9d3;\n",
       "            color:  #000000;\n",
       "        }    #T_95b41258_4f70_11e9_9522_48e244f5c91erow1_col10 {\n",
       "            background-color:  #b7cff9;\n",
       "            color:  #000000;\n",
       "        }    #T_95b41258_4f70_11e9_9522_48e244f5c91erow1_col11 {\n",
       "            background-color:  #84a7fc;\n",
       "            color:  #000000;\n",
       "        }    #T_95b41258_4f70_11e9_9522_48e244f5c91erow1_col12 {\n",
       "            background-color:  #aac7fd;\n",
       "            color:  #000000;\n",
       "        }    #T_95b41258_4f70_11e9_9522_48e244f5c91erow1_col13 {\n",
       "            background-color:  #465ecf;\n",
       "            color:  #f1f1f1;\n",
       "        }    #T_95b41258_4f70_11e9_9522_48e244f5c91erow2_col0 {\n",
       "            background-color:  #f7aa8c;\n",
       "            color:  #000000;\n",
       "        }    #T_95b41258_4f70_11e9_9522_48e244f5c91erow2_col1 {\n",
       "            background-color:  #93b5fe;\n",
       "            color:  #000000;\n",
       "        }    #T_95b41258_4f70_11e9_9522_48e244f5c91erow2_col2 {\n",
       "            background-color:  #b40426;\n",
       "            color:  #f1f1f1;\n",
       "        }    #T_95b41258_4f70_11e9_9522_48e244f5c91erow2_col3 {\n",
       "            background-color:  #7396f5;\n",
       "            color:  #000000;\n",
       "        }    #T_95b41258_4f70_11e9_9522_48e244f5c91erow2_col4 {\n",
       "            background-color:  #d5dbe5;\n",
       "            color:  #000000;\n",
       "        }    #T_95b41258_4f70_11e9_9522_48e244f5c91erow2_col5 {\n",
       "            background-color:  #c1d4f4;\n",
       "            color:  #000000;\n",
       "        }    #T_95b41258_4f70_11e9_9522_48e244f5c91erow2_col6 {\n",
       "            background-color:  #b7cff9;\n",
       "            color:  #000000;\n",
       "        }    #T_95b41258_4f70_11e9_9522_48e244f5c91erow2_col7 {\n",
       "            background-color:  #d9dce1;\n",
       "            color:  #000000;\n",
       "        }    #T_95b41258_4f70_11e9_9522_48e244f5c91erow2_col8 {\n",
       "            background-color:  #bad0f8;\n",
       "            color:  #000000;\n",
       "        }    #T_95b41258_4f70_11e9_9522_48e244f5c91erow2_col9 {\n",
       "            background-color:  #3b4cc0;\n",
       "            color:  #f1f1f1;\n",
       "        }    #T_95b41258_4f70_11e9_9522_48e244f5c91erow2_col10 {\n",
       "            background-color:  #eb7d62;\n",
       "            color:  #000000;\n",
       "        }    #T_95b41258_4f70_11e9_9522_48e244f5c91erow2_col11 {\n",
       "            background-color:  #f7ac8e;\n",
       "            color:  #000000;\n",
       "        }    #T_95b41258_4f70_11e9_9522_48e244f5c91erow2_col12 {\n",
       "            background-color:  #6c8ff1;\n",
       "            color:  #000000;\n",
       "        }    #T_95b41258_4f70_11e9_9522_48e244f5c91erow2_col13 {\n",
       "            background-color:  #465ecf;\n",
       "            color:  #f1f1f1;\n",
       "        }    #T_95b41258_4f70_11e9_9522_48e244f5c91erow3_col0 {\n",
       "            background-color:  #9dbdff;\n",
       "            color:  #000000;\n",
       "        }    #T_95b41258_4f70_11e9_9522_48e244f5c91erow3_col1 {\n",
       "            background-color:  #688aef;\n",
       "            color:  #000000;\n",
       "        }    #T_95b41258_4f70_11e9_9522_48e244f5c91erow3_col2 {\n",
       "            background-color:  #c0d4f5;\n",
       "            color:  #000000;\n",
       "        }    #T_95b41258_4f70_11e9_9522_48e244f5c91erow3_col3 {\n",
       "            background-color:  #b40426;\n",
       "            color:  #f1f1f1;\n",
       "        }    #T_95b41258_4f70_11e9_9522_48e244f5c91erow3_col4 {\n",
       "            background-color:  #c3d5f4;\n",
       "            color:  #000000;\n",
       "        }    #T_95b41258_4f70_11e9_9522_48e244f5c91erow3_col5 {\n",
       "            background-color:  #4b64d5;\n",
       "            color:  #f1f1f1;\n",
       "        }    #T_95b41258_4f70_11e9_9522_48e244f5c91erow3_col6 {\n",
       "            background-color:  #cad8ef;\n",
       "            color:  #000000;\n",
       "        }    #T_95b41258_4f70_11e9_9522_48e244f5c91erow3_col7 {\n",
       "            background-color:  #d2dbe8;\n",
       "            color:  #000000;\n",
       "        }    #T_95b41258_4f70_11e9_9522_48e244f5c91erow3_col8 {\n",
       "            background-color:  #a3c2fe;\n",
       "            color:  #000000;\n",
       "        }    #T_95b41258_4f70_11e9_9522_48e244f5c91erow3_col9 {\n",
       "            background-color:  #f3c8b2;\n",
       "            color:  #000000;\n",
       "        }    #T_95b41258_4f70_11e9_9522_48e244f5c91erow3_col10 {\n",
       "            background-color:  #799cf8;\n",
       "            color:  #000000;\n",
       "        }    #T_95b41258_4f70_11e9_9522_48e244f5c91erow3_col11 {\n",
       "            background-color:  #cedaeb;\n",
       "            color:  #000000;\n",
       "        }    #T_95b41258_4f70_11e9_9522_48e244f5c91erow3_col12 {\n",
       "            background-color:  #3b4cc0;\n",
       "            color:  #f1f1f1;\n",
       "        }    #T_95b41258_4f70_11e9_9522_48e244f5c91erow3_col13 {\n",
       "            background-color:  #7a9df8;\n",
       "            color:  #000000;\n",
       "        }    #T_95b41258_4f70_11e9_9522_48e244f5c91erow4_col0 {\n",
       "            background-color:  #e2dad5;\n",
       "            color:  #000000;\n",
       "        }    #T_95b41258_4f70_11e9_9522_48e244f5c91erow4_col1 {\n",
       "            background-color:  #3b4cc0;\n",
       "            color:  #f1f1f1;\n",
       "        }    #T_95b41258_4f70_11e9_9522_48e244f5c91erow4_col2 {\n",
       "            background-color:  #edd2c3;\n",
       "            color:  #000000;\n",
       "        }    #T_95b41258_4f70_11e9_9522_48e244f5c91erow4_col3 {\n",
       "            background-color:  #aac7fd;\n",
       "            color:  #000000;\n",
       "        }    #T_95b41258_4f70_11e9_9522_48e244f5c91erow4_col4 {\n",
       "            background-color:  #b40426;\n",
       "            color:  #f1f1f1;\n",
       "        }    #T_95b41258_4f70_11e9_9522_48e244f5c91erow4_col5 {\n",
       "            background-color:  #c6d6f1;\n",
       "            color:  #000000;\n",
       "        }    #T_95b41258_4f70_11e9_9522_48e244f5c91erow4_col6 {\n",
       "            background-color:  #afcafc;\n",
       "            color:  #000000;\n",
       "        }    #T_95b41258_4f70_11e9_9522_48e244f5c91erow4_col7 {\n",
       "            background-color:  #f1cdba;\n",
       "            color:  #000000;\n",
       "        }    #T_95b41258_4f70_11e9_9522_48e244f5c91erow4_col8 {\n",
       "            background-color:  #8fb1fe;\n",
       "            color:  #000000;\n",
       "        }    #T_95b41258_4f70_11e9_9522_48e244f5c91erow4_col9 {\n",
       "            background-color:  #b9d0f9;\n",
       "            color:  #000000;\n",
       "        }    #T_95b41258_4f70_11e9_9522_48e244f5c91erow4_col10 {\n",
       "            background-color:  #d2dbe8;\n",
       "            color:  #000000;\n",
       "        }    #T_95b41258_4f70_11e9_9522_48e244f5c91erow4_col11 {\n",
       "            background-color:  #c1d4f4;\n",
       "            color:  #000000;\n",
       "        }    #T_95b41258_4f70_11e9_9522_48e244f5c91erow4_col12 {\n",
       "            background-color:  #98b9ff;\n",
       "            color:  #000000;\n",
       "        }    #T_95b41258_4f70_11e9_9522_48e244f5c91erow4_col13 {\n",
       "            background-color:  #5470de;\n",
       "            color:  #000000;\n",
       "        }    #T_95b41258_4f70_11e9_9522_48e244f5c91erow5_col0 {\n",
       "            background-color:  #b5cdfa;\n",
       "            color:  #000000;\n",
       "        }    #T_95b41258_4f70_11e9_9522_48e244f5c91erow5_col1 {\n",
       "            background-color:  #bfd3f6;\n",
       "            color:  #000000;\n",
       "        }    #T_95b41258_4f70_11e9_9522_48e244f5c91erow5_col2 {\n",
       "            background-color:  #eed0c0;\n",
       "            color:  #000000;\n",
       "        }    #T_95b41258_4f70_11e9_9522_48e244f5c91erow5_col3 {\n",
       "            background-color:  #536edd;\n",
       "            color:  #000000;\n",
       "        }    #T_95b41258_4f70_11e9_9522_48e244f5c91erow5_col4 {\n",
       "            background-color:  #dbdcde;\n",
       "            color:  #000000;\n",
       "        }    #T_95b41258_4f70_11e9_9522_48e244f5c91erow5_col5 {\n",
       "            background-color:  #b40426;\n",
       "            color:  #f1f1f1;\n",
       "        }    #T_95b41258_4f70_11e9_9522_48e244f5c91erow5_col6 {\n",
       "            background-color:  #d8dce2;\n",
       "            color:  #000000;\n",
       "        }    #T_95b41258_4f70_11e9_9522_48e244f5c91erow5_col7 {\n",
       "            background-color:  #c4d5f3;\n",
       "            color:  #000000;\n",
       "        }    #T_95b41258_4f70_11e9_9522_48e244f5c91erow5_col8 {\n",
       "            background-color:  #9dbdff;\n",
       "            color:  #000000;\n",
       "        }    #T_95b41258_4f70_11e9_9522_48e244f5c91erow5_col9 {\n",
       "            background-color:  #9abbff;\n",
       "            color:  #000000;\n",
       "        }    #T_95b41258_4f70_11e9_9522_48e244f5c91erow5_col10 {\n",
       "            background-color:  #cedaeb;\n",
       "            color:  #000000;\n",
       "        }    #T_95b41258_4f70_11e9_9522_48e244f5c91erow5_col11 {\n",
       "            background-color:  #cad8ef;\n",
       "            color:  #000000;\n",
       "        }    #T_95b41258_4f70_11e9_9522_48e244f5c91erow5_col12 {\n",
       "            background-color:  #e8d6cc;\n",
       "            color:  #000000;\n",
       "        }    #T_95b41258_4f70_11e9_9522_48e244f5c91erow5_col13 {\n",
       "            background-color:  #506bda;\n",
       "            color:  #000000;\n",
       "        }    #T_95b41258_4f70_11e9_9522_48e244f5c91erow6_col0 {\n",
       "            background-color:  #90b2fe;\n",
       "            color:  #000000;\n",
       "        }    #T_95b41258_4f70_11e9_9522_48e244f5c91erow6_col1 {\n",
       "            background-color:  #c1d4f4;\n",
       "            color:  #000000;\n",
       "        }    #T_95b41258_4f70_11e9_9522_48e244f5c91erow6_col2 {\n",
       "            background-color:  #c3d5f4;\n",
       "            color:  #000000;\n",
       "        }    #T_95b41258_4f70_11e9_9522_48e244f5c91erow6_col3 {\n",
       "            background-color:  #92b4fe;\n",
       "            color:  #000000;\n",
       "        }    #T_95b41258_4f70_11e9_9522_48e244f5c91erow6_col4 {\n",
       "            background-color:  #8caffe;\n",
       "            color:  #000000;\n",
       "        }    #T_95b41258_4f70_11e9_9522_48e244f5c91erow6_col5 {\n",
       "            background-color:  #a3c2fe;\n",
       "            color:  #000000;\n",
       "        }    #T_95b41258_4f70_11e9_9522_48e244f5c91erow6_col6 {\n",
       "            background-color:  #b40426;\n",
       "            color:  #f1f1f1;\n",
       "        }    #T_95b41258_4f70_11e9_9522_48e244f5c91erow6_col7 {\n",
       "            background-color:  #3b4cc0;\n",
       "            color:  #f1f1f1;\n",
       "        }    #T_95b41258_4f70_11e9_9522_48e244f5c91erow6_col8 {\n",
       "            background-color:  #3b4cc0;\n",
       "            color:  #f1f1f1;\n",
       "        }    #T_95b41258_4f70_11e9_9522_48e244f5c91erow6_col9 {\n",
       "            background-color:  #e3d9d3;\n",
       "            color:  #000000;\n",
       "        }    #T_95b41258_4f70_11e9_9522_48e244f5c91erow6_col10 {\n",
       "            background-color:  #9dbdff;\n",
       "            color:  #000000;\n",
       "        }    #T_95b41258_4f70_11e9_9522_48e244f5c91erow6_col11 {\n",
       "            background-color:  #a9c6fd;\n",
       "            color:  #000000;\n",
       "        }    #T_95b41258_4f70_11e9_9522_48e244f5c91erow6_col12 {\n",
       "            background-color:  #9bbcff;\n",
       "            color:  #000000;\n",
       "        }    #T_95b41258_4f70_11e9_9522_48e244f5c91erow6_col13 {\n",
       "            background-color:  #5f7fe8;\n",
       "            color:  #000000;\n",
       "        }    #T_95b41258_4f70_11e9_9522_48e244f5c91erow7_col0 {\n",
       "            background-color:  #d3dbe7;\n",
       "            color:  #000000;\n",
       "        }    #T_95b41258_4f70_11e9_9522_48e244f5c91erow7_col1 {\n",
       "            background-color:  #7a9df8;\n",
       "            color:  #000000;\n",
       "        }    #T_95b41258_4f70_11e9_9522_48e244f5c91erow7_col2 {\n",
       "            background-color:  #e0dbd8;\n",
       "            color:  #000000;\n",
       "        }    #T_95b41258_4f70_11e9_9522_48e244f5c91erow7_col3 {\n",
       "            background-color:  #9ebeff;\n",
       "            color:  #000000;\n",
       "        }    #T_95b41258_4f70_11e9_9522_48e244f5c91erow7_col4 {\n",
       "            background-color:  #e4d9d2;\n",
       "            color:  #000000;\n",
       "        }    #T_95b41258_4f70_11e9_9522_48e244f5c91erow7_col5 {\n",
       "            background-color:  #82a6fb;\n",
       "            color:  #000000;\n",
       "        }    #T_95b41258_4f70_11e9_9522_48e244f5c91erow7_col6 {\n",
       "            background-color:  #3b4cc0;\n",
       "            color:  #f1f1f1;\n",
       "        }    #T_95b41258_4f70_11e9_9522_48e244f5c91erow7_col7 {\n",
       "            background-color:  #b40426;\n",
       "            color:  #f1f1f1;\n",
       "        }    #T_95b41258_4f70_11e9_9522_48e244f5c91erow7_col8 {\n",
       "            background-color:  #86a9fc;\n",
       "            color:  #000000;\n",
       "        }    #T_95b41258_4f70_11e9_9522_48e244f5c91erow7_col9 {\n",
       "            background-color:  #cbd8ee;\n",
       "            color:  #000000;\n",
       "        }    #T_95b41258_4f70_11e9_9522_48e244f5c91erow7_col10 {\n",
       "            background-color:  #c3d5f4;\n",
       "            color:  #000000;\n",
       "        }    #T_95b41258_4f70_11e9_9522_48e244f5c91erow7_col11 {\n",
       "            background-color:  #b7cff9;\n",
       "            color:  #000000;\n",
       "        }    #T_95b41258_4f70_11e9_9522_48e244f5c91erow7_col12 {\n",
       "            background-color:  #8caffe;\n",
       "            color:  #000000;\n",
       "        }    #T_95b41258_4f70_11e9_9522_48e244f5c91erow7_col13 {\n",
       "            background-color:  #5673e0;\n",
       "            color:  #000000;\n",
       "        }    #T_95b41258_4f70_11e9_9522_48e244f5c91erow8_col0 {\n",
       "            background-color:  #b2ccfb;\n",
       "            color:  #000000;\n",
       "        }    #T_95b41258_4f70_11e9_9522_48e244f5c91erow8_col1 {\n",
       "            background-color:  #dcdddd;\n",
       "            color:  #000000;\n",
       "        }    #T_95b41258_4f70_11e9_9522_48e244f5c91erow8_col2 {\n",
       "            background-color:  #dfdbd9;\n",
       "            color:  #000000;\n",
       "        }    #T_95b41258_4f70_11e9_9522_48e244f5c91erow8_col3 {\n",
       "            background-color:  #8db0fe;\n",
       "            color:  #000000;\n",
       "        }    #T_95b41258_4f70_11e9_9522_48e244f5c91erow8_col4 {\n",
       "            background-color:  #97b8ff;\n",
       "            color:  #000000;\n",
       "        }    #T_95b41258_4f70_11e9_9522_48e244f5c91erow8_col5 {\n",
       "            background-color:  #80a3fa;\n",
       "            color:  #000000;\n",
       "        }    #T_95b41258_4f70_11e9_9522_48e244f5c91erow8_col6 {\n",
       "            background-color:  #6c8ff1;\n",
       "            color:  #000000;\n",
       "        }    #T_95b41258_4f70_11e9_9522_48e244f5c91erow8_col7 {\n",
       "            background-color:  #b2ccfb;\n",
       "            color:  #000000;\n",
       "        }    #T_95b41258_4f70_11e9_9522_48e244f5c91erow8_col8 {\n",
       "            background-color:  #b40426;\n",
       "            color:  #f1f1f1;\n",
       "        }    #T_95b41258_4f70_11e9_9522_48e244f5c91erow8_col9 {\n",
       "            background-color:  #c9d7f0;\n",
       "            color:  #000000;\n",
       "        }    #T_95b41258_4f70_11e9_9522_48e244f5c91erow8_col10 {\n",
       "            background-color:  #d9dce1;\n",
       "            color:  #000000;\n",
       "        }    #T_95b41258_4f70_11e9_9522_48e244f5c91erow8_col11 {\n",
       "            background-color:  #93b5fe;\n",
       "            color:  #000000;\n",
       "        }    #T_95b41258_4f70_11e9_9522_48e244f5c91erow8_col12 {\n",
       "            background-color:  #97b8ff;\n",
       "            color:  #000000;\n",
       "        }    #T_95b41258_4f70_11e9_9522_48e244f5c91erow8_col13 {\n",
       "            background-color:  #5e7de7;\n",
       "            color:  #000000;\n",
       "        }    #T_95b41258_4f70_11e9_9522_48e244f5c91erow9_col0 {\n",
       "            background-color:  #3b4cc0;\n",
       "            color:  #f1f1f1;\n",
       "        }    #T_95b41258_4f70_11e9_9522_48e244f5c91erow9_col1 {\n",
       "            background-color:  #c7d7f0;\n",
       "            color:  #000000;\n",
       "        }    #T_95b41258_4f70_11e9_9522_48e244f5c91erow9_col2 {\n",
       "            background-color:  #3b4cc0;\n",
       "            color:  #f1f1f1;\n",
       "        }    #T_95b41258_4f70_11e9_9522_48e244f5c91erow9_col3 {\n",
       "            background-color:  #d4dbe6;\n",
       "            color:  #000000;\n",
       "        }    #T_95b41258_4f70_11e9_9522_48e244f5c91erow9_col4 {\n",
       "            background-color:  #89acfd;\n",
       "            color:  #000000;\n",
       "        }    #T_95b41258_4f70_11e9_9522_48e244f5c91erow9_col5 {\n",
       "            background-color:  #3b4cc0;\n",
       "            color:  #f1f1f1;\n",
       "        }    #T_95b41258_4f70_11e9_9522_48e244f5c91erow9_col6 {\n",
       "            background-color:  #dcdddd;\n",
       "            color:  #000000;\n",
       "        }    #T_95b41258_4f70_11e9_9522_48e244f5c91erow9_col7 {\n",
       "            background-color:  #c1d4f4;\n",
       "            color:  #000000;\n",
       "        }    #T_95b41258_4f70_11e9_9522_48e244f5c91erow9_col8 {\n",
       "            background-color:  #97b8ff;\n",
       "            color:  #000000;\n",
       "        }    #T_95b41258_4f70_11e9_9522_48e244f5c91erow9_col9 {\n",
       "            background-color:  #b40426;\n",
       "            color:  #f1f1f1;\n",
       "        }    #T_95b41258_4f70_11e9_9522_48e244f5c91erow9_col10 {\n",
       "            background-color:  #3b4cc0;\n",
       "            color:  #f1f1f1;\n",
       "        }    #T_95b41258_4f70_11e9_9522_48e244f5c91erow9_col11 {\n",
       "            background-color:  #3b4cc0;\n",
       "            color:  #f1f1f1;\n",
       "        }    #T_95b41258_4f70_11e9_9522_48e244f5c91erow9_col12 {\n",
       "            background-color:  #5470de;\n",
       "            color:  #000000;\n",
       "        }    #T_95b41258_4f70_11e9_9522_48e244f5c91erow9_col13 {\n",
       "            background-color:  #3b4cc0;\n",
       "            color:  #f1f1f1;\n",
       "        }    #T_95b41258_4f70_11e9_9522_48e244f5c91erow10_col0 {\n",
       "            background-color:  #edd1c2;\n",
       "            color:  #000000;\n",
       "        }    #T_95b41258_4f70_11e9_9522_48e244f5c91erow10_col1 {\n",
       "            background-color:  #aec9fc;\n",
       "            color:  #000000;\n",
       "        }    #T_95b41258_4f70_11e9_9522_48e244f5c91erow10_col2 {\n",
       "            background-color:  #e67259;\n",
       "            color:  #000000;\n",
       "        }    #T_95b41258_4f70_11e9_9522_48e244f5c91erow10_col3 {\n",
       "            background-color:  #4a63d3;\n",
       "            color:  #f1f1f1;\n",
       "        }    #T_95b41258_4f70_11e9_9522_48e244f5c91erow10_col4 {\n",
       "            background-color:  #cad8ef;\n",
       "            color:  #000000;\n",
       "        }    #T_95b41258_4f70_11e9_9522_48e244f5c91erow10_col5 {\n",
       "            background-color:  #aac7fd;\n",
       "            color:  #000000;\n",
       "        }    #T_95b41258_4f70_11e9_9522_48e244f5c91erow10_col6 {\n",
       "            background-color:  #b3cdfb;\n",
       "            color:  #000000;\n",
       "        }    #T_95b41258_4f70_11e9_9522_48e244f5c91erow10_col7 {\n",
       "            background-color:  #d3dbe7;\n",
       "            color:  #000000;\n",
       "        }    #T_95b41258_4f70_11e9_9522_48e244f5c91erow10_col8 {\n",
       "            background-color:  #cdd9ec;\n",
       "            color:  #000000;\n",
       "        }    #T_95b41258_4f70_11e9_9522_48e244f5c91erow10_col9 {\n",
       "            background-color:  #6788ee;\n",
       "            color:  #000000;\n",
       "        }    #T_95b41258_4f70_11e9_9522_48e244f5c91erow10_col10 {\n",
       "            background-color:  #b40426;\n",
       "            color:  #f1f1f1;\n",
       "        }    #T_95b41258_4f70_11e9_9522_48e244f5c91erow10_col11 {\n",
       "            background-color:  #779af7;\n",
       "            color:  #000000;\n",
       "        }    #T_95b41258_4f70_11e9_9522_48e244f5c91erow10_col12 {\n",
       "            background-color:  #799cf8;\n",
       "            color:  #000000;\n",
       "        }    #T_95b41258_4f70_11e9_9522_48e244f5c91erow10_col13 {\n",
       "            background-color:  #4e68d8;\n",
       "            color:  #000000;\n",
       "        }    #T_95b41258_4f70_11e9_9522_48e244f5c91erow11_col0 {\n",
       "            background-color:  #eed0c0;\n",
       "            color:  #000000;\n",
       "        }    #T_95b41258_4f70_11e9_9522_48e244f5c91erow11_col1 {\n",
       "            background-color:  #8db0fe;\n",
       "            color:  #000000;\n",
       "        }    #T_95b41258_4f70_11e9_9522_48e244f5c91erow11_col2 {\n",
       "            background-color:  #f39475;\n",
       "            color:  #000000;\n",
       "        }    #T_95b41258_4f70_11e9_9522_48e244f5c91erow11_col3 {\n",
       "            background-color:  #c0d4f5;\n",
       "            color:  #000000;\n",
       "        }    #T_95b41258_4f70_11e9_9522_48e244f5c91erow11_col4 {\n",
       "            background-color:  #c7d7f0;\n",
       "            color:  #000000;\n",
       "        }    #T_95b41258_4f70_11e9_9522_48e244f5c91erow11_col5 {\n",
       "            background-color:  #b6cefa;\n",
       "            color:  #000000;\n",
       "        }    #T_95b41258_4f70_11e9_9522_48e244f5c91erow11_col6 {\n",
       "            background-color:  #ccd9ed;\n",
       "            color:  #000000;\n",
       "        }    #T_95b41258_4f70_11e9_9522_48e244f5c91erow11_col7 {\n",
       "            background-color:  #d6dce4;\n",
       "            color:  #000000;\n",
       "        }    #T_95b41258_4f70_11e9_9522_48e244f5c91erow11_col8 {\n",
       "            background-color:  #94b6ff;\n",
       "            color:  #000000;\n",
       "        }    #T_95b41258_4f70_11e9_9522_48e244f5c91erow11_col9 {\n",
       "            background-color:  #7ea1fa;\n",
       "            color:  #000000;\n",
       "        }    #T_95b41258_4f70_11e9_9522_48e244f5c91erow11_col10 {\n",
       "            background-color:  #8db0fe;\n",
       "            color:  #000000;\n",
       "        }    #T_95b41258_4f70_11e9_9522_48e244f5c91erow11_col11 {\n",
       "            background-color:  #b40426;\n",
       "            color:  #f1f1f1;\n",
       "        }    #T_95b41258_4f70_11e9_9522_48e244f5c91erow11_col12 {\n",
       "            background-color:  #7ea1fa;\n",
       "            color:  #000000;\n",
       "        }    #T_95b41258_4f70_11e9_9522_48e244f5c91erow11_col13 {\n",
       "            background-color:  #506bda;\n",
       "            color:  #000000;\n",
       "        }    #T_95b41258_4f70_11e9_9522_48e244f5c91erow12_col0 {\n",
       "            background-color:  #c3d5f4;\n",
       "            color:  #000000;\n",
       "        }    #T_95b41258_4f70_11e9_9522_48e244f5c91erow12_col1 {\n",
       "            background-color:  #c3d5f4;\n",
       "            color:  #000000;\n",
       "        }    #T_95b41258_4f70_11e9_9522_48e244f5c91erow12_col2 {\n",
       "            background-color:  #bbd1f8;\n",
       "            color:  #000000;\n",
       "        }    #T_95b41258_4f70_11e9_9522_48e244f5c91erow12_col3 {\n",
       "            background-color:  #3b4cc0;\n",
       "            color:  #f1f1f1;\n",
       "        }    #T_95b41258_4f70_11e9_9522_48e244f5c91erow12_col4 {\n",
       "            background-color:  #b3cdfb;\n",
       "            color:  #000000;\n",
       "        }    #T_95b41258_4f70_11e9_9522_48e244f5c91erow12_col5 {\n",
       "            background-color:  #e5d8d1;\n",
       "            color:  #000000;\n",
       "        }    #T_95b41258_4f70_11e9_9522_48e244f5c91erow12_col6 {\n",
       "            background-color:  #cfdaea;\n",
       "            color:  #000000;\n",
       "        }    #T_95b41258_4f70_11e9_9522_48e244f5c91erow12_col7 {\n",
       "            background-color:  #c6d6f1;\n",
       "            color:  #000000;\n",
       "        }    #T_95b41258_4f70_11e9_9522_48e244f5c91erow12_col8 {\n",
       "            background-color:  #adc9fd;\n",
       "            color:  #000000;\n",
       "        }    #T_95b41258_4f70_11e9_9522_48e244f5c91erow12_col9 {\n",
       "            background-color:  #a9c6fd;\n",
       "            color:  #000000;\n",
       "        }    #T_95b41258_4f70_11e9_9522_48e244f5c91erow12_col10 {\n",
       "            background-color:  #a3c2fe;\n",
       "            color:  #000000;\n",
       "        }    #T_95b41258_4f70_11e9_9522_48e244f5c91erow12_col11 {\n",
       "            background-color:  #94b6ff;\n",
       "            color:  #000000;\n",
       "        }    #T_95b41258_4f70_11e9_9522_48e244f5c91erow12_col12 {\n",
       "            background-color:  #b40426;\n",
       "            color:  #f1f1f1;\n",
       "        }    #T_95b41258_4f70_11e9_9522_48e244f5c91erow12_col13 {\n",
       "            background-color:  #5572df;\n",
       "            color:  #000000;\n",
       "        }    #T_95b41258_4f70_11e9_9522_48e244f5c91erow13_col0 {\n",
       "            background-color:  #a5c3fe;\n",
       "            color:  #000000;\n",
       "        }    #T_95b41258_4f70_11e9_9522_48e244f5c91erow13_col1 {\n",
       "            background-color:  #9fbfff;\n",
       "            color:  #000000;\n",
       "        }    #T_95b41258_4f70_11e9_9522_48e244f5c91erow13_col2 {\n",
       "            background-color:  #cad8ef;\n",
       "            color:  #000000;\n",
       "        }    #T_95b41258_4f70_11e9_9522_48e244f5c91erow13_col3 {\n",
       "            background-color:  #aec9fc;\n",
       "            color:  #000000;\n",
       "        }    #T_95b41258_4f70_11e9_9522_48e244f5c91erow13_col4 {\n",
       "            background-color:  #abc8fd;\n",
       "            color:  #000000;\n",
       "        }    #T_95b41258_4f70_11e9_9522_48e244f5c91erow13_col5 {\n",
       "            background-color:  #84a7fc;\n",
       "            color:  #000000;\n",
       "        }    #T_95b41258_4f70_11e9_9522_48e244f5c91erow13_col6 {\n",
       "            background-color:  #cedaeb;\n",
       "            color:  #000000;\n",
       "        }    #T_95b41258_4f70_11e9_9522_48e244f5c91erow13_col7 {\n",
       "            background-color:  #c9d7f0;\n",
       "            color:  #000000;\n",
       "        }    #T_95b41258_4f70_11e9_9522_48e244f5c91erow13_col8 {\n",
       "            background-color:  #abc8fd;\n",
       "            color:  #000000;\n",
       "        }    #T_95b41258_4f70_11e9_9522_48e244f5c91erow13_col9 {\n",
       "            background-color:  #c1d4f4;\n",
       "            color:  #000000;\n",
       "        }    #T_95b41258_4f70_11e9_9522_48e244f5c91erow13_col10 {\n",
       "            background-color:  #afcafc;\n",
       "            color:  #000000;\n",
       "        }    #T_95b41258_4f70_11e9_9522_48e244f5c91erow13_col11 {\n",
       "            background-color:  #9fbfff;\n",
       "            color:  #000000;\n",
       "        }    #T_95b41258_4f70_11e9_9522_48e244f5c91erow13_col12 {\n",
       "            background-color:  #8fb1fe;\n",
       "            color:  #000000;\n",
       "        }    #T_95b41258_4f70_11e9_9522_48e244f5c91erow13_col13 {\n",
       "            background-color:  #b40426;\n",
       "            color:  #f1f1f1;\n",
       "        }</style><table id=\"T_95b41258_4f70_11e9_9522_48e244f5c91e\" ><thead>    <tr>        <th class=\"blank level0\" ></th>        <th class=\"col_heading level0 col0\" >Survived</th>        <th class=\"col_heading level0 col1\" >Pclass</th>        <th class=\"col_heading level0 col2\" >Sex</th>        <th class=\"col_heading level0 col3\" >Age</th>        <th class=\"col_heading level0 col4\" >Fare</th>        <th class=\"col_heading level0 col5\" >FamilySize</th>        <th class=\"col_heading level0 col6\" >Embarked_0</th>        <th class=\"col_heading level0 col7\" >Embarked_1</th>        <th class=\"col_heading level0 col8\" >Embarked_2</th>        <th class=\"col_heading level0 col9\" >Title_0</th>        <th class=\"col_heading level0 col10\" >Title_1</th>        <th class=\"col_heading level0 col11\" >Title_2</th>        <th class=\"col_heading level0 col12\" >Title_3</th>        <th class=\"col_heading level0 col13\" >Title_4</th>    </tr></thead><tbody>\n",
       "                <tr>\n",
       "                        <th id=\"T_95b41258_4f70_11e9_9522_48e244f5c91elevel0_row0\" class=\"row_heading level0 row0\" >Survived</th>\n",
       "                        <td id=\"T_95b41258_4f70_11e9_9522_48e244f5c91erow0_col0\" class=\"data row0 col0\" >1</td>\n",
       "                        <td id=\"T_95b41258_4f70_11e9_9522_48e244f5c91erow0_col1\" class=\"data row0 col1\" >-0.338</td>\n",
       "                        <td id=\"T_95b41258_4f70_11e9_9522_48e244f5c91erow0_col2\" class=\"data row0 col2\" >0.543</td>\n",
       "                        <td id=\"T_95b41258_4f70_11e9_9522_48e244f5c91erow0_col3\" class=\"data row0 col3\" >-0.091</td>\n",
       "                        <td id=\"T_95b41258_4f70_11e9_9522_48e244f5c91erow0_col4\" class=\"data row0 col4\" >0.257</td>\n",
       "                        <td id=\"T_95b41258_4f70_11e9_9522_48e244f5c91erow0_col5\" class=\"data row0 col5\" >0.0166</td>\n",
       "                        <td id=\"T_95b41258_4f70_11e9_9522_48e244f5c91erow0_col6\" class=\"data row0 col6\" >-0.15</td>\n",
       "                        <td id=\"T_95b41258_4f70_11e9_9522_48e244f5c91erow0_col7\" class=\"data row0 col7\" >0.168</td>\n",
       "                        <td id=\"T_95b41258_4f70_11e9_9522_48e244f5c91erow0_col8\" class=\"data row0 col8\" >0.00365</td>\n",
       "                        <td id=\"T_95b41258_4f70_11e9_9522_48e244f5c91erow0_col9\" class=\"data row0 col9\" >-0.55</td>\n",
       "                        <td id=\"T_95b41258_4f70_11e9_9522_48e244f5c91erow0_col10\" class=\"data row0 col10\" >0.338</td>\n",
       "                        <td id=\"T_95b41258_4f70_11e9_9522_48e244f5c91erow0_col11\" class=\"data row0 col11\" >0.345</td>\n",
       "                        <td id=\"T_95b41258_4f70_11e9_9522_48e244f5c91erow0_col12\" class=\"data row0 col12\" >0.0852</td>\n",
       "                        <td id=\"T_95b41258_4f70_11e9_9522_48e244f5c91erow0_col13\" class=\"data row0 col13\" >-0.0566</td>\n",
       "            </tr>\n",
       "            <tr>\n",
       "                        <th id=\"T_95b41258_4f70_11e9_9522_48e244f5c91elevel0_row1\" class=\"row_heading level0 row1\" >Pclass</th>\n",
       "                        <td id=\"T_95b41258_4f70_11e9_9522_48e244f5c91erow1_col0\" class=\"data row1 col0\" >-0.338</td>\n",
       "                        <td id=\"T_95b41258_4f70_11e9_9522_48e244f5c91erow1_col1\" class=\"data row1 col1\" >1</td>\n",
       "                        <td id=\"T_95b41258_4f70_11e9_9522_48e244f5c91erow1_col2\" class=\"data row1 col2\" >-0.132</td>\n",
       "                        <td id=\"T_95b41258_4f70_11e9_9522_48e244f5c91erow1_col3\" class=\"data row1 col3\" >-0.32</td>\n",
       "                        <td id=\"T_95b41258_4f70_11e9_9522_48e244f5c91erow1_col4\" class=\"data row1 col4\" >-0.549</td>\n",
       "                        <td id=\"T_95b41258_4f70_11e9_9522_48e244f5c91erow1_col5\" class=\"data row1 col5\" >0.066</td>\n",
       "                        <td id=\"T_95b41258_4f70_11e9_9522_48e244f5c91erow1_col6\" class=\"data row1 col6\" >0.0741</td>\n",
       "                        <td id=\"T_95b41258_4f70_11e9_9522_48e244f5c91erow1_col7\" class=\"data row1 col7\" >-0.243</td>\n",
       "                        <td id=\"T_95b41258_4f70_11e9_9522_48e244f5c91erow1_col8\" class=\"data row1 col8\" >0.221</td>\n",
       "                        <td id=\"T_95b41258_4f70_11e9_9522_48e244f5c91erow1_col9\" class=\"data row1 col9\" >0.106</td>\n",
       "                        <td id=\"T_95b41258_4f70_11e9_9522_48e244f5c91erow1_col10\" class=\"data row1 col10\" >-0.0146</td>\n",
       "                        <td id=\"T_95b41258_4f70_11e9_9522_48e244f5c91erow1_col11\" class=\"data row1 col11\" >-0.158</td>\n",
       "                        <td id=\"T_95b41258_4f70_11e9_9522_48e244f5c91erow1_col12\" class=\"data row1 col12\" >0.0821</td>\n",
       "                        <td id=\"T_95b41258_4f70_11e9_9522_48e244f5c91erow1_col13\" class=\"data row1 col13\" >-0.0776</td>\n",
       "            </tr>\n",
       "            <tr>\n",
       "                        <th id=\"T_95b41258_4f70_11e9_9522_48e244f5c91elevel0_row2\" class=\"row_heading level0 row2\" >Sex</th>\n",
       "                        <td id=\"T_95b41258_4f70_11e9_9522_48e244f5c91erow2_col0\" class=\"data row2 col0\" >0.543</td>\n",
       "                        <td id=\"T_95b41258_4f70_11e9_9522_48e244f5c91erow2_col1\" class=\"data row2 col1\" >-0.132</td>\n",
       "                        <td id=\"T_95b41258_4f70_11e9_9522_48e244f5c91erow2_col2\" class=\"data row2 col2\" >1</td>\n",
       "                        <td id=\"T_95b41258_4f70_11e9_9522_48e244f5c91erow2_col3\" class=\"data row2 col3\" >-0.13</td>\n",
       "                        <td id=\"T_95b41258_4f70_11e9_9522_48e244f5c91erow2_col4\" class=\"data row2 col4\" >0.182</td>\n",
       "                        <td id=\"T_95b41258_4f70_11e9_9522_48e244f5c91erow2_col5\" class=\"data row2 col5\" >0.201</td>\n",
       "                        <td id=\"T_95b41258_4f70_11e9_9522_48e244f5c91erow2_col6\" class=\"data row2 col6\" >-0.119</td>\n",
       "                        <td id=\"T_95b41258_4f70_11e9_9522_48e244f5c91erow2_col7\" class=\"data row2 col7\" >0.0829</td>\n",
       "                        <td id=\"T_95b41258_4f70_11e9_9522_48e244f5c91erow2_col8\" class=\"data row2 col8\" >0.0741</td>\n",
       "                        <td id=\"T_95b41258_4f70_11e9_9522_48e244f5c91erow2_col9\" class=\"data row2 col9\" >-0.887</td>\n",
       "                        <td id=\"T_95b41258_4f70_11e9_9522_48e244f5c91erow2_col10\" class=\"data row2 col10\" >0.696</td>\n",
       "                        <td id=\"T_95b41258_4f70_11e9_9522_48e244f5c91erow2_col11\" class=\"data row2 col11\" >0.553</td>\n",
       "                        <td id=\"T_95b41258_4f70_11e9_9522_48e244f5c91erow2_col12\" class=\"data row2 col12\" >-0.16</td>\n",
       "                        <td id=\"T_95b41258_4f70_11e9_9522_48e244f5c91erow2_col13\" class=\"data row2 col13\" >-0.0745</td>\n",
       "            </tr>\n",
       "            <tr>\n",
       "                        <th id=\"T_95b41258_4f70_11e9_9522_48e244f5c91elevel0_row3\" class=\"row_heading level0 row3\" >Age</th>\n",
       "                        <td id=\"T_95b41258_4f70_11e9_9522_48e244f5c91erow3_col0\" class=\"data row3 col0\" >-0.091</td>\n",
       "                        <td id=\"T_95b41258_4f70_11e9_9522_48e244f5c91erow3_col1\" class=\"data row3 col1\" >-0.32</td>\n",
       "                        <td id=\"T_95b41258_4f70_11e9_9522_48e244f5c91erow3_col2\" class=\"data row3 col2\" >-0.13</td>\n",
       "                        <td id=\"T_95b41258_4f70_11e9_9522_48e244f5c91erow3_col3\" class=\"data row3 col3\" >1</td>\n",
       "                        <td id=\"T_95b41258_4f70_11e9_9522_48e244f5c91erow3_col4\" class=\"data row3 col4\" >0.083</td>\n",
       "                        <td id=\"T_95b41258_4f70_11e9_9522_48e244f5c91erow3_col5\" class=\"data row3 col5\" >-0.267</td>\n",
       "                        <td id=\"T_95b41258_4f70_11e9_9522_48e244f5c91erow3_col6\" class=\"data row3 col6\" >-0.0111</td>\n",
       "                        <td id=\"T_95b41258_4f70_11e9_9522_48e244f5c91erow3_col7\" class=\"data row3 col7\" >0.0327</td>\n",
       "                        <td id=\"T_95b41258_4f70_11e9_9522_48e244f5c91erow3_col8\" class=\"data row3 col8\" >-0.0279</td>\n",
       "                        <td id=\"T_95b41258_4f70_11e9_9522_48e244f5c91erow3_col9\" class=\"data row3 col9\" >0.268</td>\n",
       "                        <td id=\"T_95b41258_4f70_11e9_9522_48e244f5c91erow3_col10\" class=\"data row3 col10\" >-0.306</td>\n",
       "                        <td id=\"T_95b41258_4f70_11e9_9522_48e244f5c91erow3_col11\" class=\"data row3 col11\" >0.174</td>\n",
       "                        <td id=\"T_95b41258_4f70_11e9_9522_48e244f5c91erow3_col12\" class=\"data row3 col12\" >-0.377</td>\n",
       "                        <td id=\"T_95b41258_4f70_11e9_9522_48e244f5c91erow3_col13\" class=\"data row3 col13\" >0.0973</td>\n",
       "            </tr>\n",
       "            <tr>\n",
       "                        <th id=\"T_95b41258_4f70_11e9_9522_48e244f5c91elevel0_row4\" class=\"row_heading level0 row4\" >Fare</th>\n",
       "                        <td id=\"T_95b41258_4f70_11e9_9522_48e244f5c91erow4_col0\" class=\"data row4 col0\" >0.257</td>\n",
       "                        <td id=\"T_95b41258_4f70_11e9_9522_48e244f5c91erow4_col1\" class=\"data row4 col1\" >-0.549</td>\n",
       "                        <td id=\"T_95b41258_4f70_11e9_9522_48e244f5c91erow4_col2\" class=\"data row4 col2\" >0.182</td>\n",
       "                        <td id=\"T_95b41258_4f70_11e9_9522_48e244f5c91erow4_col3\" class=\"data row4 col3\" >0.083</td>\n",
       "                        <td id=\"T_95b41258_4f70_11e9_9522_48e244f5c91erow4_col4\" class=\"data row4 col4\" >1</td>\n",
       "                        <td id=\"T_95b41258_4f70_11e9_9522_48e244f5c91erow4_col5\" class=\"data row4 col5\" >0.217</td>\n",
       "                        <td id=\"T_95b41258_4f70_11e9_9522_48e244f5c91erow4_col6\" class=\"data row4 col6\" >-0.162</td>\n",
       "                        <td id=\"T_95b41258_4f70_11e9_9522_48e244f5c91erow4_col7\" class=\"data row4 col7\" >0.269</td>\n",
       "                        <td id=\"T_95b41258_4f70_11e9_9522_48e244f5c91erow4_col8\" class=\"data row4 col8\" >-0.117</td>\n",
       "                        <td id=\"T_95b41258_4f70_11e9_9522_48e244f5c91erow4_col9\" class=\"data row4 col9\" >-0.177</td>\n",
       "                        <td id=\"T_95b41258_4f70_11e9_9522_48e244f5c91erow4_col10\" class=\"data row4 col10\" >0.121</td>\n",
       "                        <td id=\"T_95b41258_4f70_11e9_9522_48e244f5c91erow4_col11\" class=\"data row4 col11\" >0.108</td>\n",
       "                        <td id=\"T_95b41258_4f70_11e9_9522_48e244f5c91erow4_col12\" class=\"data row4 col12\" >0.0109</td>\n",
       "                        <td id=\"T_95b41258_4f70_11e9_9522_48e244f5c91erow4_col13\" class=\"data row4 col13\" >-0.0266</td>\n",
       "            </tr>\n",
       "            <tr>\n",
       "                        <th id=\"T_95b41258_4f70_11e9_9522_48e244f5c91elevel0_row5\" class=\"row_heading level0 row5\" >FamilySize</th>\n",
       "                        <td id=\"T_95b41258_4f70_11e9_9522_48e244f5c91erow5_col0\" class=\"data row5 col0\" >0.0166</td>\n",
       "                        <td id=\"T_95b41258_4f70_11e9_9522_48e244f5c91erow5_col1\" class=\"data row5 col1\" >0.066</td>\n",
       "                        <td id=\"T_95b41258_4f70_11e9_9522_48e244f5c91erow5_col2\" class=\"data row5 col2\" >0.201</td>\n",
       "                        <td id=\"T_95b41258_4f70_11e9_9522_48e244f5c91erow5_col3\" class=\"data row5 col3\" >-0.267</td>\n",
       "                        <td id=\"T_95b41258_4f70_11e9_9522_48e244f5c91erow5_col4\" class=\"data row5 col4\" >0.217</td>\n",
       "                        <td id=\"T_95b41258_4f70_11e9_9522_48e244f5c91erow5_col5\" class=\"data row5 col5\" >1</td>\n",
       "                        <td id=\"T_95b41258_4f70_11e9_9522_48e244f5c91erow5_col6\" class=\"data row5 col6\" >0.0774</td>\n",
       "                        <td id=\"T_95b41258_4f70_11e9_9522_48e244f5c91erow5_col7\" class=\"data row5 col7\" >-0.0462</td>\n",
       "                        <td id=\"T_95b41258_4f70_11e9_9522_48e244f5c91erow5_col8\" class=\"data row5 col8\" >-0.0586</td>\n",
       "                        <td id=\"T_95b41258_4f70_11e9_9522_48e244f5c91erow5_col9\" class=\"data row5 col9\" >-0.345</td>\n",
       "                        <td id=\"T_95b41258_4f70_11e9_9522_48e244f5c91erow5_col10\" class=\"data row5 col10\" >0.106</td>\n",
       "                        <td id=\"T_95b41258_4f70_11e9_9522_48e244f5c91erow5_col11\" class=\"data row5 col11\" >0.154</td>\n",
       "                        <td id=\"T_95b41258_4f70_11e9_9522_48e244f5c91erow5_col12\" class=\"data row5 col12\" >0.372</td>\n",
       "                        <td id=\"T_95b41258_4f70_11e9_9522_48e244f5c91erow5_col13\" class=\"data row5 col13\" >-0.0427</td>\n",
       "            </tr>\n",
       "            <tr>\n",
       "                        <th id=\"T_95b41258_4f70_11e9_9522_48e244f5c91elevel0_row6\" class=\"row_heading level0 row6\" >Embarked_0</th>\n",
       "                        <td id=\"T_95b41258_4f70_11e9_9522_48e244f5c91erow6_col0\" class=\"data row6 col0\" >-0.15</td>\n",
       "                        <td id=\"T_95b41258_4f70_11e9_9522_48e244f5c91erow6_col1\" class=\"data row6 col1\" >0.0741</td>\n",
       "                        <td id=\"T_95b41258_4f70_11e9_9522_48e244f5c91erow6_col2\" class=\"data row6 col2\" >-0.119</td>\n",
       "                        <td id=\"T_95b41258_4f70_11e9_9522_48e244f5c91erow6_col3\" class=\"data row6 col3\" >-0.0111</td>\n",
       "                        <td id=\"T_95b41258_4f70_11e9_9522_48e244f5c91erow6_col4\" class=\"data row6 col4\" >-0.162</td>\n",
       "                        <td id=\"T_95b41258_4f70_11e9_9522_48e244f5c91erow6_col5\" class=\"data row6 col5\" >0.0774</td>\n",
       "                        <td id=\"T_95b41258_4f70_11e9_9522_48e244f5c91erow6_col6\" class=\"data row6 col6\" >1</td>\n",
       "                        <td id=\"T_95b41258_4f70_11e9_9522_48e244f5c91erow6_col7\" class=\"data row6 col7\" >-0.783</td>\n",
       "                        <td id=\"T_95b41258_4f70_11e9_9522_48e244f5c91erow6_col8\" class=\"data row6 col8\" >-0.499</td>\n",
       "                        <td id=\"T_95b41258_4f70_11e9_9522_48e244f5c91erow6_col9\" class=\"data row6 col9\" >0.105</td>\n",
       "                        <td id=\"T_95b41258_4f70_11e9_9522_48e244f5c91erow6_col10\" class=\"data row6 col10\" >-0.141</td>\n",
       "                        <td id=\"T_95b41258_4f70_11e9_9522_48e244f5c91erow6_col11\" class=\"data row6 col11\" >-0.000565</td>\n",
       "                        <td id=\"T_95b41258_4f70_11e9_9522_48e244f5c91erow6_col12\" class=\"data row6 col12\" >0.0243</td>\n",
       "                        <td id=\"T_95b41258_4f70_11e9_9522_48e244f5c91erow6_col13\" class=\"data row6 col13\" >0.0119</td>\n",
       "            </tr>\n",
       "            <tr>\n",
       "                        <th id=\"T_95b41258_4f70_11e9_9522_48e244f5c91elevel0_row7\" class=\"row_heading level0 row7\" >Embarked_1</th>\n",
       "                        <td id=\"T_95b41258_4f70_11e9_9522_48e244f5c91erow7_col0\" class=\"data row7 col0\" >0.168</td>\n",
       "                        <td id=\"T_95b41258_4f70_11e9_9522_48e244f5c91erow7_col1\" class=\"data row7 col1\" >-0.243</td>\n",
       "                        <td id=\"T_95b41258_4f70_11e9_9522_48e244f5c91erow7_col2\" class=\"data row7 col2\" >0.0829</td>\n",
       "                        <td id=\"T_95b41258_4f70_11e9_9522_48e244f5c91erow7_col3\" class=\"data row7 col3\" >0.0327</td>\n",
       "                        <td id=\"T_95b41258_4f70_11e9_9522_48e244f5c91erow7_col4\" class=\"data row7 col4\" >0.269</td>\n",
       "                        <td id=\"T_95b41258_4f70_11e9_9522_48e244f5c91erow7_col5\" class=\"data row7 col5\" >-0.0462</td>\n",
       "                        <td id=\"T_95b41258_4f70_11e9_9522_48e244f5c91erow7_col6\" class=\"data row7 col6\" >-0.783</td>\n",
       "                        <td id=\"T_95b41258_4f70_11e9_9522_48e244f5c91erow7_col7\" class=\"data row7 col7\" >1</td>\n",
       "                        <td id=\"T_95b41258_4f70_11e9_9522_48e244f5c91erow7_col8\" class=\"data row7 col8\" >-0.148</td>\n",
       "                        <td id=\"T_95b41258_4f70_11e9_9522_48e244f5c91erow7_col9\" class=\"data row7 col9\" >-0.0628</td>\n",
       "                        <td id=\"T_95b41258_4f70_11e9_9522_48e244f5c91erow7_col10\" class=\"data row7 col10\" >0.0419</td>\n",
       "                        <td id=\"T_95b41258_4f70_11e9_9522_48e244f5c91erow7_col11\" class=\"data row7 col11\" >0.0661</td>\n",
       "                        <td id=\"T_95b41258_4f70_11e9_9522_48e244f5c91erow7_col12\" class=\"data row7 col12\" >-0.0352</td>\n",
       "                        <td id=\"T_95b41258_4f70_11e9_9522_48e244f5c91erow7_col13\" class=\"data row7 col13\" >-0.02</td>\n",
       "            </tr>\n",
       "            <tr>\n",
       "                        <th id=\"T_95b41258_4f70_11e9_9522_48e244f5c91elevel0_row8\" class=\"row_heading level0 row8\" >Embarked_2</th>\n",
       "                        <td id=\"T_95b41258_4f70_11e9_9522_48e244f5c91erow8_col0\" class=\"data row8 col0\" >0.00365</td>\n",
       "                        <td id=\"T_95b41258_4f70_11e9_9522_48e244f5c91erow8_col1\" class=\"data row8 col1\" >0.221</td>\n",
       "                        <td id=\"T_95b41258_4f70_11e9_9522_48e244f5c91erow8_col2\" class=\"data row8 col2\" >0.0741</td>\n",
       "                        <td id=\"T_95b41258_4f70_11e9_9522_48e244f5c91erow8_col3\" class=\"data row8 col3\" >-0.0279</td>\n",
       "                        <td id=\"T_95b41258_4f70_11e9_9522_48e244f5c91erow8_col4\" class=\"data row8 col4\" >-0.117</td>\n",
       "                        <td id=\"T_95b41258_4f70_11e9_9522_48e244f5c91erow8_col5\" class=\"data row8 col5\" >-0.0586</td>\n",
       "                        <td id=\"T_95b41258_4f70_11e9_9522_48e244f5c91erow8_col6\" class=\"data row8 col6\" >-0.499</td>\n",
       "                        <td id=\"T_95b41258_4f70_11e9_9522_48e244f5c91erow8_col7\" class=\"data row8 col7\" >-0.148</td>\n",
       "                        <td id=\"T_95b41258_4f70_11e9_9522_48e244f5c91erow8_col8\" class=\"data row8 col8\" >1</td>\n",
       "                        <td id=\"T_95b41258_4f70_11e9_9522_48e244f5c91erow8_col9\" class=\"data row8 col9\" >-0.079</td>\n",
       "                        <td id=\"T_95b41258_4f70_11e9_9522_48e244f5c91erow8_col10\" class=\"data row8 col10\" >0.166</td>\n",
       "                        <td id=\"T_95b41258_4f70_11e9_9522_48e244f5c91erow8_col11\" class=\"data row8 col11\" >-0.0911</td>\n",
       "                        <td id=\"T_95b41258_4f70_11e9_9522_48e244f5c91erow8_col12\" class=\"data row8 col12\" >0.0105</td>\n",
       "                        <td id=\"T_95b41258_4f70_11e9_9522_48e244f5c91erow8_col13\" class=\"data row8 col13\" >0.00888</td>\n",
       "            </tr>\n",
       "            <tr>\n",
       "                        <th id=\"T_95b41258_4f70_11e9_9522_48e244f5c91elevel0_row9\" class=\"row_heading level0 row9\" >Title_0</th>\n",
       "                        <td id=\"T_95b41258_4f70_11e9_9522_48e244f5c91erow9_col0\" class=\"data row9 col0\" >-0.55</td>\n",
       "                        <td id=\"T_95b41258_4f70_11e9_9522_48e244f5c91erow9_col1\" class=\"data row9 col1\" >0.106</td>\n",
       "                        <td id=\"T_95b41258_4f70_11e9_9522_48e244f5c91erow9_col2\" class=\"data row9 col2\" >-0.887</td>\n",
       "                        <td id=\"T_95b41258_4f70_11e9_9522_48e244f5c91erow9_col3\" class=\"data row9 col3\" >0.268</td>\n",
       "                        <td id=\"T_95b41258_4f70_11e9_9522_48e244f5c91erow9_col4\" class=\"data row9 col4\" >-0.177</td>\n",
       "                        <td id=\"T_95b41258_4f70_11e9_9522_48e244f5c91erow9_col5\" class=\"data row9 col5\" >-0.345</td>\n",
       "                        <td id=\"T_95b41258_4f70_11e9_9522_48e244f5c91erow9_col6\" class=\"data row9 col6\" >0.105</td>\n",
       "                        <td id=\"T_95b41258_4f70_11e9_9522_48e244f5c91erow9_col7\" class=\"data row9 col7\" >-0.0628</td>\n",
       "                        <td id=\"T_95b41258_4f70_11e9_9522_48e244f5c91erow9_col8\" class=\"data row9 col8\" >-0.079</td>\n",
       "                        <td id=\"T_95b41258_4f70_11e9_9522_48e244f5c91erow9_col9\" class=\"data row9 col9\" >1</td>\n",
       "                        <td id=\"T_95b41258_4f70_11e9_9522_48e244f5c91erow9_col10\" class=\"data row9 col10\" >-0.621</td>\n",
       "                        <td id=\"T_95b41258_4f70_11e9_9522_48e244f5c91erow9_col11\" class=\"data row9 col11\" >-0.493</td>\n",
       "                        <td id=\"T_95b41258_4f70_11e9_9522_48e244f5c91erow9_col12\" class=\"data row9 col12\" >-0.262</td>\n",
       "                        <td id=\"T_95b41258_4f70_11e9_9522_48e244f5c91erow9_col13\" class=\"data row9 col13\" >-0.122</td>\n",
       "            </tr>\n",
       "            <tr>\n",
       "                        <th id=\"T_95b41258_4f70_11e9_9522_48e244f5c91elevel0_row10\" class=\"row_heading level0 row10\" >Title_1</th>\n",
       "                        <td id=\"T_95b41258_4f70_11e9_9522_48e244f5c91erow10_col0\" class=\"data row10 col0\" >0.338</td>\n",
       "                        <td id=\"T_95b41258_4f70_11e9_9522_48e244f5c91erow10_col1\" class=\"data row10 col1\" >-0.0146</td>\n",
       "                        <td id=\"T_95b41258_4f70_11e9_9522_48e244f5c91erow10_col2\" class=\"data row10 col2\" >0.696</td>\n",
       "                        <td id=\"T_95b41258_4f70_11e9_9522_48e244f5c91erow10_col3\" class=\"data row10 col3\" >-0.306</td>\n",
       "                        <td id=\"T_95b41258_4f70_11e9_9522_48e244f5c91erow10_col4\" class=\"data row10 col4\" >0.121</td>\n",
       "                        <td id=\"T_95b41258_4f70_11e9_9522_48e244f5c91erow10_col5\" class=\"data row10 col5\" >0.106</td>\n",
       "                        <td id=\"T_95b41258_4f70_11e9_9522_48e244f5c91erow10_col6\" class=\"data row10 col6\" >-0.141</td>\n",
       "                        <td id=\"T_95b41258_4f70_11e9_9522_48e244f5c91erow10_col7\" class=\"data row10 col7\" >0.0419</td>\n",
       "                        <td id=\"T_95b41258_4f70_11e9_9522_48e244f5c91erow10_col8\" class=\"data row10 col8\" >0.166</td>\n",
       "                        <td id=\"T_95b41258_4f70_11e9_9522_48e244f5c91erow10_col9\" class=\"data row10 col9\" >-0.621</td>\n",
       "                        <td id=\"T_95b41258_4f70_11e9_9522_48e244f5c91erow10_col10\" class=\"data row10 col10\" >1</td>\n",
       "                        <td id=\"T_95b41258_4f70_11e9_9522_48e244f5c91erow10_col11\" class=\"data row10 col11\" >-0.209</td>\n",
       "                        <td id=\"T_95b41258_4f70_11e9_9522_48e244f5c91erow10_col12\" class=\"data row10 col12\" >-0.111</td>\n",
       "                        <td id=\"T_95b41258_4f70_11e9_9522_48e244f5c91erow10_col13\" class=\"data row10 col13\" >-0.0519</td>\n",
       "            </tr>\n",
       "            <tr>\n",
       "                        <th id=\"T_95b41258_4f70_11e9_9522_48e244f5c91elevel0_row11\" class=\"row_heading level0 row11\" >Title_2</th>\n",
       "                        <td id=\"T_95b41258_4f70_11e9_9522_48e244f5c91erow11_col0\" class=\"data row11 col0\" >0.345</td>\n",
       "                        <td id=\"T_95b41258_4f70_11e9_9522_48e244f5c91erow11_col1\" class=\"data row11 col1\" >-0.158</td>\n",
       "                        <td id=\"T_95b41258_4f70_11e9_9522_48e244f5c91erow11_col2\" class=\"data row11 col2\" >0.553</td>\n",
       "                        <td id=\"T_95b41258_4f70_11e9_9522_48e244f5c91erow11_col3\" class=\"data row11 col3\" >0.174</td>\n",
       "                        <td id=\"T_95b41258_4f70_11e9_9522_48e244f5c91erow11_col4\" class=\"data row11 col4\" >0.108</td>\n",
       "                        <td id=\"T_95b41258_4f70_11e9_9522_48e244f5c91erow11_col5\" class=\"data row11 col5\" >0.154</td>\n",
       "                        <td id=\"T_95b41258_4f70_11e9_9522_48e244f5c91erow11_col6\" class=\"data row11 col6\" >-0.000565</td>\n",
       "                        <td id=\"T_95b41258_4f70_11e9_9522_48e244f5c91erow11_col7\" class=\"data row11 col7\" >0.0661</td>\n",
       "                        <td id=\"T_95b41258_4f70_11e9_9522_48e244f5c91erow11_col8\" class=\"data row11 col8\" >-0.0911</td>\n",
       "                        <td id=\"T_95b41258_4f70_11e9_9522_48e244f5c91erow11_col9\" class=\"data row11 col9\" >-0.493</td>\n",
       "                        <td id=\"T_95b41258_4f70_11e9_9522_48e244f5c91erow11_col10\" class=\"data row11 col10\" >-0.209</td>\n",
       "                        <td id=\"T_95b41258_4f70_11e9_9522_48e244f5c91erow11_col11\" class=\"data row11 col11\" >1</td>\n",
       "                        <td id=\"T_95b41258_4f70_11e9_9522_48e244f5c91erow11_col12\" class=\"data row11 col12\" >-0.0884</td>\n",
       "                        <td id=\"T_95b41258_4f70_11e9_9522_48e244f5c91erow11_col13\" class=\"data row11 col13\" >-0.0412</td>\n",
       "            </tr>\n",
       "            <tr>\n",
       "                        <th id=\"T_95b41258_4f70_11e9_9522_48e244f5c91elevel0_row12\" class=\"row_heading level0 row12\" >Title_3</th>\n",
       "                        <td id=\"T_95b41258_4f70_11e9_9522_48e244f5c91erow12_col0\" class=\"data row12 col0\" >0.0852</td>\n",
       "                        <td id=\"T_95b41258_4f70_11e9_9522_48e244f5c91erow12_col1\" class=\"data row12 col1\" >0.0821</td>\n",
       "                        <td id=\"T_95b41258_4f70_11e9_9522_48e244f5c91erow12_col2\" class=\"data row12 col2\" >-0.16</td>\n",
       "                        <td id=\"T_95b41258_4f70_11e9_9522_48e244f5c91erow12_col3\" class=\"data row12 col3\" >-0.377</td>\n",
       "                        <td id=\"T_95b41258_4f70_11e9_9522_48e244f5c91erow12_col4\" class=\"data row12 col4\" >0.0109</td>\n",
       "                        <td id=\"T_95b41258_4f70_11e9_9522_48e244f5c91erow12_col5\" class=\"data row12 col5\" >0.372</td>\n",
       "                        <td id=\"T_95b41258_4f70_11e9_9522_48e244f5c91erow12_col6\" class=\"data row12 col6\" >0.0243</td>\n",
       "                        <td id=\"T_95b41258_4f70_11e9_9522_48e244f5c91erow12_col7\" class=\"data row12 col7\" >-0.0352</td>\n",
       "                        <td id=\"T_95b41258_4f70_11e9_9522_48e244f5c91erow12_col8\" class=\"data row12 col8\" >0.0105</td>\n",
       "                        <td id=\"T_95b41258_4f70_11e9_9522_48e244f5c91erow12_col9\" class=\"data row12 col9\" >-0.262</td>\n",
       "                        <td id=\"T_95b41258_4f70_11e9_9522_48e244f5c91erow12_col10\" class=\"data row12 col10\" >-0.111</td>\n",
       "                        <td id=\"T_95b41258_4f70_11e9_9522_48e244f5c91erow12_col11\" class=\"data row12 col11\" >-0.0884</td>\n",
       "                        <td id=\"T_95b41258_4f70_11e9_9522_48e244f5c91erow12_col12\" class=\"data row12 col12\" >1</td>\n",
       "                        <td id=\"T_95b41258_4f70_11e9_9522_48e244f5c91erow12_col13\" class=\"data row12 col13\" >-0.0219</td>\n",
       "            </tr>\n",
       "            <tr>\n",
       "                        <th id=\"T_95b41258_4f70_11e9_9522_48e244f5c91elevel0_row13\" class=\"row_heading level0 row13\" >Title_4</th>\n",
       "                        <td id=\"T_95b41258_4f70_11e9_9522_48e244f5c91erow13_col0\" class=\"data row13 col0\" >-0.0566</td>\n",
       "                        <td id=\"T_95b41258_4f70_11e9_9522_48e244f5c91erow13_col1\" class=\"data row13 col1\" >-0.0776</td>\n",
       "                        <td id=\"T_95b41258_4f70_11e9_9522_48e244f5c91erow13_col2\" class=\"data row13 col2\" >-0.0745</td>\n",
       "                        <td id=\"T_95b41258_4f70_11e9_9522_48e244f5c91erow13_col3\" class=\"data row13 col3\" >0.0973</td>\n",
       "                        <td id=\"T_95b41258_4f70_11e9_9522_48e244f5c91erow13_col4\" class=\"data row13 col4\" >-0.0266</td>\n",
       "                        <td id=\"T_95b41258_4f70_11e9_9522_48e244f5c91erow13_col5\" class=\"data row13 col5\" >-0.0427</td>\n",
       "                        <td id=\"T_95b41258_4f70_11e9_9522_48e244f5c91erow13_col6\" class=\"data row13 col6\" >0.0119</td>\n",
       "                        <td id=\"T_95b41258_4f70_11e9_9522_48e244f5c91erow13_col7\" class=\"data row13 col7\" >-0.02</td>\n",
       "                        <td id=\"T_95b41258_4f70_11e9_9522_48e244f5c91erow13_col8\" class=\"data row13 col8\" >0.00888</td>\n",
       "                        <td id=\"T_95b41258_4f70_11e9_9522_48e244f5c91erow13_col9\" class=\"data row13 col9\" >-0.122</td>\n",
       "                        <td id=\"T_95b41258_4f70_11e9_9522_48e244f5c91erow13_col10\" class=\"data row13 col10\" >-0.0519</td>\n",
       "                        <td id=\"T_95b41258_4f70_11e9_9522_48e244f5c91erow13_col11\" class=\"data row13 col11\" >-0.0412</td>\n",
       "                        <td id=\"T_95b41258_4f70_11e9_9522_48e244f5c91erow13_col12\" class=\"data row13 col12\" >-0.0219</td>\n",
       "                        <td id=\"T_95b41258_4f70_11e9_9522_48e244f5c91erow13_col13\" class=\"data row13 col13\" >1</td>\n",
       "            </tr>\n",
       "    </tbody></table>"
      ],
      "text/plain": [
       "<pandas.io.formats.style.Styler at 0x2065c5e49e8>"
      ]
     },
     "execution_count": 102,
     "metadata": {},
     "output_type": "execute_result"
    }
   ],
   "source": [
    "corr.style.background_gradient(cmap='coolwarm').set_precision(3)\n",
    "# 'RdBu_r' & 'BrBG' are other good diverging colormaps"
   ]
  },
  {
   "cell_type": "code",
   "execution_count": null,
   "metadata": {},
   "outputs": [],
   "source": []
  },
  {
   "cell_type": "markdown",
   "metadata": {},
   "source": [
    "## 4. 예측모델 구축"
   ]
  },
  {
   "cell_type": "markdown",
   "metadata": {},
   "source": [
    "### 4.1 머신러닝 모델 성능비교\n",
    "- 다양한 분류모델을 사용하여 성능을 비교해본다."
   ]
  },
  {
   "cell_type": "code",
   "execution_count": 103,
   "metadata": {},
   "outputs": [],
   "source": [
    "import pandas as pd\n",
    "import numpy as np\n",
    "import matplotlib.pyplot as plt\n",
    "import warnings; warnings.filterwarnings('ignore')\n",
    "\n",
    "from sklearn.model_selection import train_test_split\n",
    "from sklearn.model_selection import KFold\n",
    "from sklearn.model_selection import cross_val_score\n",
    "\n",
    "from sklearn.linear_model import LogisticRegression\n",
    "from sklearn.tree import DecisionTreeClassifier\n",
    "from sklearn.ensemble import RandomForestClassifier\n",
    "from sklearn.ensemble import GradientBoostingClassifier\n",
    "from sklearn.svm import SVC"
   ]
  },
  {
   "cell_type": "code",
   "execution_count": 104,
   "metadata": {},
   "outputs": [],
   "source": [
    "X = train.drop('Survived', axis=1)\n",
    "y = train['Survived']"
   ]
  },
  {
   "cell_type": "markdown",
   "metadata": {},
   "source": [
    "- LR : Logistic regression\n",
    "- DT : Decision Tree Classifier\n",
    "- RF : Random Forest Classifier\n",
    "- GBC : Gradient Boosting Classifier\n",
    "- SVC : Support Vector Classifier\n",
    "  \n",
    "  모델의 하이퍼 파라미터는 디펄트 값을 그대로 사용한다."
   ]
  },
  {
   "cell_type": "code",
   "execution_count": 105,
   "metadata": {},
   "outputs": [
    {
     "data": {
      "text/plain": [
       "[('LR',\n",
       "  LogisticRegression(C=1.0, class_weight=None, dual=False, fit_intercept=True,\n",
       "            intercept_scaling=1, max_iter=100, multi_class='warn',\n",
       "            n_jobs=None, penalty='l2', random_state=None, solver='warn',\n",
       "            tol=0.0001, verbose=0, warm_start=False)),\n",
       " ('DT',\n",
       "  DecisionTreeClassifier(class_weight=None, criterion='gini', max_depth=None,\n",
       "              max_features=None, max_leaf_nodes=None,\n",
       "              min_impurity_decrease=0.0, min_impurity_split=None,\n",
       "              min_samples_leaf=1, min_samples_split=2,\n",
       "              min_weight_fraction_leaf=0.0, presort=False, random_state=None,\n",
       "              splitter='best')),\n",
       " ('RF',\n",
       "  RandomForestClassifier(bootstrap=True, class_weight=None, criterion='gini',\n",
       "              max_depth=None, max_features='auto', max_leaf_nodes=None,\n",
       "              min_impurity_decrease=0.0, min_impurity_split=None,\n",
       "              min_samples_leaf=1, min_samples_split=2,\n",
       "              min_weight_fraction_leaf=0.0, n_estimators='warn', n_jobs=None,\n",
       "              oob_score=False, random_state=None, verbose=0,\n",
       "              warm_start=False)),\n",
       " ('GBC', GradientBoostingClassifier(criterion='friedman_mse', init=None,\n",
       "                learning_rate=0.1, loss='deviance', max_depth=3,\n",
       "                max_features=None, max_leaf_nodes=None,\n",
       "                min_impurity_decrease=0.0, min_impurity_split=None,\n",
       "                min_samples_leaf=1, min_samples_split=2,\n",
       "                min_weight_fraction_leaf=0.0, n_estimators=100,\n",
       "                n_iter_no_change=None, presort='auto', random_state=None,\n",
       "                subsample=1.0, tol=0.0001, validation_fraction=0.1,\n",
       "                verbose=0, warm_start=False)),\n",
       " ('SVC', SVC(C=1.0, cache_size=200, class_weight=None, coef0=0.0,\n",
       "    decision_function_shape='ovr', degree=3, gamma='auto_deprecated',\n",
       "    kernel='rbf', max_iter=-1, probability=False, random_state=None,\n",
       "    shrinking=True, tol=0.001, verbose=False))]"
      ]
     },
     "execution_count": 105,
     "metadata": {},
     "output_type": "execute_result"
    }
   ],
   "source": [
    "models = []\n",
    "models.append(('LR', LogisticRegression()))\n",
    "models.append(('DT', DecisionTreeClassifier()))\n",
    "models.append(('RF', RandomForestClassifier()))\n",
    "models.append(('GBC', GradientBoostingClassifier()))\n",
    "models.append(('SVC', SVC()))\n",
    "models"
   ]
  },
  {
   "cell_type": "code",
   "execution_count": 106,
   "metadata": {},
   "outputs": [
    {
     "name": "stdout",
     "output_type": "stream",
     "text": [
      "LR   : 0.8316604244694131 (0.040771639483215986)\n",
      "DT   : 0.792421972534332 (0.03522051258465929)\n",
      "RF   : 0.7912858926342072 (0.03602373278852613)\n",
      "GBC  : 0.8316853932584269 (0.035323812732937936)\n",
      "SVC  : 0.7979900124843946 (0.022364317963015894)\n"
     ]
    }
   ],
   "source": [
    "results = []\n",
    "names = []\n",
    "\n",
    "for name, model in models:\n",
    "    kfold = KFold(n_splits = 10, random_state = 7)\n",
    "    cv_results = cross_val_score(model, X, y, cv=kfold, \n",
    "                                 scoring = 'accuracy')\n",
    "    \n",
    "    results = np.concatenate((results, cv_results))\n",
    "    \n",
    "    #results.append(cv_results)\n",
    "    names.append(name)\n",
    "\n",
    "    print('{0:5s}: {1} ({2})'.format(name, cv_results.mean(), \n",
    "                                     cv_results.std()))"
   ]
  },
  {
   "cell_type": "markdown",
   "metadata": {},
   "source": [
    "kfold validation을 통해 성능을 비교한다.  \n",
    "데이터를 10개로 나누어 검증하였다."
   ]
  },
  {
   "cell_type": "code",
   "execution_count": 107,
   "metadata": {},
   "outputs": [
    {
     "data": {
      "text/plain": [
       "['LR', 'DT', 'RF', 'GBC', 'SVC']"
      ]
     },
     "execution_count": 107,
     "metadata": {},
     "output_type": "execute_result"
    }
   ],
   "source": [
    "names"
   ]
  },
  {
   "cell_type": "code",
   "execution_count": 108,
   "metadata": {},
   "outputs": [
    {
     "data": {
      "text/plain": [
       "array([0.82222222, 0.86516854, 0.78651685, 0.87640449, 0.79775281,\n",
       "       0.79775281, 0.78651685, 0.80898876, 0.8988764 , 0.87640449,\n",
       "       0.74444444, 0.80898876, 0.75280899, 0.78651685, 0.83146067,\n",
       "       0.7752809 , 0.7752809 , 0.76404494, 0.85393258, 0.83146067,\n",
       "       0.75555556, 0.84269663, 0.74157303, 0.80898876, 0.79775281,\n",
       "       0.80898876, 0.7752809 , 0.7752809 , 0.75280899, 0.85393258,\n",
       "       0.8       , 0.85393258, 0.79775281, 0.85393258, 0.85393258,\n",
       "       0.85393258, 0.83146067, 0.75280899, 0.87640449, 0.84269663,\n",
       "       0.78888889, 0.7752809 , 0.7752809 , 0.78651685, 0.78651685,\n",
       "       0.82022472, 0.7752809 , 0.80898876, 0.82022472, 0.84269663])"
      ]
     },
     "execution_count": 108,
     "metadata": {},
     "output_type": "execute_result"
    }
   ],
   "source": [
    "results\n",
    "# 어떤이유인지 모르겠으나 result의 차원이 1차로 되었다.\n",
    "# reshape 해준다."
   ]
  },
  {
   "cell_type": "code",
   "execution_count": 109,
   "metadata": {},
   "outputs": [
    {
     "data": {
      "text/plain": [
       "array([[0.82222222, 0.86516854, 0.78651685, 0.87640449, 0.79775281,\n",
       "        0.79775281, 0.78651685, 0.80898876, 0.8988764 , 0.87640449],\n",
       "       [0.74444444, 0.80898876, 0.75280899, 0.78651685, 0.83146067,\n",
       "        0.7752809 , 0.7752809 , 0.76404494, 0.85393258, 0.83146067],\n",
       "       [0.75555556, 0.84269663, 0.74157303, 0.80898876, 0.79775281,\n",
       "        0.80898876, 0.7752809 , 0.7752809 , 0.75280899, 0.85393258],\n",
       "       [0.8       , 0.85393258, 0.79775281, 0.85393258, 0.85393258,\n",
       "        0.85393258, 0.83146067, 0.75280899, 0.87640449, 0.84269663],\n",
       "       [0.78888889, 0.7752809 , 0.7752809 , 0.78651685, 0.78651685,\n",
       "        0.82022472, 0.7752809 , 0.80898876, 0.82022472, 0.84269663]])"
      ]
     },
     "execution_count": 109,
     "metadata": {},
     "output_type": "execute_result"
    }
   ],
   "source": [
    "results = results.reshape(5, 10)\n",
    "results"
   ]
  },
  {
   "cell_type": "code",
   "execution_count": null,
   "metadata": {},
   "outputs": [],
   "source": []
  },
  {
   "cell_type": "code",
   "execution_count": 110,
   "metadata": {},
   "outputs": [],
   "source": [
    "df = pd.DataFrame(results.reshape(5, 10))\n",
    "df = df.T"
   ]
  },
  {
   "cell_type": "code",
   "execution_count": 111,
   "metadata": {},
   "outputs": [
    {
     "data": {
      "text/html": [
       "<div>\n",
       "<style scoped>\n",
       "    .dataframe tbody tr th:only-of-type {\n",
       "        vertical-align: middle;\n",
       "    }\n",
       "\n",
       "    .dataframe tbody tr th {\n",
       "        vertical-align: top;\n",
       "    }\n",
       "\n",
       "    .dataframe thead th {\n",
       "        text-align: right;\n",
       "    }\n",
       "</style>\n",
       "<table border=\"1\" class=\"dataframe\">\n",
       "  <thead>\n",
       "    <tr style=\"text-align: right;\">\n",
       "      <th></th>\n",
       "      <th>LR</th>\n",
       "      <th>DT</th>\n",
       "      <th>RF</th>\n",
       "      <th>GBC</th>\n",
       "      <th>SVC</th>\n",
       "    </tr>\n",
       "  </thead>\n",
       "  <tbody>\n",
       "    <tr>\n",
       "      <th>0</th>\n",
       "      <td>0.822222</td>\n",
       "      <td>0.744444</td>\n",
       "      <td>0.755556</td>\n",
       "      <td>0.800000</td>\n",
       "      <td>0.788889</td>\n",
       "    </tr>\n",
       "    <tr>\n",
       "      <th>1</th>\n",
       "      <td>0.865169</td>\n",
       "      <td>0.808989</td>\n",
       "      <td>0.842697</td>\n",
       "      <td>0.853933</td>\n",
       "      <td>0.775281</td>\n",
       "    </tr>\n",
       "    <tr>\n",
       "      <th>2</th>\n",
       "      <td>0.786517</td>\n",
       "      <td>0.752809</td>\n",
       "      <td>0.741573</td>\n",
       "      <td>0.797753</td>\n",
       "      <td>0.775281</td>\n",
       "    </tr>\n",
       "    <tr>\n",
       "      <th>3</th>\n",
       "      <td>0.876404</td>\n",
       "      <td>0.786517</td>\n",
       "      <td>0.808989</td>\n",
       "      <td>0.853933</td>\n",
       "      <td>0.786517</td>\n",
       "    </tr>\n",
       "    <tr>\n",
       "      <th>4</th>\n",
       "      <td>0.797753</td>\n",
       "      <td>0.831461</td>\n",
       "      <td>0.797753</td>\n",
       "      <td>0.853933</td>\n",
       "      <td>0.786517</td>\n",
       "    </tr>\n",
       "    <tr>\n",
       "      <th>5</th>\n",
       "      <td>0.797753</td>\n",
       "      <td>0.775281</td>\n",
       "      <td>0.808989</td>\n",
       "      <td>0.853933</td>\n",
       "      <td>0.820225</td>\n",
       "    </tr>\n",
       "    <tr>\n",
       "      <th>6</th>\n",
       "      <td>0.786517</td>\n",
       "      <td>0.775281</td>\n",
       "      <td>0.775281</td>\n",
       "      <td>0.831461</td>\n",
       "      <td>0.775281</td>\n",
       "    </tr>\n",
       "    <tr>\n",
       "      <th>7</th>\n",
       "      <td>0.808989</td>\n",
       "      <td>0.764045</td>\n",
       "      <td>0.775281</td>\n",
       "      <td>0.752809</td>\n",
       "      <td>0.808989</td>\n",
       "    </tr>\n",
       "    <tr>\n",
       "      <th>8</th>\n",
       "      <td>0.898876</td>\n",
       "      <td>0.853933</td>\n",
       "      <td>0.752809</td>\n",
       "      <td>0.876404</td>\n",
       "      <td>0.820225</td>\n",
       "    </tr>\n",
       "    <tr>\n",
       "      <th>9</th>\n",
       "      <td>0.876404</td>\n",
       "      <td>0.831461</td>\n",
       "      <td>0.853933</td>\n",
       "      <td>0.842697</td>\n",
       "      <td>0.842697</td>\n",
       "    </tr>\n",
       "  </tbody>\n",
       "</table>\n",
       "</div>"
      ],
      "text/plain": [
       "         LR        DT        RF       GBC       SVC\n",
       "0  0.822222  0.744444  0.755556  0.800000  0.788889\n",
       "1  0.865169  0.808989  0.842697  0.853933  0.775281\n",
       "2  0.786517  0.752809  0.741573  0.797753  0.775281\n",
       "3  0.876404  0.786517  0.808989  0.853933  0.786517\n",
       "4  0.797753  0.831461  0.797753  0.853933  0.786517\n",
       "5  0.797753  0.775281  0.808989  0.853933  0.820225\n",
       "6  0.786517  0.775281  0.775281  0.831461  0.775281\n",
       "7  0.808989  0.764045  0.775281  0.752809  0.808989\n",
       "8  0.898876  0.853933  0.752809  0.876404  0.820225\n",
       "9  0.876404  0.831461  0.853933  0.842697  0.842697"
      ]
     },
     "execution_count": 111,
     "metadata": {},
     "output_type": "execute_result"
    }
   ],
   "source": [
    "df.columns = names\n",
    "df"
   ]
  },
  {
   "cell_type": "markdown",
   "metadata": {},
   "source": [
    "모델별 성능(accuracy)을 DataFrame으로 정리하였다."
   ]
  },
  {
   "cell_type": "code",
   "execution_count": null,
   "metadata": {},
   "outputs": [],
   "source": []
  },
  {
   "cell_type": "code",
   "execution_count": 112,
   "metadata": {},
   "outputs": [
    {
     "data": {
      "text/plain": [
       "<matplotlib.axes._subplots.AxesSubplot at 0x2065dd4b2e8>"
      ]
     },
     "execution_count": 112,
     "metadata": {},
     "output_type": "execute_result"
    },
    {
     "data": {
      "image/png": "[encoded data removed]",
      "text/plain": [
       "<Figure size 432x288 with 1 Axes>"
      ]
     },
     "metadata": {
      "needs_background": "light"
     },
     "output_type": "display_data"
    }
   ],
   "source": [
    "df.boxplot()"
   ]
  },
  {
   "cell_type": "markdown",
   "metadata": {},
   "source": [
    "정확도 최대 값은 LR(Logistric Regression) 모델에서 발생하였으나 평균적으로 GBC(Gradienc Boosting Classifier)의 성능이 우수하다.  \n",
    "따라서 GBC 모델을 사용한다."
   ]
  },
  {
   "cell_type": "code",
   "execution_count": null,
   "metadata": {},
   "outputs": [],
   "source": []
  },
  {
   "cell_type": "markdown",
   "metadata": {},
   "source": [
    "### 4.2 하이퍼 파라미터 튜닝\n",
    "#### 4.2.1 Baseline Model\n",
    "- 하이퍼 파라미터 튜닝에 앞서 Baseline 모델의 성능을 확인한다."
   ]
  },
  {
   "cell_type": "code",
   "execution_count": 113,
   "metadata": {},
   "outputs": [],
   "source": [
    "# from sklearn.ensemble import GradientBoostingClassifier\n",
    "# from sklearn.metrics import classification_report\n",
    "# from sklearn.model_selection import GridSearchCV"
   ]
  },
  {
   "cell_type": "code",
   "execution_count": 114,
   "metadata": {},
   "outputs": [],
   "source": [
    "# baseline_model = GradientBoostingClassifier(learning_rate=0.1,\n",
    "#                 n_estimators=100, max_depth = 3, min_samples_split=2,\n",
    "#                 min_samples_leaf=1, subsample=1, max_features='sqrt', \n",
    "#                 random_state=7)\n",
    "# # machine learning mastery에 따르면 위 파라미터를 디펄트로 두는 것이 좋다고 함"
   ]
  },
  {
   "cell_type": "code",
   "execution_count": 115,
   "metadata": {},
   "outputs": [],
   "source": [
    "# result = cross_val_score(baseline_model, X, y, cv=kfold, \n",
    "#                                  scoring = 'accuracy')"
   ]
  },
  {
   "cell_type": "code",
   "execution_count": 116,
   "metadata": {},
   "outputs": [],
   "source": [
    "# print('GBC: {0} ({1})'.format(result.mean(), result.std()))"
   ]
  },
  {
   "cell_type": "code",
   "execution_count": 117,
   "metadata": {},
   "outputs": [],
   "source": [
    "import pandas as pd\n",
    "import numpy as np\n",
    "import matplotlib.pyplot as plt\n",
    "import warnings; warnings.filterwarnings('ignore')\n",
    "\n",
    "from sklearn.model_selection import train_test_split\n",
    "from sklearn.ensemble import GradientBoostingClassifier\n",
    "from sklearn.metrics import classification_report"
   ]
  },
  {
   "cell_type": "code",
   "execution_count": 118,
   "metadata": {},
   "outputs": [],
   "source": [
    "X = train.drop('Survived', axis=1)\n",
    "y = train['Survived']"
   ]
  },
  {
   "cell_type": "code",
   "execution_count": 119,
   "metadata": {},
   "outputs": [],
   "source": [
    "X_train, X_test, y_train, y_test = train_test_split(X, y, random_state = 7, \n",
    "                            stratify = y, test_size = 0.3)\n",
    "# 데이터를 학습용(train)과 시험용(test)으로 나눈다."
   ]
  },
  {
   "cell_type": "code",
   "execution_count": 120,
   "metadata": {},
   "outputs": [],
   "source": [
    "model_base = GradientBoostingClassifier(learning_rate=0.1,\n",
    "                 n_estimators=100, max_depth = 3, min_samples_split=2,\n",
    "                 min_samples_leaf=1, subsample=1, max_features='sqrt', \n",
    "                 random_state=7)\n",
    "# 문헌에 따르면 위 파라미터를 baseline으로 시작는 것이 좋다고 함\n",
    "# https://machinelearningmastery.com/configure-gradient-boosting-algorithm"
   ]
  },
  {
   "cell_type": "code",
   "execution_count": 121,
   "metadata": {},
   "outputs": [
    {
     "data": {
      "text/plain": [
       "GradientBoostingClassifier(criterion='friedman_mse', init=None,\n",
       "              learning_rate=0.1, loss='deviance', max_depth=3,\n",
       "              max_features='sqrt', max_leaf_nodes=None,\n",
       "              min_impurity_decrease=0.0, min_impurity_split=None,\n",
       "              min_samples_leaf=1, min_samples_split=2,\n",
       "              min_weight_fraction_leaf=0.0, n_estimators=100,\n",
       "              n_iter_no_change=None, presort='auto', random_state=7,\n",
       "              subsample=1, tol=0.0001, validation_fraction=0.1, verbose=0,\n",
       "              warm_start=False)"
      ]
     },
     "execution_count": 121,
     "metadata": {},
     "output_type": "execute_result"
    }
   ],
   "source": [
    "model_base.fit(X_train, y_train) # 학습"
   ]
  },
  {
   "cell_type": "code",
   "execution_count": 122,
   "metadata": {},
   "outputs": [
    {
     "name": "stdout",
     "output_type": "stream",
     "text": [
      "Accuracy of the base model on test set: 0.854\n",
      "              precision    recall  f1-score   support\n",
      "\n",
      "           0       0.86      0.92      0.89       165\n",
      "           1       0.85      0.76      0.80       103\n",
      "\n",
      "   micro avg       0.85      0.85      0.85       268\n",
      "   macro avg       0.85      0.84      0.84       268\n",
      "weighted avg       0.85      0.85      0.85       268\n",
      "\n"
     ]
    }
   ],
   "source": [
    "print('Accuracy of the base model on test set: {:.3f}'.format(model_base.score(X_test, y_test)))\n",
    "pred = model_base.predict(X_test)\n",
    "print(classification_report(y_test, pred))"
   ]
  },
  {
   "cell_type": "markdown",
   "metadata": {},
   "source": [
    "- 아래부터는 모델의 성능향상을 위해 하이퍼 파라미터를 조정한다.\n",
    "- GBC 모델의 경우 주요 파라미터는 트리 수(number of trees),  \n",
    "트리 깊이(tree depth), 학습률(learning rate) 이다.  \n",
    "- 여기서는 주요 파라미터 뿐 아니라 나머지 파라미터도 조정한다.\n",
    "- 검증을 위해 10-fold validation 방법을 사용하고, 모델 평가는 정확도(accuracy)를 기준으로 한다.  "
   ]
  },
  {
   "cell_type": "code",
   "execution_count": null,
   "metadata": {},
   "outputs": [],
   "source": []
  },
  {
   "cell_type": "markdown",
   "metadata": {},
   "source": [
    "#### 4.2.2 n_estimators, learning rate 튜닝\n",
    "- n_estimators : 모델에 사용되는 트리의 수\n",
    "- learning_rate : 학습률"
   ]
  },
  {
   "cell_type": "code",
   "execution_count": 123,
   "metadata": {},
   "outputs": [],
   "source": [
    "import pandas as pd\n",
    "import numpy as np\n",
    "import matplotlib.pyplot as plt\n",
    "import warnings; warnings.filterwarnings('ignore')\n",
    "\n",
    "from sklearn.ensemble import GradientBoostingClassifier\n",
    "from sklearn.model_selection import GridSearchCV"
   ]
  },
  {
   "cell_type": "code",
   "execution_count": 124,
   "metadata": {},
   "outputs": [],
   "source": [
    "model = GradientBoostingClassifier(max_depth = 3, min_samples_split=2,\n",
    "                min_samples_leaf=1, subsample=1, max_features='sqrt', \n",
    "                random_state=7)"
   ]
  },
  {
   "cell_type": "markdown",
   "metadata": {},
   "source": [
    "n_estimators와 learning_rate를 제외한 나머지 파라미터는 base line 모델의 것을 사용한다.  \n",
    "pram_grid 변수에 적용할 파라미터 범위를 지정한다.  \n",
    "최적의 파라미터를 찾기위해 GridSerchCV 라이브러리를 사용한다."
   ]
  },
  {
   "cell_type": "code",
   "execution_count": 125,
   "metadata": {},
   "outputs": [
    {
     "data": {
      "text/plain": [
       "GridSearchCV(cv=10, error_score='raise-deprecating',\n",
       "       estimator=GradientBoostingClassifier(criterion='friedman_mse', init=None,\n",
       "              learning_rate=0.1, loss='deviance', max_depth=3,\n",
       "              max_features='sqrt', max_leaf_nodes=None,\n",
       "              min_impurity_decrease=0.0, min_impurity_split=None,\n",
       "              min_samples_leaf=1, min_sam...        subsample=1, tol=0.0001, validation_fraction=0.1, verbose=0,\n",
       "              warm_start=False),\n",
       "       fit_params=None, iid='warn', n_jobs=4,\n",
       "       param_grid={'learning_rate': [0.15, 0.1, 0.05, 0.01, 0.005, 0.001], 'n_estimators': [100, 250, 500, 750, 1000, 1250, 1500, 1750]},\n",
       "       pre_dispatch='2*n_jobs', refit=True, return_train_score='warn',\n",
       "       scoring='accuracy', verbose=0)"
      ]
     },
     "execution_count": 125,
     "metadata": {},
     "output_type": "execute_result"
    }
   ],
   "source": [
    "param_grid = {'learning_rate': [0.15, 0.1, 0.05, 0.01, 0.005, 0.001],\n",
    "             'n_estimators': [100, 250, 500, 750, 1000, 1250, 1500, 1750]}\n",
    "grid = GridSearchCV(estimator=model, param_grid = param_grid, scoring= 'accuracy',\n",
    "                   n_jobs=4, cv = 10)\n",
    "grid.fit(X, y)"
   ]
  },
  {
   "cell_type": "code",
   "execution_count": 126,
   "metadata": {},
   "outputs": [
    {
     "data": {
      "text/plain": [
       "0.8383838383838383"
      ]
     },
     "execution_count": 126,
     "metadata": {},
     "output_type": "execute_result"
    }
   ],
   "source": [
    "grid.best_score_"
   ]
  },
  {
   "cell_type": "code",
   "execution_count": 127,
   "metadata": {},
   "outputs": [
    {
     "data": {
      "text/plain": [
       "{'learning_rate': 0.15, 'n_estimators': 100}"
      ]
     },
     "execution_count": 127,
     "metadata": {},
     "output_type": "execute_result"
    }
   ],
   "source": [
    "grid.best_params_"
   ]
  },
  {
   "cell_type": "markdown",
   "metadata": {},
   "source": [
    "- Best Score : 0.8383\n",
    "- Best Parameters : {'learning_rate': 0.15, 'n_estimators': 100}"
   ]
  },
  {
   "cell_type": "code",
   "execution_count": null,
   "metadata": {},
   "outputs": [],
   "source": []
  },
  {
   "cell_type": "markdown",
   "metadata": {},
   "source": [
    "#### 4.2.3 max_depth 튜닝\n",
    "- max_depth : 모델에 사용되는 트리의 최대 깊이"
   ]
  },
  {
   "cell_type": "code",
   "execution_count": 128,
   "metadata": {},
   "outputs": [],
   "source": [
    "model = GradientBoostingClassifier(learning_rate=0.15, n_estimators=100,\n",
    "                min_samples_split=2, min_samples_leaf=1, subsample=1, \n",
    "                max_features='sqrt', random_state=7)"
   ]
  },
  {
   "cell_type": "markdown",
   "metadata": {},
   "source": [
    "n_estimators와 learning_rate는 앞에서 구한 것을 사용한다.  \n",
    "나머지 파라미터는 base line 모델의 것을 사용한다.  "
   ]
  },
  {
   "cell_type": "code",
   "execution_count": 129,
   "metadata": {},
   "outputs": [
    {
     "data": {
      "text/plain": [
       "GridSearchCV(cv=10, error_score='raise-deprecating',\n",
       "       estimator=GradientBoostingClassifier(criterion='friedman_mse', init=None,\n",
       "              learning_rate=0.15, loss='deviance', max_depth=3,\n",
       "              max_features='sqrt', max_leaf_nodes=None,\n",
       "              min_impurity_decrease=0.0, min_impurity_split=None,\n",
       "              min_samples_leaf=1, min_sa...        subsample=1, tol=0.0001, validation_fraction=0.1, verbose=0,\n",
       "              warm_start=False),\n",
       "       fit_params=None, iid='warn', n_jobs=4,\n",
       "       param_grid={'max_depth': [2, 3, 4, 5, 6, 7]},\n",
       "       pre_dispatch='2*n_jobs', refit=True, return_train_score='warn',\n",
       "       scoring='accuracy', verbose=0)"
      ]
     },
     "execution_count": 129,
     "metadata": {},
     "output_type": "execute_result"
    }
   ],
   "source": [
    "param_grid = {'max_depth': [2, 3, 4, 5, 6, 7]}\n",
    "grid = GridSearchCV(estimator=model, param_grid = param_grid, scoring= 'accuracy',\n",
    "                   n_jobs=4, cv = 10)\n",
    "grid.fit(X, y)"
   ]
  },
  {
   "cell_type": "code",
   "execution_count": 130,
   "metadata": {},
   "outputs": [
    {
     "data": {
      "text/plain": [
       "0.8383838383838383"
      ]
     },
     "execution_count": 130,
     "metadata": {},
     "output_type": "execute_result"
    }
   ],
   "source": [
    "grid.best_score_"
   ]
  },
  {
   "cell_type": "code",
   "execution_count": 131,
   "metadata": {},
   "outputs": [
    {
     "data": {
      "text/plain": [
       "{'max_depth': 3}"
      ]
     },
     "execution_count": 131,
     "metadata": {},
     "output_type": "execute_result"
    }
   ],
   "source": [
    "grid.best_params_"
   ]
  },
  {
   "cell_type": "markdown",
   "metadata": {},
   "source": [
    "- Best Score : 0.8383\n",
    "- Best Parameters : {'max_depth': 3}  // 기존과 동일"
   ]
  },
  {
   "cell_type": "code",
   "execution_count": null,
   "metadata": {},
   "outputs": [],
   "source": []
  },
  {
   "cell_type": "markdown",
   "metadata": {},
   "source": [
    "지금까지 GBC 모델 튜닝에 사용되는 대표 파라미터를 살펴보았다.  \n",
    "다음부터는 GBC 나머지 파라미터를 조정한다."
   ]
  },
  {
   "cell_type": "code",
   "execution_count": null,
   "metadata": {},
   "outputs": [],
   "source": []
  },
  {
   "cell_type": "markdown",
   "metadata": {},
   "source": [
    "#### 4.2.4 min_samples_split and min_samples_leaf 튜닝\n",
    "- min_samples_split : 구분할 샘플의 최소 개수\n",
    "- min samples leaf :잎(트리의 끝단)을 구성하는 샘플의 최소 개수"
   ]
  },
  {
   "cell_type": "markdown",
   "metadata": {},
   "source": [
    "model = GradientBoostingClassifier(learning_rate=0.15, n_estimators=100, max_depth=3,\n",
    "                subsample=1, max_features='sqrt', random_state=7)"
   ]
  },
  {
   "cell_type": "markdown",
   "metadata": {},
   "source": [
    "마찬가지로 grid search를 통해 구한 파라미터를 반영한다.   \n",
    "나머지 파라미터는 base line 모델의 것을 사용한다."
   ]
  },
  {
   "cell_type": "code",
   "execution_count": 132,
   "metadata": {},
   "outputs": [
    {
     "data": {
      "text/plain": [
       "GridSearchCV(cv=10, error_score='raise-deprecating',\n",
       "       estimator=GradientBoostingClassifier(criterion='friedman_mse', init=None,\n",
       "              learning_rate=0.15, loss='deviance', max_depth=3,\n",
       "              max_features='sqrt', max_leaf_nodes=None,\n",
       "              min_impurity_decrease=0.0, min_impurity_split=None,\n",
       "              min_samples_leaf=1, min_sa...        subsample=1, tol=0.0001, validation_fraction=0.1, verbose=0,\n",
       "              warm_start=False),\n",
       "       fit_params=None, iid='warn', n_jobs=4,\n",
       "       param_grid={'min_samples_split': [2, 4, 6, 8, 10, 20, 40, 60, 100, 200, 300], 'min_samples_leaf': [1, 3, 5, 7, 9]},\n",
       "       pre_dispatch='2*n_jobs', refit=True, return_train_score='warn',\n",
       "       scoring='accuracy', verbose=0)"
      ]
     },
     "execution_count": 132,
     "metadata": {},
     "output_type": "execute_result"
    }
   ],
   "source": [
    "param_grid = {'min_samples_split': [2, 4, 6, 8, 10, 20, 40, 60, 100, 200, 300],\n",
    "              'min_samples_leaf': [1, 3, 5, 7, 9]}\n",
    "grid = GridSearchCV(estimator=model, param_grid = param_grid, scoring= 'accuracy',\n",
    "                   n_jobs=4, cv = 10)\n",
    "grid.fit(X, y)"
   ]
  },
  {
   "cell_type": "code",
   "execution_count": 133,
   "metadata": {},
   "outputs": [
    {
     "data": {
      "text/plain": [
       "0.8395061728395061"
      ]
     },
     "execution_count": 133,
     "metadata": {},
     "output_type": "execute_result"
    }
   ],
   "source": [
    "grid.best_score_"
   ]
  },
  {
   "cell_type": "code",
   "execution_count": 134,
   "metadata": {},
   "outputs": [
    {
     "data": {
      "text/plain": [
       "{'min_samples_leaf': 3, 'min_samples_split': 100}"
      ]
     },
     "execution_count": 134,
     "metadata": {},
     "output_type": "execute_result"
    }
   ],
   "source": [
    "grid.best_params_"
   ]
  },
  {
   "cell_type": "markdown",
   "metadata": {},
   "source": [
    "- Best Score : 0.8395\n",
    "- Best Parameters : {'min_samples_leaf': 3, 'min_samples_split': 100}"
   ]
  },
  {
   "cell_type": "code",
   "execution_count": null,
   "metadata": {},
   "outputs": [],
   "source": []
  },
  {
   "cell_type": "markdown",
   "metadata": {},
   "source": [
    "#### 4.2.5 max_features 튜닝\n",
    "- max_features : 트리의 가지를 만들 때 고려할 최대 피쳐 수\n",
    "- 일반적으로 전체 피쳐수의 제곱근('sqrt')을 사용\n",
    "- 큰 값으로 설정하면 over-fitting을 유발할 수도 있다.(문제에 따라 다름)\n",
    "- 전체 피쳐수에서 3, 40% 개 까지 살펴볼 필요가 있다.\n",
    "- 데이터 셋의 피쳐수가 13개이므로 0에서 13까지 범위에서 살펴본다. range(2, 14)"
   ]
  },
  {
   "cell_type": "code",
   "execution_count": 135,
   "metadata": {},
   "outputs": [],
   "source": [
    "model = GradientBoostingClassifier(learning_rate=0.15, n_estimators=100, max_depth=3,\n",
    "                min_samples_split=100, min_samples_leaf=3, subsample=1, \n",
    "                random_state=7)"
   ]
  },
  {
   "cell_type": "code",
   "execution_count": 136,
   "metadata": {
    "scrolled": true
   },
   "outputs": [
    {
     "data": {
      "text/plain": [
       "GridSearchCV(cv=10, error_score='raise-deprecating',\n",
       "       estimator=GradientBoostingClassifier(criterion='friedman_mse', init=None,\n",
       "              learning_rate=0.15, loss='deviance', max_depth=3,\n",
       "              max_features=None, max_leaf_nodes=None,\n",
       "              min_impurity_decrease=0.0, min_impurity_split=None,\n",
       "              min_samples_leaf=3, min_samp...        subsample=1, tol=0.0001, validation_fraction=0.1, verbose=0,\n",
       "              warm_start=False),\n",
       "       fit_params=None, iid='warn', n_jobs=4,\n",
       "       param_grid={'max_features': [2, 3, 4, 5, 6, 7, 8, 9, 10, 11, 12, 13]},\n",
       "       pre_dispatch='2*n_jobs', refit=True, return_train_score='warn',\n",
       "       scoring='accuracy', verbose=0)"
      ]
     },
     "execution_count": 136,
     "metadata": {},
     "output_type": "execute_result"
    }
   ],
   "source": [
    "param_grid = {'max_features': [i for i in range(2, 14)]}\n",
    "grid = GridSearchCV(estimator=model, param_grid = param_grid, scoring= 'accuracy',\n",
    "                   n_jobs=4, cv = 10)\n",
    "grid.fit(X, y)"
   ]
  },
  {
   "cell_type": "code",
   "execution_count": 137,
   "metadata": {},
   "outputs": [
    {
     "data": {
      "text/plain": [
       "0.8462401795735129"
      ]
     },
     "execution_count": 137,
     "metadata": {},
     "output_type": "execute_result"
    }
   ],
   "source": [
    "grid.best_score_"
   ]
  },
  {
   "cell_type": "code",
   "execution_count": 138,
   "metadata": {},
   "outputs": [
    {
     "data": {
      "text/plain": [
       "{'max_features': 12}"
      ]
     },
     "execution_count": 138,
     "metadata": {},
     "output_type": "execute_result"
    }
   ],
   "source": [
    "grid.best_params_"
   ]
  },
  {
   "cell_type": "markdown",
   "metadata": {},
   "source": [
    "- Best Score : 0.8462\n",
    "- Best Parameters : {'max_features': 12}"
   ]
  },
  {
   "cell_type": "code",
   "execution_count": null,
   "metadata": {},
   "outputs": [],
   "source": []
  },
  {
   "cell_type": "markdown",
   "metadata": {},
   "source": [
    "#### 4.2.6 subsample 튜닝\n",
    "- subsample : 개별 학습기를 피팅하기위해 사용되는 샘플조각의 set\n",
    "- 1보다 작은 값은 variance를 감소시키는 것으로 알려져있다.(건전성 향상)"
   ]
  },
  {
   "cell_type": "code",
   "execution_count": 139,
   "metadata": {},
   "outputs": [],
   "source": [
    "model = GradientBoostingClassifier(learning_rate=0.15, n_estimators=100, max_depth=3,\n",
    "                min_samples_split=100, min_samples_leaf=3, max_features=12,\n",
    "                random_state=7)"
   ]
  },
  {
   "cell_type": "code",
   "execution_count": 140,
   "metadata": {},
   "outputs": [
    {
     "data": {
      "text/plain": [
       "GridSearchCV(cv=10, error_score='raise-deprecating',\n",
       "       estimator=GradientBoostingClassifier(criterion='friedman_mse', init=None,\n",
       "              learning_rate=0.15, loss='deviance', max_depth=3,\n",
       "              max_features=12, max_leaf_nodes=None,\n",
       "              min_impurity_decrease=0.0, min_impurity_split=None,\n",
       "              min_samples_leaf=3, min_sample...      subsample=1.0, tol=0.0001, validation_fraction=0.1,\n",
       "              verbose=0, warm_start=False),\n",
       "       fit_params=None, iid='warn', n_jobs=4,\n",
       "       param_grid={'subsample': [0.7, 0.75, 0.8, 0.85, 0.9, 0.95, 1]},\n",
       "       pre_dispatch='2*n_jobs', refit=True, return_train_score='warn',\n",
       "       scoring='accuracy', verbose=0)"
      ]
     },
     "execution_count": 140,
     "metadata": {},
     "output_type": "execute_result"
    }
   ],
   "source": [
    "param_grid = {'subsample': [0.7, 0.75, 0.8, 0.85, 0.9, 0.95, 1]}\n",
    "grid = GridSearchCV(estimator=model, param_grid = param_grid, scoring= 'accuracy',\n",
    "                   n_jobs=4, cv = 10)\n",
    "grid.fit(X, y)"
   ]
  },
  {
   "cell_type": "code",
   "execution_count": 141,
   "metadata": {},
   "outputs": [
    {
     "data": {
      "text/plain": [
       "0.8529741863075196"
      ]
     },
     "execution_count": 141,
     "metadata": {},
     "output_type": "execute_result"
    }
   ],
   "source": [
    "grid.best_score_"
   ]
  },
  {
   "cell_type": "code",
   "execution_count": 142,
   "metadata": {},
   "outputs": [
    {
     "data": {
      "text/plain": [
       "{'subsample': 0.9}"
      ]
     },
     "execution_count": 142,
     "metadata": {},
     "output_type": "execute_result"
    }
   ],
   "source": [
    "grid.best_params_"
   ]
  },
  {
   "cell_type": "markdown",
   "metadata": {},
   "source": [
    "- Best Score : 0.8529\n",
    "- Best Parameters : {'subsample': 0.9}"
   ]
  },
  {
   "cell_type": "code",
   "execution_count": null,
   "metadata": {},
   "outputs": [],
   "source": []
  },
  {
   "cell_type": "markdown",
   "metadata": {},
   "source": [
    "### 4.3.6 최종 모델평가\n",
    "- 튜닝 결과를 반영하여 모델의 성능을 최종 평가한다."
   ]
  },
  {
   "cell_type": "code",
   "execution_count": 143,
   "metadata": {},
   "outputs": [],
   "source": [
    "import pandas as pd\n",
    "import numpy as np\n",
    "import matplotlib.pyplot as plt\n",
    "import warnings; warnings.filterwarnings('ignore')\n",
    "\n",
    "from sklearn.model_selection import train_test_split\n",
    "from sklearn.ensemble import GradientBoostingClassifier"
   ]
  },
  {
   "cell_type": "code",
   "execution_count": 144,
   "metadata": {},
   "outputs": [],
   "source": [
    "X = train.drop('Survived', axis=1)\n",
    "y = train['Survived']"
   ]
  },
  {
   "cell_type": "code",
   "execution_count": 145,
   "metadata": {},
   "outputs": [],
   "source": [
    "X_train, X_test, y_train, y_test = train_test_split(X, y, random_state = 7,\n",
    "                            stratify = y, test_size = 0.3)"
   ]
  },
  {
   "cell_type": "code",
   "execution_count": 146,
   "metadata": {},
   "outputs": [],
   "source": [
    "model_GBC = GradientBoostingClassifier(learning_rate=0.15, n_estimators=100, \n",
    "                max_depth=3, min_samples_split=100, min_samples_leaf=3, \n",
    "                max_features=12, subsample=0.9, random_state=7)"
   ]
  },
  {
   "cell_type": "code",
   "execution_count": 147,
   "metadata": {},
   "outputs": [
    {
     "data": {
      "text/plain": [
       "GradientBoostingClassifier(criterion='friedman_mse', init=None,\n",
       "              learning_rate=0.15, loss='deviance', max_depth=3,\n",
       "              max_features=12, max_leaf_nodes=None,\n",
       "              min_impurity_decrease=0.0, min_impurity_split=None,\n",
       "              min_samples_leaf=3, min_samples_split=100,\n",
       "              min_weight_fraction_leaf=0.0, n_estimators=100,\n",
       "              n_iter_no_change=None, presort='auto', random_state=7,\n",
       "              subsample=0.9, tol=0.0001, validation_fraction=0.1,\n",
       "              verbose=0, warm_start=False)"
      ]
     },
     "execution_count": 147,
     "metadata": {},
     "output_type": "execute_result"
    }
   ],
   "source": [
    "model_GBC.fit(X_train, y_train)"
   ]
  },
  {
   "cell_type": "code",
   "execution_count": 148,
   "metadata": {},
   "outputs": [
    {
     "name": "stdout",
     "output_type": "stream",
     "text": [
      "Accuracy of the GBC on test set: 0.847\n",
      "              precision    recall  f1-score   support\n",
      "\n",
      "           0       0.86      0.90      0.88       165\n",
      "           1       0.83      0.76      0.79       103\n",
      "\n",
      "   micro avg       0.85      0.85      0.85       268\n",
      "   macro avg       0.84      0.83      0.84       268\n",
      "weighted avg       0.85      0.85      0.85       268\n",
      "\n"
     ]
    }
   ],
   "source": [
    "print('Accuracy of the GBC on test set: {:.3f}'.format(model_GBC.score(X_test, y_test)))\n",
    "pred = model_GBC.predict(X_test)\n",
    "print(classification_report(y_test, pred))"
   ]
  },
  {
   "cell_type": "code",
   "execution_count": null,
   "metadata": {},
   "outputs": [],
   "source": []
  },
  {
   "cell_type": "markdown",
   "metadata": {},
   "source": [
    "Base line 모델과 최종 모델과 ROC, AUC를 비교한다."
   ]
  },
  {
   "cell_type": "code",
   "execution_count": 149,
   "metadata": {},
   "outputs": [],
   "source": [
    "import pandas as pd\n",
    "import numpy as np\n",
    "import matplotlib.pyplot as plt\n",
    "import warnings; warnings.filterwarnings('ignore')\n",
    "\n",
    "from sklearn.model_selection import train_test_split\n",
    "from sklearn.ensemble import GradientBoostingClassifier\n",
    "from sklearn import metrics\n",
    "from sklearn.metrics import roc_auc_score\n",
    "from sklearn.metrics import roc_curve"
   ]
  },
  {
   "cell_type": "code",
   "execution_count": 150,
   "metadata": {},
   "outputs": [],
   "source": [
    "X = train.drop('Survived', axis=1)\n",
    "y = train['Survived']\n",
    "X_train, X_test, y_train, y_test = train_test_split(X, y, random_state = 7, \n",
    "                            stratify = y, test_size = 0.3)"
   ]
  },
  {
   "cell_type": "code",
   "execution_count": 151,
   "metadata": {},
   "outputs": [
    {
     "data": {
      "text/plain": [
       "GradientBoostingClassifier(criterion='friedman_mse', init=None,\n",
       "              learning_rate=0.1, loss='deviance', max_depth=3,\n",
       "              max_features='sqrt', max_leaf_nodes=None,\n",
       "              min_impurity_decrease=0.0, min_impurity_split=None,\n",
       "              min_samples_leaf=1, min_samples_split=2,\n",
       "              min_weight_fraction_leaf=0.0, n_estimators=100,\n",
       "              n_iter_no_change=None, presort='auto', random_state=7,\n",
       "              subsample=1, tol=0.0001, validation_fraction=0.1, verbose=0,\n",
       "              warm_start=False)"
      ]
     },
     "execution_count": 151,
     "metadata": {},
     "output_type": "execute_result"
    }
   ],
   "source": [
    "# Base Line 모델 생성 및 학습\n",
    "model_base = GradientBoostingClassifier(learning_rate=0.1,\n",
    "                 n_estimators=100, max_depth = 3, min_samples_split=2,\n",
    "                 min_samples_leaf=1, subsample=1, max_features='sqrt', \n",
    "                 random_state=7)\n",
    "model_base.fit(X_train, y_train)"
   ]
  },
  {
   "cell_type": "code",
   "execution_count": 152,
   "metadata": {},
   "outputs": [
    {
     "data": {
      "text/plain": [
       "GradientBoostingClassifier(criterion='friedman_mse', init=None,\n",
       "              learning_rate=0.15, loss='deviance', max_depth=3,\n",
       "              max_features=12, max_leaf_nodes=None,\n",
       "              min_impurity_decrease=0.0, min_impurity_split=None,\n",
       "              min_samples_leaf=3, min_samples_split=100,\n",
       "              min_weight_fraction_leaf=0.0, n_estimators=100,\n",
       "              n_iter_no_change=None, presort='auto', random_state=7,\n",
       "              subsample=0.9, tol=0.0001, validation_fraction=0.1,\n",
       "              verbose=0, warm_start=False)"
      ]
     },
     "execution_count": 152,
     "metadata": {},
     "output_type": "execute_result"
    }
   ],
   "source": [
    "# Base Line 모델 생성 및 학습\n",
    "model_GBC = GradientBoostingClassifier(learning_rate=0.15, n_estimators=100, \n",
    "                max_depth=3, min_samples_split=100, min_samples_leaf=3, \n",
    "                max_features=12, subsample=0.9, random_state=7)\n",
    "model_GBC.fit(X_train, y_train)"
   ]
  },
  {
   "cell_type": "code",
   "execution_count": 153,
   "metadata": {},
   "outputs": [],
   "source": [
    "# Base Line 모델의 ROC, AUC\n",
    "base_roc_auc = roc_auc_score(y_test, model_base.predict(X_test))\n",
    "fprBase, tprBase, thresholdsBase = roc_curve(y_test, \n",
    "                          model_base.predict_proba(X_test)[:,1])"
   ]
  },
  {
   "cell_type": "code",
   "execution_count": 154,
   "metadata": {},
   "outputs": [],
   "source": [
    "# GBC 모델의 ROC, AUC\n",
    "GBC_roc_auc = roc_auc_score(y_test, model_GBC.predict(X_test))\n",
    "fprGBC, tprGBC, thresholdsGBC = roc_curve(y_test, \n",
    "                          model_GBC.predict_proba(X_test)[:,1])"
   ]
  },
  {
   "cell_type": "code",
   "execution_count": 155,
   "metadata": {},
   "outputs": [
    {
     "data": {
      "image/png": "[encoded data removed]",
      "text/plain": [
       "<Figure size 576x576 with 1 Axes>"
      ]
     },
     "metadata": {
      "needs_background": "light"
     },
     "output_type": "display_data"
    }
   ],
   "source": [
    "plt.figure(figsize=(8, 8))\n",
    "plt.plot(fprBase, tprBase, label= 'GBC Baseline (area = %0.2f)' % base_roc_auc)\n",
    "plt.plot(fprGBC, tprGBC, label= 'GBC Final (area = %0.2f)' % GBC_roc_auc)\n",
    "\n",
    "plt.plot([0, 1], [0, 1], 'r--')\n",
    "plt.xlim([0.0, 1.0])\n",
    "plt.ylim([0.0, 1.05])\n",
    "plt.xlabel('False Positive Rate')\n",
    "plt.ylabel('True Positive Rate')\n",
    "plt.title('Receiver Operating Characteristic')\n",
    "plt.legend(loc = 'lower right')\n",
    "plt.show()"
   ]
  },
  {
   "cell_type": "code",
   "execution_count": null,
   "metadata": {},
   "outputs": [],
   "source": []
  }
 ],
 "metadata": {
  "kernelspec": {
   "display_name": "Python 3",
   "language": "python",
   "name": "python3"
  },
  "language_info": {
   "codemirror_mode": {
    "name": "ipython",
    "version": 3
   },
   "file_extension": ".py",
   "mimetype": "text/x-python",
   "name": "python",
   "nbconvert_exporter": "python",
   "pygments_lexer": "ipython3",
   "version": "3.6.8"
  }
 },
 "nbformat": 4,
 "nbformat_minor": 2
}
